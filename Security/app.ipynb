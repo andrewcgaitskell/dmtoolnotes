{
 "cells": [
  {
   "cell_type": "code",
   "execution_count": 1,
   "id": "a6cc2ba3",
   "metadata": {},
   "outputs": [
    {
     "name": "stdout",
     "output_type": "stream",
     "text": [
      "Requirement already satisfied: flask_sqlalchemy in /home/andrewcgaitskell/.local/share/virtualenvs/flask-dance-github-r6UOUDeC/lib/python3.8/site-packages (2.5.1)\n",
      "Requirement already satisfied: Flask>=0.10 in /home/andrewcgaitskell/.local/share/virtualenvs/flask-dance-github-r6UOUDeC/lib/python3.8/site-packages (from flask_sqlalchemy) (2.1.2)\n",
      "Requirement already satisfied: SQLAlchemy>=0.8.0 in /home/andrewcgaitskell/.local/share/virtualenvs/flask-dance-github-r6UOUDeC/lib/python3.8/site-packages (from flask_sqlalchemy) (1.4.37)\n",
      "Requirement already satisfied: importlib-metadata>=3.6.0; python_version < \"3.10\" in /home/andrewcgaitskell/.local/share/virtualenvs/flask-dance-github-r6UOUDeC/lib/python3.8/site-packages (from Flask>=0.10->flask_sqlalchemy) (4.11.4)\n",
      "Requirement already satisfied: itsdangerous>=2.0 in /home/andrewcgaitskell/.local/share/virtualenvs/flask-dance-github-r6UOUDeC/lib/python3.8/site-packages (from Flask>=0.10->flask_sqlalchemy) (2.1.2)\n",
      "Requirement already satisfied: Werkzeug>=2.0 in /home/andrewcgaitskell/.local/share/virtualenvs/flask-dance-github-r6UOUDeC/lib/python3.8/site-packages (from Flask>=0.10->flask_sqlalchemy) (2.1.2)\n",
      "Requirement already satisfied: Jinja2>=3.0 in /home/andrewcgaitskell/.local/share/virtualenvs/flask-dance-github-r6UOUDeC/lib/python3.8/site-packages (from Flask>=0.10->flask_sqlalchemy) (3.1.2)\n",
      "Requirement already satisfied: click>=8.0 in /home/andrewcgaitskell/.local/share/virtualenvs/flask-dance-github-r6UOUDeC/lib/python3.8/site-packages (from Flask>=0.10->flask_sqlalchemy) (8.1.3)\n",
      "Requirement already satisfied: greenlet!=0.4.17; python_version >= \"3\" and (platform_machine == \"aarch64\" or (platform_machine == \"ppc64le\" or (platform_machine == \"x86_64\" or (platform_machine == \"amd64\" or (platform_machine == \"AMD64\" or (platform_machine == \"win32\" or platform_machine == \"WIN32\")))))) in /home/andrewcgaitskell/.local/share/virtualenvs/flask-dance-github-r6UOUDeC/lib/python3.8/site-packages (from SQLAlchemy>=0.8.0->flask_sqlalchemy) (1.1.2)\n",
      "Requirement already satisfied: zipp>=0.5 in /home/andrewcgaitskell/.local/share/virtualenvs/flask-dance-github-r6UOUDeC/lib/python3.8/site-packages (from importlib-metadata>=3.6.0; python_version < \"3.10\"->Flask>=0.10->flask_sqlalchemy) (3.8.0)\n",
      "Requirement already satisfied: MarkupSafe>=2.0 in /home/andrewcgaitskell/.local/share/virtualenvs/flask-dance-github-r6UOUDeC/lib/python3.8/site-packages (from Jinja2>=3.0->Flask>=0.10->flask_sqlalchemy) (2.1.1)\n",
      "Requirement already satisfied: flask_login in /home/andrewcgaitskell/.local/share/virtualenvs/flask-dance-github-r6UOUDeC/lib/python3.8/site-packages (0.6.1)\n",
      "Requirement already satisfied: Werkzeug>=1.0.1 in /home/andrewcgaitskell/.local/share/virtualenvs/flask-dance-github-r6UOUDeC/lib/python3.8/site-packages (from flask_login) (2.1.2)\n",
      "Requirement already satisfied: Flask>=1.0.4 in /home/andrewcgaitskell/.local/share/virtualenvs/flask-dance-github-r6UOUDeC/lib/python3.8/site-packages (from flask_login) (2.1.2)\n",
      "Requirement already satisfied: itsdangerous>=2.0 in /home/andrewcgaitskell/.local/share/virtualenvs/flask-dance-github-r6UOUDeC/lib/python3.8/site-packages (from Flask>=1.0.4->flask_login) (2.1.2)\n",
      "Requirement already satisfied: importlib-metadata>=3.6.0; python_version < \"3.10\" in /home/andrewcgaitskell/.local/share/virtualenvs/flask-dance-github-r6UOUDeC/lib/python3.8/site-packages (from Flask>=1.0.4->flask_login) (4.11.4)\n",
      "Requirement already satisfied: Jinja2>=3.0 in /home/andrewcgaitskell/.local/share/virtualenvs/flask-dance-github-r6UOUDeC/lib/python3.8/site-packages (from Flask>=1.0.4->flask_login) (3.1.2)\n",
      "Requirement already satisfied: click>=8.0 in /home/andrewcgaitskell/.local/share/virtualenvs/flask-dance-github-r6UOUDeC/lib/python3.8/site-packages (from Flask>=1.0.4->flask_login) (8.1.3)\n",
      "Requirement already satisfied: zipp>=0.5 in /home/andrewcgaitskell/.local/share/virtualenvs/flask-dance-github-r6UOUDeC/lib/python3.8/site-packages (from importlib-metadata>=3.6.0; python_version < \"3.10\"->Flask>=1.0.4->flask_login) (3.8.0)\n",
      "Requirement already satisfied: MarkupSafe>=2.0 in /home/andrewcgaitskell/.local/share/virtualenvs/flask-dance-github-r6UOUDeC/lib/python3.8/site-packages (from Jinja2>=3.0->Flask>=1.0.4->flask_login) (2.1.1)\n",
      "Requirement already satisfied: flask_user in /home/andrewcgaitskell/.local/share/virtualenvs/flask-dance-github-r6UOUDeC/lib/python3.8/site-packages (1.0.2.2)\n",
      "Requirement already satisfied: passlib>=1.7 in /home/andrewcgaitskell/.local/share/virtualenvs/flask-dance-github-r6UOUDeC/lib/python3.8/site-packages (from flask_user) (1.7.4)\n",
      "Requirement already satisfied: Flask-Login>=0.2 in /home/andrewcgaitskell/.local/share/virtualenvs/flask-dance-github-r6UOUDeC/lib/python3.8/site-packages (from flask_user) (0.6.1)\n",
      "Requirement already satisfied: Flask>=0.9 in /home/andrewcgaitskell/.local/share/virtualenvs/flask-dance-github-r6UOUDeC/lib/python3.8/site-packages (from flask_user) (2.1.2)\n",
      "Requirement already satisfied: cryptography>=1.6 in /home/andrewcgaitskell/.local/share/virtualenvs/flask-dance-github-r6UOUDeC/lib/python3.8/site-packages (from flask_user) (37.0.2)\n",
      "Requirement already satisfied: Flask-WTF>=0.9 in /home/andrewcgaitskell/.local/share/virtualenvs/flask-dance-github-r6UOUDeC/lib/python3.8/site-packages (from flask_user) (1.0.1)\n",
      "Requirement already satisfied: Flask-SQLAlchemy>=1.0 in /home/andrewcgaitskell/.local/share/virtualenvs/flask-dance-github-r6UOUDeC/lib/python3.8/site-packages (from flask_user) (2.5.1)\n",
      "Requirement already satisfied: bcrypt>=2.0 in /home/andrewcgaitskell/.local/share/virtualenvs/flask-dance-github-r6UOUDeC/lib/python3.8/site-packages (from flask_user) (3.2.2)\n",
      "Requirement already satisfied: Flask-Mail>=0.9 in /home/andrewcgaitskell/.local/share/virtualenvs/flask-dance-github-r6UOUDeC/lib/python3.8/site-packages (from flask_user) (0.9.1)\n",
      "Requirement already satisfied: Werkzeug>=1.0.1 in /home/andrewcgaitskell/.local/share/virtualenvs/flask-dance-github-r6UOUDeC/lib/python3.8/site-packages (from Flask-Login>=0.2->flask_user) (2.1.2)\n",
      "Requirement already satisfied: Jinja2>=3.0 in /home/andrewcgaitskell/.local/share/virtualenvs/flask-dance-github-r6UOUDeC/lib/python3.8/site-packages (from Flask>=0.9->flask_user) (3.1.2)\n",
      "Requirement already satisfied: click>=8.0 in /home/andrewcgaitskell/.local/share/virtualenvs/flask-dance-github-r6UOUDeC/lib/python3.8/site-packages (from Flask>=0.9->flask_user) (8.1.3)\n",
      "Requirement already satisfied: itsdangerous>=2.0 in /home/andrewcgaitskell/.local/share/virtualenvs/flask-dance-github-r6UOUDeC/lib/python3.8/site-packages (from Flask>=0.9->flask_user) (2.1.2)\n",
      "Requirement already satisfied: importlib-metadata>=3.6.0; python_version < \"3.10\" in /home/andrewcgaitskell/.local/share/virtualenvs/flask-dance-github-r6UOUDeC/lib/python3.8/site-packages (from Flask>=0.9->flask_user) (4.11.4)\n",
      "Requirement already satisfied: cffi>=1.12 in /home/andrewcgaitskell/.local/share/virtualenvs/flask-dance-github-r6UOUDeC/lib/python3.8/site-packages (from cryptography>=1.6->flask_user) (1.15.0)\n",
      "Requirement already satisfied: WTForms in /home/andrewcgaitskell/.local/share/virtualenvs/flask-dance-github-r6UOUDeC/lib/python3.8/site-packages (from Flask-WTF>=0.9->flask_user) (3.0.1)\n",
      "Requirement already satisfied: SQLAlchemy>=0.8.0 in /home/andrewcgaitskell/.local/share/virtualenvs/flask-dance-github-r6UOUDeC/lib/python3.8/site-packages (from Flask-SQLAlchemy>=1.0->flask_user) (1.4.37)\n",
      "Requirement already satisfied: blinker in /home/andrewcgaitskell/.local/share/virtualenvs/flask-dance-github-r6UOUDeC/lib/python3.8/site-packages (from Flask-Mail>=0.9->flask_user) (1.4)\n",
      "Requirement already satisfied: MarkupSafe>=2.0 in /home/andrewcgaitskell/.local/share/virtualenvs/flask-dance-github-r6UOUDeC/lib/python3.8/site-packages (from Jinja2>=3.0->Flask>=0.9->flask_user) (2.1.1)\n",
      "Requirement already satisfied: zipp>=0.5 in /home/andrewcgaitskell/.local/share/virtualenvs/flask-dance-github-r6UOUDeC/lib/python3.8/site-packages (from importlib-metadata>=3.6.0; python_version < \"3.10\"->Flask>=0.9->flask_user) (3.8.0)\n",
      "Requirement already satisfied: pycparser in /home/andrewcgaitskell/.local/share/virtualenvs/flask-dance-github-r6UOUDeC/lib/python3.8/site-packages (from cffi>=1.12->cryptography>=1.6->flask_user) (2.21)\n",
      "Requirement already satisfied: greenlet!=0.4.17; python_version >= \"3\" and (platform_machine == \"aarch64\" or (platform_machine == \"ppc64le\" or (platform_machine == \"x86_64\" or (platform_machine == \"amd64\" or (platform_machine == \"AMD64\" or (platform_machine == \"win32\" or platform_machine == \"WIN32\")))))) in /home/andrewcgaitskell/.local/share/virtualenvs/flask-dance-github-r6UOUDeC/lib/python3.8/site-packages (from SQLAlchemy>=0.8.0->Flask-SQLAlchemy>=1.0->flask_user) (1.1.2)\n"
     ]
    },
    {
     "name": "stdout",
     "output_type": "stream",
     "text": [
      "Requirement already satisfied: pandas in /home/andrewcgaitskell/.local/share/virtualenvs/flask-dance-github-r6UOUDeC/lib/python3.8/site-packages (1.4.2)\n",
      "Requirement already satisfied: numpy>=1.18.5; platform_machine != \"aarch64\" and platform_machine != \"arm64\" and python_version < \"3.10\" in /home/andrewcgaitskell/.local/share/virtualenvs/flask-dance-github-r6UOUDeC/lib/python3.8/site-packages (from pandas) (1.22.4)\n",
      "Requirement already satisfied: python-dateutil>=2.8.1 in /home/andrewcgaitskell/.local/share/virtualenvs/flask-dance-github-r6UOUDeC/lib/python3.8/site-packages (from pandas) (2.8.2)\n",
      "Requirement already satisfied: pytz>=2020.1 in /home/andrewcgaitskell/.local/share/virtualenvs/flask-dance-github-r6UOUDeC/lib/python3.8/site-packages (from pandas) (2022.1)\n",
      "Requirement already satisfied: six>=1.5 in /home/andrewcgaitskell/.local/share/virtualenvs/flask-dance-github-r6UOUDeC/lib/python3.8/site-packages (from python-dateutil>=2.8.1->pandas) (1.16.0)\n",
      "Requirement already satisfied: jupyter-dash in /home/andrewcgaitskell/.local/share/virtualenvs/flask-dance-github-r6UOUDeC/lib/python3.8/site-packages (0.4.2)\n",
      "Requirement already satisfied: flask in /home/andrewcgaitskell/.local/share/virtualenvs/flask-dance-github-r6UOUDeC/lib/python3.8/site-packages (from jupyter-dash) (2.1.2)\n",
      "Requirement already satisfied: dash in /home/andrewcgaitskell/.local/share/virtualenvs/flask-dance-github-r6UOUDeC/lib/python3.8/site-packages (from jupyter-dash) (2.4.1)\n",
      "Requirement already satisfied: ipykernel in /home/andrewcgaitskell/.local/share/virtualenvs/flask-dance-github-r6UOUDeC/lib/python3.8/site-packages (from jupyter-dash) (6.13.0)\n",
      "Requirement already satisfied: nest-asyncio in /home/andrewcgaitskell/.local/share/virtualenvs/flask-dance-github-r6UOUDeC/lib/python3.8/site-packages (from jupyter-dash) (1.5.5)\n",
      "Requirement already satisfied: requests in /home/andrewcgaitskell/.local/share/virtualenvs/flask-dance-github-r6UOUDeC/lib/python3.8/site-packages (from jupyter-dash) (2.27.1)\n",
      "Requirement already satisfied: ipython in /home/andrewcgaitskell/.local/share/virtualenvs/flask-dance-github-r6UOUDeC/lib/python3.8/site-packages (from jupyter-dash) (8.4.0)\n",
      "Requirement already satisfied: ansi2html in /home/andrewcgaitskell/.local/share/virtualenvs/flask-dance-github-r6UOUDeC/lib/python3.8/site-packages (from jupyter-dash) (1.7.0)\n",
      "Requirement already satisfied: retrying in /home/andrewcgaitskell/.local/share/virtualenvs/flask-dance-github-r6UOUDeC/lib/python3.8/site-packages (from jupyter-dash) (1.3.3)\n",
      "Requirement already satisfied: importlib-metadata>=3.6.0; python_version < \"3.10\" in /home/andrewcgaitskell/.local/share/virtualenvs/flask-dance-github-r6UOUDeC/lib/python3.8/site-packages (from flask->jupyter-dash) (4.11.4)\n",
      "Requirement already satisfied: Werkzeug>=2.0 in /home/andrewcgaitskell/.local/share/virtualenvs/flask-dance-github-r6UOUDeC/lib/python3.8/site-packages (from flask->jupyter-dash) (2.1.2)\n",
      "Requirement already satisfied: click>=8.0 in /home/andrewcgaitskell/.local/share/virtualenvs/flask-dance-github-r6UOUDeC/lib/python3.8/site-packages (from flask->jupyter-dash) (8.1.3)\n",
      "Requirement already satisfied: itsdangerous>=2.0 in /home/andrewcgaitskell/.local/share/virtualenvs/flask-dance-github-r6UOUDeC/lib/python3.8/site-packages (from flask->jupyter-dash) (2.1.2)\n",
      "Requirement already satisfied: Jinja2>=3.0 in /home/andrewcgaitskell/.local/share/virtualenvs/flask-dance-github-r6UOUDeC/lib/python3.8/site-packages (from flask->jupyter-dash) (3.1.2)\n",
      "Requirement already satisfied: dash-core-components==2.0.0 in /home/andrewcgaitskell/.local/share/virtualenvs/flask-dance-github-r6UOUDeC/lib/python3.8/site-packages (from dash->jupyter-dash) (2.0.0)\n",
      "Requirement already satisfied: dash-html-components==2.0.0 in /home/andrewcgaitskell/.local/share/virtualenvs/flask-dance-github-r6UOUDeC/lib/python3.8/site-packages (from dash->jupyter-dash) (2.0.0)\n",
      "Requirement already satisfied: plotly>=5.0.0 in /home/andrewcgaitskell/.local/share/virtualenvs/flask-dance-github-r6UOUDeC/lib/python3.8/site-packages (from dash->jupyter-dash) (5.8.0)\n",
      "Requirement already satisfied: flask-compress in /home/andrewcgaitskell/.local/share/virtualenvs/flask-dance-github-r6UOUDeC/lib/python3.8/site-packages (from dash->jupyter-dash) (1.12)\n",
      "Requirement already satisfied: dash-table==5.0.0 in /home/andrewcgaitskell/.local/share/virtualenvs/flask-dance-github-r6UOUDeC/lib/python3.8/site-packages (from dash->jupyter-dash) (5.0.0)\n",
      "Requirement already satisfied: jupyter-client>=6.1.12 in /home/andrewcgaitskell/.local/share/virtualenvs/flask-dance-github-r6UOUDeC/lib/python3.8/site-packages (from ipykernel->jupyter-dash) (7.3.2)\n",
      "Requirement already satisfied: psutil in /home/andrewcgaitskell/.local/share/virtualenvs/flask-dance-github-r6UOUDeC/lib/python3.8/site-packages (from ipykernel->jupyter-dash) (5.9.1)\n",
      "Requirement already satisfied: packaging in /home/andrewcgaitskell/.local/share/virtualenvs/flask-dance-github-r6UOUDeC/lib/python3.8/site-packages (from ipykernel->jupyter-dash) (21.3)\n",
      "Requirement already satisfied: debugpy>=1.0 in /home/andrewcgaitskell/.local/share/virtualenvs/flask-dance-github-r6UOUDeC/lib/python3.8/site-packages (from ipykernel->jupyter-dash) (1.6.0)\n",
      "Requirement already satisfied: tornado>=6.1 in /home/andrewcgaitskell/.local/share/virtualenvs/flask-dance-github-r6UOUDeC/lib/python3.8/site-packages (from ipykernel->jupyter-dash) (6.1)\n",
      "Requirement already satisfied: traitlets>=5.1.0 in /home/andrewcgaitskell/.local/share/virtualenvs/flask-dance-github-r6UOUDeC/lib/python3.8/site-packages (from ipykernel->jupyter-dash) (5.2.2.post1)\n",
      "Requirement already satisfied: matplotlib-inline>=0.1 in /home/andrewcgaitskell/.local/share/virtualenvs/flask-dance-github-r6UOUDeC/lib/python3.8/site-packages (from ipykernel->jupyter-dash) (0.1.3)\n",
      "Requirement already satisfied: charset-normalizer~=2.0.0; python_version >= \"3\" in /home/andrewcgaitskell/.local/share/virtualenvs/flask-dance-github-r6UOUDeC/lib/python3.8/site-packages (from requests->jupyter-dash) (2.0.12)\n",
      "Requirement already satisfied: certifi>=2017.4.17 in /home/andrewcgaitskell/.local/share/virtualenvs/flask-dance-github-r6UOUDeC/lib/python3.8/site-packages (from requests->jupyter-dash) (2022.5.18.1)\n",
      "Requirement already satisfied: idna<4,>=2.5; python_version >= \"3\" in /home/andrewcgaitskell/.local/share/virtualenvs/flask-dance-github-r6UOUDeC/lib/python3.8/site-packages (from requests->jupyter-dash) (3.3)\n",
      "Requirement already satisfied: urllib3<1.27,>=1.21.1 in /home/andrewcgaitskell/.local/share/virtualenvs/flask-dance-github-r6UOUDeC/lib/python3.8/site-packages (from requests->jupyter-dash) (1.26.9)\n",
      "Requirement already satisfied: pygments>=2.4.0 in /home/andrewcgaitskell/.local/share/virtualenvs/flask-dance-github-r6UOUDeC/lib/python3.8/site-packages (from ipython->jupyter-dash) (2.12.0)\n",
      "Requirement already satisfied: jedi>=0.16 in /home/andrewcgaitskell/.local/share/virtualenvs/flask-dance-github-r6UOUDeC/lib/python3.8/site-packages (from ipython->jupyter-dash) (0.18.1)\n",
      "Requirement already satisfied: backcall in /home/andrewcgaitskell/.local/share/virtualenvs/flask-dance-github-r6UOUDeC/lib/python3.8/site-packages (from ipython->jupyter-dash) (0.2.0)\n",
      "Requirement already satisfied: setuptools>=18.5 in /home/andrewcgaitskell/.local/share/virtualenvs/flask-dance-github-r6UOUDeC/lib/python3.8/site-packages (from ipython->jupyter-dash) (44.0.0)\n",
      "Requirement already satisfied: pickleshare in /home/andrewcgaitskell/.local/share/virtualenvs/flask-dance-github-r6UOUDeC/lib/python3.8/site-packages (from ipython->jupyter-dash) (0.7.5)\n",
      "Requirement already satisfied: prompt-toolkit!=3.0.0,!=3.0.1,<3.1.0,>=2.0.0 in /home/andrewcgaitskell/.local/share/virtualenvs/flask-dance-github-r6UOUDeC/lib/python3.8/site-packages (from ipython->jupyter-dash) (3.0.29)\n",
      "Requirement already satisfied: decorator in /home/andrewcgaitskell/.local/share/virtualenvs/flask-dance-github-r6UOUDeC/lib/python3.8/site-packages (from ipython->jupyter-dash) (5.1.1)\n",
      "Requirement already satisfied: stack-data in /home/andrewcgaitskell/.local/share/virtualenvs/flask-dance-github-r6UOUDeC/lib/python3.8/site-packages (from ipython->jupyter-dash) (0.2.0)\n",
      "Requirement already satisfied: pexpect>4.3; sys_platform != \"win32\" in /home/andrewcgaitskell/.local/share/virtualenvs/flask-dance-github-r6UOUDeC/lib/python3.8/site-packages (from ipython->jupyter-dash) (4.8.0)\n",
      "Requirement already satisfied: six>=1.7.0 in /home/andrewcgaitskell/.local/share/virtualenvs/flask-dance-github-r6UOUDeC/lib/python3.8/site-packages (from retrying->jupyter-dash) (1.16.0)\n",
      "Requirement already satisfied: zipp>=0.5 in /home/andrewcgaitskell/.local/share/virtualenvs/flask-dance-github-r6UOUDeC/lib/python3.8/site-packages (from importlib-metadata>=3.6.0; python_version < \"3.10\"->flask->jupyter-dash) (3.8.0)\n",
      "Requirement already satisfied: MarkupSafe>=2.0 in /home/andrewcgaitskell/.local/share/virtualenvs/flask-dance-github-r6UOUDeC/lib/python3.8/site-packages (from Jinja2>=3.0->flask->jupyter-dash) (2.1.1)\n",
      "Requirement already satisfied: tenacity>=6.2.0 in /home/andrewcgaitskell/.local/share/virtualenvs/flask-dance-github-r6UOUDeC/lib/python3.8/site-packages (from plotly>=5.0.0->dash->jupyter-dash) (8.0.1)\n",
      "Requirement already satisfied: brotli in /home/andrewcgaitskell/.local/share/virtualenvs/flask-dance-github-r6UOUDeC/lib/python3.8/site-packages (from flask-compress->dash->jupyter-dash) (1.0.9)\n",
      "Requirement already satisfied: python-dateutil>=2.8.2 in /home/andrewcgaitskell/.local/share/virtualenvs/flask-dance-github-r6UOUDeC/lib/python3.8/site-packages (from jupyter-client>=6.1.12->ipykernel->jupyter-dash) (2.8.2)\n",
      "Requirement already satisfied: pyzmq>=23.0 in /home/andrewcgaitskell/.local/share/virtualenvs/flask-dance-github-r6UOUDeC/lib/python3.8/site-packages (from jupyter-client>=6.1.12->ipykernel->jupyter-dash) (23.1.0)\n"
     ]
    },
    {
     "name": "stdout",
     "output_type": "stream",
     "text": [
      "Requirement already satisfied: entrypoints in /home/andrewcgaitskell/.local/share/virtualenvs/flask-dance-github-r6UOUDeC/lib/python3.8/site-packages (from jupyter-client>=6.1.12->ipykernel->jupyter-dash) (0.4)\n",
      "Requirement already satisfied: jupyter-core>=4.9.2 in /home/andrewcgaitskell/.local/share/virtualenvs/flask-dance-github-r6UOUDeC/lib/python3.8/site-packages (from jupyter-client>=6.1.12->ipykernel->jupyter-dash) (4.10.0)\n",
      "Requirement already satisfied: pyparsing!=3.0.5,>=2.0.2 in /home/andrewcgaitskell/.local/share/virtualenvs/flask-dance-github-r6UOUDeC/lib/python3.8/site-packages (from packaging->ipykernel->jupyter-dash) (3.0.9)\n",
      "Requirement already satisfied: parso<0.9.0,>=0.8.0 in /home/andrewcgaitskell/.local/share/virtualenvs/flask-dance-github-r6UOUDeC/lib/python3.8/site-packages (from jedi>=0.16->ipython->jupyter-dash) (0.8.3)\n",
      "Requirement already satisfied: wcwidth in /home/andrewcgaitskell/.local/share/virtualenvs/flask-dance-github-r6UOUDeC/lib/python3.8/site-packages (from prompt-toolkit!=3.0.0,!=3.0.1,<3.1.0,>=2.0.0->ipython->jupyter-dash) (0.2.5)\n",
      "Requirement already satisfied: pure-eval in /home/andrewcgaitskell/.local/share/virtualenvs/flask-dance-github-r6UOUDeC/lib/python3.8/site-packages (from stack-data->ipython->jupyter-dash) (0.2.2)\n",
      "Requirement already satisfied: asttokens in /home/andrewcgaitskell/.local/share/virtualenvs/flask-dance-github-r6UOUDeC/lib/python3.8/site-packages (from stack-data->ipython->jupyter-dash) (2.0.5)\n",
      "Requirement already satisfied: executing in /home/andrewcgaitskell/.local/share/virtualenvs/flask-dance-github-r6UOUDeC/lib/python3.8/site-packages (from stack-data->ipython->jupyter-dash) (0.8.3)\n",
      "Requirement already satisfied: ptyprocess>=0.5 in /home/andrewcgaitskell/.local/share/virtualenvs/flask-dance-github-r6UOUDeC/lib/python3.8/site-packages (from pexpect>4.3; sys_platform != \"win32\"->ipython->jupyter-dash) (0.7.0)\n",
      "Requirement already satisfied: email_validator in /home/andrewcgaitskell/.local/share/virtualenvs/flask-dance-github-r6UOUDeC/lib/python3.8/site-packages (1.2.1)\n",
      "Requirement already satisfied: idna>=2.0.0 in /home/andrewcgaitskell/.local/share/virtualenvs/flask-dance-github-r6UOUDeC/lib/python3.8/site-packages (from email_validator) (3.3)\n",
      "Requirement already satisfied: dnspython>=1.15.0 in /home/andrewcgaitskell/.local/share/virtualenvs/flask-dance-github-r6UOUDeC/lib/python3.8/site-packages (from email_validator) (2.2.1)\n",
      "Requirement already satisfied: wtforms in /home/andrewcgaitskell/.local/share/virtualenvs/flask-dance-github-r6UOUDeC/lib/python3.8/site-packages (3.0.1)\n",
      "Requirement already satisfied: MarkupSafe in /home/andrewcgaitskell/.local/share/virtualenvs/flask-dance-github-r6UOUDeC/lib/python3.8/site-packages (from wtforms) (2.1.1)\n"
     ]
    }
   ],
   "source": [
    "!pip install flask_sqlalchemy\n",
    "!pip install flask_login\n",
    "!pip install flask_user\n",
    "\n",
    "!pip install pandas\n",
    "!pip install jupyter-dash\n",
    "\n",
    "!pip install email_validator\n",
    "\n",
    "!pip install wtforms"
   ]
  },
  {
   "cell_type": "code",
   "execution_count": 2,
   "id": "22518aa6",
   "metadata": {},
   "outputs": [],
   "source": [
    "from wtforms import Form, StringField, PasswordField, validators, ValidationError\n",
    "from wtforms.validators import InputRequired, Email, email_validator\n",
    "#from wtforms.fields.html5 import EmailField\n",
    "from wtforms.widgets import TextArea"
   ]
  },
  {
   "cell_type": "code",
   "execution_count": 3,
   "id": "3f4681b2",
   "metadata": {
    "scrolled": true
   },
   "outputs": [],
   "source": [
    "from flask import Flask, render_template_string, Blueprint\n",
    "\n",
    "from flask import g, request, redirect, url_for\n",
    "\n",
    "\n",
    "from flask_sqlalchemy import SQLAlchemy\n",
    "\n",
    "from flask_login import LoginManager, login_user\n",
    "\n",
    "from flask_user import login_required, UserManager, UserMixin\n",
    "\n",
    "from functools import wraps\n",
    "\n",
    "from jupyter_dash import JupyterDash\n",
    "\n",
    "import dash\n",
    "from dash import dcc\n",
    "from dash import html\n",
    "import pandas as pd\n"
   ]
  },
  {
   "cell_type": "code",
   "execution_count": 4,
   "id": "961ced9d",
   "metadata": {},
   "outputs": [],
   "source": [
    "# This file contains an example Flask-User application.\n",
    "# To keep the example simple, we are applying some unusual techniques:\n",
    "# - Placing everything in one file\n",
    "# - Using class-based configuration (instead of file-based configuration)\n",
    "# - Using string-based templates (instead of file-based templates)\n",
    "\n",
    "from flask import Flask, render_template_string\n",
    "from flask_sqlalchemy import SQLAlchemy\n",
    "from flask_user import login_required, UserManager, UserMixin"
   ]
  },
  {
   "cell_type": "code",
   "execution_count": 5,
   "id": "bcfb1412",
   "metadata": {},
   "outputs": [
    {
     "data": {
      "text/plain": [
       "'/home/andrewcgaitskell/Documents/Code/flask-dance-github/flask-login-dash'"
      ]
     },
     "execution_count": 5,
     "metadata": {},
     "output_type": "execute_result"
    }
   ],
   "source": [
    "import os\n",
    "cwd = os.getcwd()\n",
    "cwd"
   ]
  },
  {
   "cell_type": "code",
   "execution_count": 6,
   "id": "1e58c1db",
   "metadata": {},
   "outputs": [],
   "source": [
    "# Class-based application configuration\n",
    "class ConfigClass(object):\n",
    "    \"\"\" Flask application config \"\"\"\n",
    "\n",
    "    # Flask settings\n",
    "    SECRET_KEY = 'thisissecret'\n",
    "\n",
    "    #server.config['SQLALCHEMY_DATABASE_URI'] = 'sqlite:///' + cwd + '/login.db'\n",
    "    #server.config['SECRET_KEY'] = 'thisissecret'\n",
    "    \n",
    "    # Flask-SQLAlchemy settings\n",
    "    SQLALCHEMY_DATABASE_URI = 'sqlite:///' + cwd + '/login.db'    # File-based SQL database\n",
    "    SQLALCHEMY_TRACK_MODIFICATIONS = False    # Avoids SQLAlchemy warning\n",
    "\n",
    "    # Flask-User settings\n",
    "    USER_APP_NAME = \"Flask-User QuickStart App\"      # Shown in and email templates and page footers\n",
    "    USER_ENABLE_EMAIL = False      # Disable email authentication\n",
    "    USER_ENABLE_USERNAME = True    # Enable username authentication\n",
    "    USER_REQUIRE_RETYPE_PASSWORD = False    # Simplify register form\n"
   ]
  },
  {
   "cell_type": "markdown",
   "id": "15ea3dd1",
   "metadata": {},
   "source": [
    "#app_flask = Flask(__name__)\n",
    "\n",
    "external_stylesheets = ['https://codepen.io/chriddyp/pen/bWLwgP.css']\n",
    "\n",
    "#app_dash = JupyterDash(__name__, external_stylesheets=external_stylesheets, url_base_pathname='/dash/')\n",
    "\n",
    "# Create server variable with Flask server object for use with gunicorn\n",
    "server = app_dash.server\n"
   ]
  },
  {
   "cell_type": "code",
   "execution_count": 7,
   "id": "28f03ff1",
   "metadata": {},
   "outputs": [],
   "source": [
    "\n",
    "\n",
    "def create_app():\n",
    "    \"\"\" Flask application factory \"\"\"\n",
    "    external_stylesheets = ['https://codepen.io/chriddyp/pen/bWLwgP.css']\n",
    "    # Create Flask app load app.config\n",
    "    app = JupyterDash(__name__, serve_locally = False, external_stylesheets=external_stylesheets, url_base_pathname='/dash/')\n",
    "    server = app.server\n",
    "    \n",
    "    server.config.from_object(__name__+'.ConfigClass')\n",
    "\n",
    "    # Initialize Flask-SQLAlchemy\n",
    "    db = SQLAlchemy(server)\n",
    "\n",
    "    # Define the User data-model.\n",
    "    # NB: Make sure to add flask_user UserMixin !!!\n",
    "    class User(db.Model, UserMixin):\n",
    "        __tablename__ = 'users'\n",
    "        id = db.Column(db.Integer, primary_key=True)\n",
    "        active = db.Column('is_active', db.Boolean(), nullable=False, server_default='1')\n",
    "\n",
    "        # User authentication information. The collation='NOCASE' is required\n",
    "        # to search case insensitively when USER_IFIND_MODE is 'nocase_collation'.\n",
    "        username = db.Column(db.String(100, collation='NOCASE'), nullable=False, unique=True)\n",
    "        password = db.Column(db.String(255), nullable=False, server_default='')\n",
    "        email_confirmed_at = db.Column(db.DateTime())\n",
    "\n",
    "        # User information\n",
    "        first_name = db.Column(db.String(100, collation='NOCASE'), nullable=False, server_default='')\n",
    "        last_name = db.Column(db.String(100, collation='NOCASE'), nullable=False, server_default='')\n",
    "\n",
    "    # Create all database tables\n",
    "    db.create_all()\n",
    "\n",
    "    # Setup Flask-User and specify the User data-model\n",
    "    user_manager = UserManager(server, db, User)\n",
    "\n",
    "    # The Home page is accessible to anyone\n",
    "    @server.route('/')\n",
    "    def home_page():\n",
    "        # String-based templates\n",
    "        return render_template_string(\"\"\"\n",
    "            {% extends \"flask_user_layout.html\" %}\n",
    "            {% block content %}\n",
    "                <h2>Home page</h2>\n",
    "                <p><a href={{ url_for('user.register') }}>Register</a></p>\n",
    "                <p><a href={{ url_for('user.login') }}>Sign in</a></p>\n",
    "                <p><a href={{ url_for('home_page') }}>Home page</a> (accessible to anyone)</p>\n",
    "                <p><a href={{ url_for('member_page') }}>Member page</a> (login required)</p>\n",
    "                <p><a href={{ url_for('user.logout') }}>Sign out</a></p>\n",
    "            {% endblock %}\n",
    "            \"\"\")\n",
    "\n",
    "    # The Members page is only accessible to authenticated users via the @login_required decorator\n",
    "    @server.route('/members')\n",
    "    @login_required    # User must be authenticated\n",
    "    def member_page():\n",
    "        # String-based templates\n",
    "        return render_template_string(\"\"\"\n",
    "            {% extends \"flask_user_layout.html\" %}\n",
    "            {% block content %}\n",
    "                <h2>Members page</h2>\n",
    "                <p><a href={{ url_for('user.register') }}>Register</a></p>\n",
    "                <p><a href={{ url_for('user.login') }}>Sign in</a></p>\n",
    "                <p><a href={{ url_for('home_page') }}>Home page</a> (accessible to anyone)</p>\n",
    "                <p><a href={{ url_for('member_page') }}>Member page</a> (login required)</p>\n",
    "                <p><a href={{ url_for('user.logout') }}>Sign out</a></p>\n",
    "            {% endblock %}\n",
    "            \"\"\")\n",
    "\n",
    "    return app, server\n",
    "\n"
   ]
  },
  {
   "cell_type": "code",
   "execution_count": null,
   "id": "459f9325",
   "metadata": {},
   "outputs": [],
   "source": []
  },
  {
   "cell_type": "code",
   "execution_count": null,
   "id": "c68731fa",
   "metadata": {},
   "outputs": [],
   "source": []
  },
  {
   "cell_type": "code",
   "execution_count": null,
   "id": "e1455605",
   "metadata": {},
   "outputs": [],
   "source": []
  },
  {
   "cell_type": "code",
   "execution_count": 8,
   "id": "4f173896",
   "metadata": {},
   "outputs": [],
   "source": [
    "#login_manager = LoginManager()\n",
    "#login_manager.init_app(server)"
   ]
  },
  {
   "cell_type": "markdown",
   "id": "28e97801",
   "metadata": {},
   "source": [
    "\n",
    "\n",
    "@login_manager.user_loader\n",
    "def load_user(user_id):\n",
    "    return User.query.get(int(user_id))\n",
    "\n",
    "@server.route('/')\n",
    "def index():\n",
    "    user = User.query.filter_by(username='admin').first()\n",
    "    login_user(user)\n",
    "    return 'You are now logged in!'\n",
    "\n",
    "@server.route('/logout')\n",
    "@login_required\n",
    "def logout():\n",
    "    logout_user()\n",
    "    return 'You are now logged out!'\n",
    "\n",
    "@server.route('/home')\n",
    "@login_required\n",
    "def home():\n",
    "    return 'The current FLASK user is ' + current_user.username\n"
   ]
  },
  {
   "cell_type": "code",
   "execution_count": 9,
   "id": "08c7e1f9",
   "metadata": {},
   "outputs": [
    {
     "name": "stdout",
     "output_type": "stream",
     "text": [
      "WARNING: Flask-User TokenManager: SECRET_KEY is shorter than 32 bytes.\n"
     ]
    }
   ],
   "source": [
    "app, server = create_app()"
   ]
  },
  {
   "cell_type": "code",
   "execution_count": 10,
   "id": "6d64ee71",
   "metadata": {},
   "outputs": [],
   "source": [
    "def protect_dashviews(dash_app):\n",
    "    for view_func in dash_app.server.view_functions:\n",
    "        if view_func.startswith(dash_app.config.url_base_pathname):\n",
    "            dash_app.server.view_functions[view_func] = login_required(dash_app.server.view_functions[view_func])"
   ]
  },
  {
   "cell_type": "code",
   "execution_count": 11,
   "id": "ed7cb8c0",
   "metadata": {},
   "outputs": [],
   "source": [
    "\n",
    "# TODO how to add login_required for dash? \n",
    "#app_dash = Dash(server=app_flask, url_base_pathname='/dash/')\n",
    "##app.layout = html.H1('MY DASH APP')\n",
    "\n",
    "\n",
    "app.layout = html.Div(children=[\n",
    "    html.H1(children='Hello Dash'),\n",
    "\n",
    "    html.Div(children='''\n",
    "        Dash: A web application framework for your data.\n",
    "    '''),\n",
    "])\n"
   ]
  },
  {
   "cell_type": "code",
   "execution_count": 12,
   "id": "103df22d",
   "metadata": {},
   "outputs": [],
   "source": [
    "#server.view_function"
   ]
  },
  {
   "cell_type": "code",
   "execution_count": 13,
   "id": "7c99e3fd",
   "metadata": {},
   "outputs": [],
   "source": [
    "#app.run_server(debug=True)"
   ]
  },
  {
   "cell_type": "code",
   "execution_count": 14,
   "id": "c18c269c",
   "metadata": {},
   "outputs": [],
   "source": [
    "protect_dashviews(app)"
   ]
  },
  {
   "cell_type": "code",
   "execution_count": null,
   "id": "01ab28ef",
   "metadata": {},
   "outputs": [
    {
     "name": "stdout",
     "output_type": "stream",
     "text": [
      " * Serving Flask app '__main__' (lazy loading)\n",
      " * Environment: production\n",
      "\u001b[31m   WARNING: This is a development server. Do not use it in a production deployment.\u001b[0m\n",
      "\u001b[2m   Use a production WSGI server instead.\u001b[0m\n",
      " * Debug mode: off\n"
     ]
    },
    {
     "name": "stderr",
     "output_type": "stream",
     "text": [
      " * Running on http://localhost:5000 (Press CTRL+C to quit)\n",
      "127.0.0.1 - - [06/Jun/2022 18:26:11] \"GET / HTTP/1.1\" 200 -\n",
      "127.0.0.1 - - [06/Jun/2022 18:26:22] \"GET /dash/ HTTP/1.1\" 200 -\n",
      "127.0.0.1 - - [06/Jun/2022 18:26:24] \"GET /dash/_favicon.ico?v=2.4.1 HTTP/1.1\" 200 -\n",
      "127.0.0.1 - - [06/Jun/2022 18:26:24] \"GET /dash/_dash-layout HTTP/1.1\" 200 -\n",
      "127.0.0.1 - - [06/Jun/2022 18:26:24] \"GET /dash/_dash-dependencies HTTP/1.1\" 200 -\n",
      "127.0.0.1 - - [06/Jun/2022 18:26:32] \"GET / HTTP/1.1\" 200 -\n",
      "127.0.0.1 - - [06/Jun/2022 18:26:35] \"\u001b[32mGET /user/sign-out HTTP/1.1\u001b[0m\" 302 -\n",
      "127.0.0.1 - - [06/Jun/2022 18:26:35] \"GET / HTTP/1.1\" 200 -\n",
      "127.0.0.1 - - [06/Jun/2022 18:26:44] \"\u001b[32mGET /dash/ HTTP/1.1\u001b[0m\" 302 -\n",
      "127.0.0.1 - - [06/Jun/2022 18:26:44] \"GET /user/sign-in?next=/dash/ HTTP/1.1\" 200 -\n",
      "127.0.0.1 - - [06/Jun/2022 18:26:53] \"\u001b[32mPOST /user/sign-in?next=/dash/ HTTP/1.1\u001b[0m\" 302 -\n",
      "127.0.0.1 - - [06/Jun/2022 18:26:53] \"GET /dash/ HTTP/1.1\" 200 -\n",
      "127.0.0.1 - - [06/Jun/2022 18:26:54] \"GET /dash/_dash-layout HTTP/1.1\" 200 -\n",
      "127.0.0.1 - - [06/Jun/2022 18:26:54] \"GET /dash/_dash-dependencies HTTP/1.1\" 200 -\n",
      "127.0.0.1 - - [06/Jun/2022 18:26:54] \"GET /dash/_favicon.ico?v=2.4.1 HTTP/1.1\" 200 -\n"
     ]
    }
   ],
   "source": [
    "app.run(host='localhost', port=5000)##, debug=True)"
   ]
  },
  {
   "cell_type": "code",
   "execution_count": null,
   "id": "33370847",
   "metadata": {},
   "outputs": [],
   "source": []
  }
 ],
 "metadata": {
  "kernelspec": {
   "display_name": "Python 3",
   "language": "python",
   "name": "python3"
  },
  "language_info": {
   "codemirror_mode": {
    "name": "ipython",
    "version": 3
   },
   "file_extension": ".py",
   "mimetype": "text/x-python",
   "name": "python",
   "nbconvert_exporter": "python",
   "pygments_lexer": "ipython3",
   "version": "3.8.10"
  }
 },
 "nbformat": 4,
 "nbformat_minor": 5
}
