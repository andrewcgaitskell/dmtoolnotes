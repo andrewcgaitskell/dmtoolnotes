{
  "nbformat": 4,
  "nbformat_minor": 0,
  "metadata": {
    "colab": {
      "name": "Lists, Arrays, Tensors, Dataframes, and Datasets",
      "provenance": [],
      "collapsed_sections": [],
      "include_colab_link": true
    },
    "kernelspec": {
      "name": "python3",
      "display_name": "Python 3"
    }
  },
  "cells": [
    {
      "cell_type": "markdown",
      "metadata": {
        "id": "view-in-github",
        "colab_type": "text"
      },
      "source": [
        "<a href=\"https://colab.research.google.com/github/andrewcgaitskell/dmtoolnotes/blob/main/Lists%2C_Arrays%2C_Tensors%2C_Dataframes%2C_and_Datasets.ipynb\" target=\"_parent\"><img src=\"https://colab.research.google.com/assets/colab-badge.svg\" alt=\"Open In Colab\"/></a>"
      ]
    },
    {
      "cell_type": "markdown",
      "metadata": {
        "id": "RChBp_OArpe1"
      },
      "source": [
        "https://colab.research.google.com/github/tensorpig/learning_tensorflow/blob/master/Lists%2C_Arrays%2C_Tensors%2C_Dataframes%2C_and_Datasets.ipynb#scrollTo=0-i0PylHrjWs"
      ]
    },
    {
      "cell_type": "code",
      "metadata": {
        "id": "1E6XpeNUs5wU"
      },
      "source": [
        "import pandas as pd"
      ],
      "execution_count": 1,
      "outputs": []
    },
    {
      "cell_type": "code",
      "metadata": {
        "id": "G7-fmfvOsNpF",
        "outputId": "7a2117f1-f923-4e1d-f40a-71205579f64d",
        "colab": {
          "base_uri": "https://localhost:8080/"
        }
      },
      "source": [
        "data = [[1,2,3],[4.0,5.0,6.0],['100','101','102']]\n",
        "data"
      ],
      "execution_count": 2,
      "outputs": [
        {
          "output_type": "execute_result",
          "data": {
            "text/plain": [
              "[[1, 2, 3], [4.0, 5.0, 6.0], ['100', '101', '102']]"
            ]
          },
          "metadata": {},
          "execution_count": 2
        }
      ]
    },
    {
      "cell_type": "code",
      "metadata": {
        "id": "I6kCAF6JuN__",
        "outputId": "8ea51898-8fd1-4642-a85f-d6e3eddffc91",
        "colab": {
          "base_uri": "https://localhost:8080/",
          "height": 143
        }
      },
      "source": [
        "data_df_raw = pd.DataFrame(data=data)\n",
        "data_df = data_df_raw.T\n",
        "data_df.columns=['legs','weight','version']\n",
        "data_df"
      ],
      "execution_count": 8,
      "outputs": [
        {
          "output_type": "execute_result",
          "data": {
            "text/html": [
              "<div>\n",
              "<style scoped>\n",
              "    .dataframe tbody tr th:only-of-type {\n",
              "        vertical-align: middle;\n",
              "    }\n",
              "\n",
              "    .dataframe tbody tr th {\n",
              "        vertical-align: top;\n",
              "    }\n",
              "\n",
              "    .dataframe thead th {\n",
              "        text-align: right;\n",
              "    }\n",
              "</style>\n",
              "<table border=\"1\" class=\"dataframe\">\n",
              "  <thead>\n",
              "    <tr style=\"text-align: right;\">\n",
              "      <th></th>\n",
              "      <th>legs</th>\n",
              "      <th>weight</th>\n",
              "      <th>version</th>\n",
              "    </tr>\n",
              "  </thead>\n",
              "  <tbody>\n",
              "    <tr>\n",
              "      <th>0</th>\n",
              "      <td>1</td>\n",
              "      <td>4</td>\n",
              "      <td>100</td>\n",
              "    </tr>\n",
              "    <tr>\n",
              "      <th>1</th>\n",
              "      <td>2</td>\n",
              "      <td>5</td>\n",
              "      <td>101</td>\n",
              "    </tr>\n",
              "    <tr>\n",
              "      <th>2</th>\n",
              "      <td>3</td>\n",
              "      <td>6</td>\n",
              "      <td>102</td>\n",
              "    </tr>\n",
              "  </tbody>\n",
              "</table>\n",
              "</div>"
            ],
            "text/plain": [
              "  legs weight version\n",
              "0    1      4     100\n",
              "1    2      5     101\n",
              "2    3      6     102"
            ]
          },
          "metadata": {},
          "execution_count": 8
        }
      ]
    },
    {
      "cell_type": "markdown",
      "metadata": {
        "id": "vq9xCbCKU74y"
      },
      "source": [
        "Let's pretend we have a simple regression like problem. We start out with 3 features describing a robotic spider we're building. For example: number of legs (feature 1), weight (feature 2), and version number (feature 3). Say that we so far built three prototype robots, so have 3 values for each feature. "
      ]
    },
    {
      "cell_type": "code",
      "metadata": {
        "id": "Sl8TiMIFyldH",
        "outputId": "e452c683-781b-40f6-a360-88b002be2360",
        "colab": {
          "base_uri": "https://localhost:8080/",
          "height": 143
        }
      },
      "source": [
        "data_dict = {'legs':[1,2,3],\n",
        "             'weight':[4.0,5.0,6.0],\n",
        "             'version':['100','101','102']}\n",
        "data_df_dict = pd.DataFrame(data=data_dict)\n",
        "data_df_dict"
      ],
      "execution_count": 14,
      "outputs": [
        {
          "output_type": "execute_result",
          "data": {
            "text/html": [
              "<div>\n",
              "<style scoped>\n",
              "    .dataframe tbody tr th:only-of-type {\n",
              "        vertical-align: middle;\n",
              "    }\n",
              "\n",
              "    .dataframe tbody tr th {\n",
              "        vertical-align: top;\n",
              "    }\n",
              "\n",
              "    .dataframe thead th {\n",
              "        text-align: right;\n",
              "    }\n",
              "</style>\n",
              "<table border=\"1\" class=\"dataframe\">\n",
              "  <thead>\n",
              "    <tr style=\"text-align: right;\">\n",
              "      <th></th>\n",
              "      <th>legs</th>\n",
              "      <th>weight</th>\n",
              "      <th>version</th>\n",
              "    </tr>\n",
              "  </thead>\n",
              "  <tbody>\n",
              "    <tr>\n",
              "      <th>0</th>\n",
              "      <td>1</td>\n",
              "      <td>4.0</td>\n",
              "      <td>100</td>\n",
              "    </tr>\n",
              "    <tr>\n",
              "      <th>1</th>\n",
              "      <td>2</td>\n",
              "      <td>5.0</td>\n",
              "      <td>101</td>\n",
              "    </tr>\n",
              "    <tr>\n",
              "      <th>2</th>\n",
              "      <td>3</td>\n",
              "      <td>6.0</td>\n",
              "      <td>102</td>\n",
              "    </tr>\n",
              "  </tbody>\n",
              "</table>\n",
              "</div>"
            ],
            "text/plain": [
              "   legs  weight version\n",
              "0     1     4.0     100\n",
              "1     2     5.0     101\n",
              "2     3     6.0     102"
            ]
          },
          "metadata": {},
          "execution_count": 14
        }
      ]
    },
    {
      "cell_type": "code",
      "metadata": {
        "id": "RTsI4YLuT9rQ",
        "colab": {
          "base_uri": "https://localhost:8080/"
        },
        "outputId": "8d58ddf1-0ded-46ab-a3c0-d048fecfa624"
      },
      "source": [
        "feature1 = [1,2,3]\n",
        "feature2 = [4.0,5.0,6.0]\n",
        "feature3 = ['100','101','102']\n",
        "print(type(feature1))"
      ],
      "execution_count": 4,
      "outputs": [
        {
          "output_type": "stream",
          "name": "stdout",
          "text": [
            "<class 'list'>\n"
          ]
        }
      ]
    },
    {
      "cell_type": "code",
      "metadata": {
        "id": "VDzx6ADRutvL",
        "outputId": "e6c6d593-f532-400d-a847-985a4e179983",
        "colab": {
          "base_uri": "https://localhost:8080/"
        }
      },
      "source": [
        "data_df['legs'].tolist()"
      ],
      "execution_count": 10,
      "outputs": [
        {
          "output_type": "execute_result",
          "data": {
            "text/plain": [
              "[1, 2, 3]"
            ]
          },
          "metadata": {},
          "execution_count": 10
        }
      ]
    },
    {
      "cell_type": "code",
      "metadata": {
        "id": "hiJJnJaVxo8H",
        "outputId": "9c940d0d-41e3-46d4-9a26-377ddc04efb1",
        "colab": {
          "base_uri": "https://localhost:8080/"
        }
      },
      "source": [
        "data_df.iloc[0]"
      ],
      "execution_count": 12,
      "outputs": [
        {
          "output_type": "execute_result",
          "data": {
            "text/plain": [
              "legs         1\n",
              "weight       4\n",
              "version    100\n",
              "Name: 0, dtype: object"
            ]
          },
          "metadata": {},
          "execution_count": 12
        }
      ]
    },
    {
      "cell_type": "markdown",
      "metadata": {
        "id": "RY27QLAxV6HK"
      },
      "source": [
        "We'll look at the various different data structures you will probably run into when doing ML/AI in pyhton and tensorflow. Combining the features into matrices etc. Starting from basic python lists and progressing up to keras Datasets which you will typically feed into your neural network.\n",
        "\n",
        "First up: the basic python LIST"
      ]
    },
    {
      "cell_type": "code",
      "metadata": {
        "id": "A9YCFqIcURVi"
      },
      "source": [
        "list2d = [feature1, feature2, feature3] \n",
        "print(type(list2d))\n",
        "print(list2d)\n",
        "print('({},{})'.format(len(list2d),len(list2d[0]))) #nr of rows and cols\n",
        "print(list2d[0]) #first row\n",
        "print([row[0] for row in list2d]) #first col\n",
        "print(list2d[0][0]) # value at 0,0\n",
        "print([[row[i] for row in list2d] for i in range(len(list2d[0]))]) # transpose to make more like excel sheet"
      ],
      "execution_count": null,
      "outputs": []
    },
    {
      "cell_type": "markdown",
      "metadata": {
        "id": "Mm_xYpC-UWJ7"
      },
      "source": [
        "A python list is a collection of any data types. The items in a list can be lists again, and there are no requirements for the items in a list to be of the same type, or of the same length.\n",
        "\n",
        "There is also the Tuple, which has () around the feautes instead of []. A Tuple works hte same, but once creatd, cannot be changed.\n",
        "\n",
        "Next up the Numpy ARRAY"
      ]
    },
    {
      "cell_type": "code",
      "metadata": {
        "id": "pAcQ8owJUaiG"
      },
      "source": [
        "import numpy as np\n",
        "array2d = np.array([feature1, feature2, feature3], dtype=object)\n",
        "print(type(array2d))\n",
        "print(array2d)\n",
        "print(array2d.shape) #nr of rows and cols\n",
        "print(array2d[0,:]) #first element/row = array, could also be just array2d[0]\n",
        "print(array2d[:,0]) #first column, or actually first element from each 1d array in the 2d array\n",
        "print(array2d[0,0]) # value at 0,0\n",
        "print(array2d.transpose()) #more like excel sheet"
      ],
      "execution_count": null,
      "outputs": []
    },
    {
      "cell_type": "markdown",
      "metadata": {
        "id": "lU79BtIsUcQz"
      },
      "source": [
        "A numpy array expects all items to be of the same type. If the dtype=object is not used above, all of the values will be converted to strings as this is the minimum type that can hold all values. A numpy array can handle features of different length, but then each element in the array will be of type 'list', so no direct indexing like you would expect from a matrix.\n",
        "\n",
        "Next up the Pandas DATAFRAME"
      ]
    },
    {
      "cell_type": "code",
      "metadata": {
        "id": "c_GTwMtGUfdK"
      },
      "source": [
        "import pandas as pd\n",
        "dataframe = pd.DataFrame()\n",
        "dataframe['feature1'] = feature1\n",
        "dataframe['feature2'] = feature2\n",
        "dataframe['feature3'] = feature3\n",
        "print(type(dataframe))\n",
        "print(dataframe)\n",
        "print(dataframe.shape)\n",
        "print(dataframe.iloc[0].tolist()) # first row, without .tolist() it also shows the column headers as row headers. You can also use loc[0], where 0 is now value in the index column (same as row number here)\n",
        "print(dataframe['feature1'].tolist()) #first column, without .tolist() it also shows the index. You can also use .iloc[:,0]\n",
        "print(dataframe.iloc[0,0]) #value at 0,0"
      ],
      "execution_count": null,
      "outputs": []
    },
    {
      "cell_type": "markdown",
      "metadata": {
        "id": "jFN7pPxmUhZh"
      },
      "source": [
        "A Pandas dataframe is basically an excel sheet. It can handle features with different datatypes, but not different lengths of feature arrays.\n",
        "\n",
        "Next up TENSORs"
      ]
    },
    {
      "cell_type": "code",
      "metadata": {
        "id": "MF5N8S3QUiPZ"
      },
      "source": [
        "import tensorflow as tf\n",
        "feature3int = [int(x) for x in feature3 ] # map string values to numerical representation (in this case the string is a number so easy)\n",
        "tensorRank2 = tf.constant([feature1, feature2, feature3int], dtype=float)\n",
        "print(type(tensorRank2))\n",
        "print(tensorRank2)\n",
        "print(tensorRank2.shape)\n",
        "print(tensorRank2[0,:].numpy()) #first row, without .numpy() a tensor object is returned. Could also use just [0]\n",
        "print(tensorRank2[:,0].numpy()) #first col\n",
        "print(tensorRank2[0,0].numpy()) # value at 0,0\n",
        "print(tf.transpose(tensorRank2)) # more like excel sheet"
      ],
      "execution_count": null,
      "outputs": []
    },
    {
      "cell_type": "markdown",
      "metadata": {
        "id": "BGx2Sl-wUmWC"
      },
      "source": [
        "Tensors are n-dimensional generalizations of matrices. Vectors are tensors, and can be seen as 1-dimensional matrices. All are represented using n-dimensional arrays with a uniform type, and features with uniform length. I had to convert feature3 list to int, although I could also have converted feature1 and fature2 lists to strings.\n",
        "\n",
        "Next up DATASETs"
      ]
    },
    {
      "cell_type": "code",
      "metadata": {
        "id": "pio3BvloCGSx"
      },
      "source": [
        "feature1f = [float(x) for x in feature1 ] # map string values to numerical representation\n",
        "feature3f = [float(x) for x in feature3 ] # map string values to numerical representation\n",
        "dataset = tf.data.Dataset.from_tensor_slices([feature1f, feature2, feature3f])\n",
        "print(type(dataset))\n",
        "print(dataset.element_spec)\n",
        "print(dataset)\n",
        "print(list(dataset.as_numpy_iterator()))\n",
        "print(list(dataset.take(1).as_numpy_iterator())[0]) #first \"row\"\n",
        "print(list(dataset.take(1).as_numpy_iterator())[0][0]) # value at 0,0\n"
      ],
      "execution_count": null,
      "outputs": []
    },
    {
      "cell_type": "markdown",
      "metadata": {
        "id": "9znu97SGC_B_"
      },
      "source": [
        "A Dataset is a sequence of elements, each element consisting of one or more components. In this case, each element of the Dataset is a TensorSliceDataset of shape (3,) which, when converted to a list, is shown to wrap around an array of 3 floats as expected.\n",
        "\n",
        "A Dataset is aimed at creating data pipelines, which get data from somewhere, process and transform it (typically in smaller batches), and then output it to a neural network (or somewhere else). A main goal of such a piepline is to avoid getting (all) the data in memory and enable large data sets to be handled in smaller peices. As such, getting values for specific elements in the dataset is not what Dataset are built for (and it shows).  "
      ]
    },
    {
      "cell_type": "code",
      "metadata": {
        "id": "wmz8wFc4KpfO"
      },
      "source": [
        "datasett = tf.data.Dataset.from_tensor_slices((feature1, feature2, feature3))\n",
        "print(type(datasett))\n",
        "print(datasett.element_spec)\n",
        "print(datasett)\n",
        "print(list(datasett.as_numpy_iterator()))"
      ],
      "execution_count": null,
      "outputs": []
    },
    {
      "cell_type": "markdown",
      "metadata": {
        "id": "5I3rF17HOue2"
      },
      "source": [
        "If you create a Dataset from a tuple of arrays, instead of an array of arrays, you can see each element is now a tuple of 3 TensorSpec of different type and shape () which can be seen wrap around a tuple for transposed feature values. \n",
        "\n",
        "This shows that from_tensor_slices() \"slices\" the tensors along the first dimension"
      ]
    }
  ]
}