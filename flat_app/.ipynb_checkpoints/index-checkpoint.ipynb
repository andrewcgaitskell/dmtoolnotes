{
 "cells": [
  {
   "cell_type": "code",
   "execution_count": 5,
   "id": "a8192a11",
   "metadata": {},
   "outputs": [],
   "source": [
    "import plotly.express as px\n",
    "\n",
    "import dash\n",
    "from dash import dcc\n",
    "from dash import html\n",
    "\n",
    "import plotly.graph_objects as go\n",
    "\n",
    "\n",
    "from dash import Dash, Input, Output, callback\n",
    "\n",
    "from jupyter_dash import JupyterDash\n"
   ]
  },
  {
   "cell_type": "code",
   "execution_count": 6,
   "id": "0f5fdcb0",
   "metadata": {},
   "outputs": [],
   "source": [
    "from app import app\n",
    "from layouts import layout1, layout2\n",
    "import callbacks"
   ]
  },
  {
   "cell_type": "code",
   "execution_count": 7,
   "id": "13af00c3",
   "metadata": {},
   "outputs": [],
   "source": [
    "app.layout = html.Div([\n",
    "    dcc.Location(id='url', refresh=False),\n",
    "    html.Div(id='page-content')\n",
    "])\n",
    "\n",
    "@app.callback(Output('page-content', 'children'),\n",
    "              Input('url', 'pathname'))\n",
    "def display_page(pathname):\n",
    "    if pathname == '/apps/app1':\n",
    "         return layout1\n",
    "    elif pathname == '/apps/app2':\n",
    "         return layout2\n",
    "    else:\n",
    "        return '404'\n"
   ]
  },
  {
   "cell_type": "code",
   "execution_count": 8,
   "id": "2c1c7030",
   "metadata": {},
   "outputs": [
    {
     "name": "stdout",
     "output_type": "stream",
     "text": [
      "Dash app running on http://127.0.0.1:5051/\n"
     ]
    },
    {
     "name": "stderr",
     "output_type": "stream",
     "text": [
      "/home/andrewcgaitskell/.local/share/virtualenvs/dmtoolnotes-z4lOQ0W-/lib/python3.8/site-packages/jupyter_dash/jupyter_app.py:139: UserWarning:\n",
      "\n",
      "The 'environ['werkzeug.server.shutdown']' function is deprecated and will be removed in Werkzeug 2.1.\n",
      "\n"
     ]
    }
   ],
   "source": [
    "app.run_server(debug=True,port=5051)"
   ]
  }
 ],
 "metadata": {
  "kernelspec": {
   "display_name": "Python 3",
   "language": "python",
   "name": "python3"
  },
  "language_info": {
   "codemirror_mode": {
    "name": "ipython",
    "version": 3
   },
   "file_extension": ".py",
   "mimetype": "text/x-python",
   "name": "python",
   "nbconvert_exporter": "python",
   "pygments_lexer": "ipython3",
   "version": "3.8.10"
  }
 },
 "nbformat": 4,
 "nbformat_minor": 5
}
