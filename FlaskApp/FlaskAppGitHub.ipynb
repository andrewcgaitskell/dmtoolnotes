{
 "cells": [
  {
   "cell_type": "code",
   "execution_count": 1,
   "id": "3d5337c7-b865-40f2-9e53-fcb4569e8c35",
   "metadata": {},
   "outputs": [
    {
     "name": "stdout",
     "output_type": "stream",
     "text": [
      "Requirement already satisfied: python-dotenv in /srv/jupyterhub/env/lib/python3.10/site-packages (0.20.0)\n"
     ]
    }
   ],
   "source": [
    "!pip install python-dotenv"
   ]
  },
  {
   "cell_type": "code",
   "execution_count": 2,
   "id": "3f824ec6-ffb4-41d2-89c4-124a9db7671f",
   "metadata": {},
   "outputs": [],
   "source": [
    "from flask import Flask\n",
    "from flask_github import GitHub\n",
    "from views.index import index_blueprint"
   ]
  },
  {
   "cell_type": "code",
   "execution_count": 3,
   "id": "c72bdd38-2ea1-4f1b-a7a2-cca58a7046e8",
   "metadata": {},
   "outputs": [],
   "source": [
    "import os\n",
    "from dotenv import load_dotenv"
   ]
  },
  {
   "cell_type": "code",
   "execution_count": 4,
   "id": "e8cbf3e1-386f-4cd3-9d44-96a77f1f6f60",
   "metadata": {},
   "outputs": [],
   "source": [
    "app = Flask(__name__)\n",
    "app.register_blueprint(index_blueprint)"
   ]
  },
  {
   "cell_type": "code",
   "execution_count": 5,
   "id": "76bfe054-a8fb-404c-ac1f-11ca96d93121",
   "metadata": {},
   "outputs": [],
   "source": [
    "\n",
    "load_dotenv()\n",
    "\n",
    "GITHUB_CLIENT_ID = os.getenv('GITHUB_CLIENT_ID')\n",
    "GITHUB_CLIENT_SECRET = os.getenv('GITHUB_CLIENT_SECRET')"
   ]
  },
  {
   "cell_type": "code",
   "execution_count": 6,
   "id": "1544a52b-15f3-4631-8f83-bacc9bfcb34c",
   "metadata": {},
   "outputs": [],
   "source": [
    "\n",
    "app.config['GITHUB_CLIENT_ID'] = GITHUB_CLIENT_ID\n",
    "app.config['GITHUB_CLIENT_SECRET'] = GITHUB_CLIENT_SECRET\n",
    "\n",
    "# For GitHub Enterprise\n",
    "app.config['GITHUB_BASE_URL'] = 'https://dev3.dmtools.info/home/api/v3/'\n",
    "app.config['GITHUB_AUTH_URL'] = 'https://dev3.dmtools.info/home/login/oauth/'\n",
    "\n",
    "github = GitHub(app)"
   ]
  },
  {
   "cell_type": "code",
   "execution_count": null,
   "id": "7501d6ae-393b-406c-aaf7-136693a705fd",
   "metadata": {},
   "outputs": [],
   "source": [
    "@app.route('/login')\n",
    "def login():\n",
    "    return github.authorize()"
   ]
  },
  {
   "cell_type": "code",
   "execution_count": null,
   "id": "3d776177-8552-467b-9574-f7728e054846",
   "metadata": {},
   "outputs": [],
   "source": [
    "@app.route('/github-callback')\n",
    "@github.authorized_handler\n",
    "def authorized(oauth_token):\n",
    "    next_url = request.args.get('next') or url_for('index')\n",
    "    if oauth_token is None:\n",
    "        flash(\"Authorization failed.\")\n",
    "        return redirect(next_url)\n",
    "\n",
    "    user = User.query.filter_by(github_access_token=oauth_token).first()\n",
    "    if user is None:\n",
    "        user = User(oauth_token)\n",
    "        db_session.add(user)\n",
    "\n",
    "    user.github_access_token = oauth_token\n",
    "    db_session.commit()\n",
    "    return redirect(next_url)"
   ]
  },
  {
   "cell_type": "code",
   "execution_count": null,
   "id": "143b6f9c-bc1a-4650-9914-021460e15a9b",
   "metadata": {},
   "outputs": [
    {
     "name": "stdout",
     "output_type": "stream",
     "text": [
      " * Serving Flask app '__main__' (lazy loading)\n",
      " * Environment: production\n",
      "\u001b[31m   WARNING: This is a development server. Do not use it in a production deployment.\u001b[0m\n",
      "\u001b[2m   Use a production WSGI server instead.\u001b[0m\n",
      " * Debug mode: off\n"
     ]
    },
    {
     "name": "stderr",
     "output_type": "stream",
     "text": [
      " * Running on all addresses (0.0.0.0)\n",
      "   WARNING: This is a development server. Do not use it in a production deployment.\n",
      " * Running on http://127.0.0.1:5060\n",
      " * Running on http://172.19.0.3:5060 (Press CTRL+C to quit)\n",
      "172.19.0.2 - - [18/May/2022 11:29:15] \"GET /home/ HTTP/1.1\" 200 -\n"
     ]
    }
   ],
   "source": [
    "app.run(host=\"0.0.0.0\", port=5060)"
   ]
  },
  {
   "cell_type": "code",
   "execution_count": null,
   "id": "7372e8a5-9846-4427-b36e-8ddb13d3b97b",
   "metadata": {},
   "outputs": [],
   "source": []
  }
 ],
 "metadata": {
  "kernelspec": {
   "display_name": "Python 3 (ipykernel)",
   "language": "python",
   "name": "python3"
  },
  "language_info": {
   "codemirror_mode": {
    "name": "ipython",
    "version": 3
   },
   "file_extension": ".py",
   "mimetype": "text/x-python",
   "name": "python",
   "nbconvert_exporter": "python",
   "pygments_lexer": "ipython3",
   "version": "3.10.4"
  }
 },
 "nbformat": 4,
 "nbformat_minor": 5
}
