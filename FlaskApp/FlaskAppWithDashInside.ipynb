{
 "cells": [
  {
   "cell_type": "code",
   "execution_count": 1,
   "id": "7ebf9321-5d09-4471-9030-517488a73960",
   "metadata": {},
   "outputs": [],
   "source": [
    "#from flask import Flask, render_template"
   ]
  },
  {
   "cell_type": "code",
   "execution_count": 2,
   "id": "28f4fbbe-a38c-4ee4-aedd-af8a3fd98efb",
   "metadata": {},
   "outputs": [],
   "source": [
    "from dash import Dash\n",
    "from dash import dcc\n",
    "from dash import html"
   ]
  },
  {
   "cell_type": "code",
   "execution_count": 3,
   "id": "fff0acb4",
   "metadata": {},
   "outputs": [],
   "source": [
    "from flask import Flask, render_template, redirect, url_for\n",
    "from flask_bootstrap import Bootstrap\n",
    "from flask_wtf import FlaskForm\n",
    "from wtforms import StringField, SubmitField\n",
    "from wtforms.validators import DataRequired"
   ]
  },
  {
   "cell_type": "code",
   "execution_count": 4,
   "id": "5acec7ba-bf6c-4607-83d1-8b0c3d389a73",
   "metadata": {},
   "outputs": [],
   "source": [
    "from jupyter_dash import JupyterDash"
   ]
  },
  {
   "cell_type": "code",
   "execution_count": 5,
   "id": "47683ad5",
   "metadata": {},
   "outputs": [],
   "source": [
    "from werkzeug.wrappers import Request, Response\n",
    "from werkzeug.serving import run_simple"
   ]
  },
  {
   "cell_type": "code",
   "execution_count": 6,
   "id": "3f9f9a31-6389-4099-9146-02b25a2009f1",
   "metadata": {},
   "outputs": [],
   "source": [
    "import dash_bootstrap_components as dbc\n",
    "COMPONENT_STYLE = \"/assets/my_component.css\"\n",
    "external_stylesheets=[dbc.themes.BOOTSTRAP]"
   ]
  },
  {
   "cell_type": "code",
   "execution_count": 7,
   "id": "3203da7b-f09c-426e-abd8-6bd15a13b9ee",
   "metadata": {},
   "outputs": [],
   "source": [
    "server = Flask(__name__)\n",
    "app = JupyterDash(__name__,##requests_pathname_prefix=\"/dash1/\",routes_pathname_prefix='/dash1/',\n",
    "                  server=server,\n",
    "                  #SECRET_KEY= '1234567890',\n",
    "                  external_stylesheets=external_stylesheets,\n",
    "                  meta_tags=[{'name': 'viewport', 'content': 'width=device-width, initial-scale=1'}],\n",
    "                 suppress_callback_exceptions=True)\n",
    "# Create server variable with Flask server object for use with gunicorn\n",
    "#server = app.server"
   ]
  },
  {
   "cell_type": "code",
   "execution_count": 8,
   "id": "d4669cc3",
   "metadata": {},
   "outputs": [
    {
     "data": {
      "text/plain": [
       "<flask_bootstrap.Bootstrap at 0x7fd9f59463d0>"
      ]
     },
     "execution_count": 8,
     "metadata": {},
     "output_type": "execute_result"
    }
   ],
   "source": [
    "# Flask-WTF requires an encryption key - the string can be anything\n",
    "server.config['SECRET_KEY'] = '1234567890'\n",
    "\n",
    "# Flask-Bootstrap requires this line\n",
    "Bootstrap(server)"
   ]
  },
  {
   "cell_type": "raw",
   "id": "835d69ec",
   "metadata": {},
   "source": [
    "https://python-adv-web-apps.readthedocs.io/en/latest/flask_forms.html"
   ]
  },
  {
   "cell_type": "code",
   "execution_count": 9,
   "id": "602adf9c",
   "metadata": {},
   "outputs": [],
   "source": [
    "class NameForm(FlaskForm):\n",
    "    name = StringField('What is your name?', validators=[DataRequired()])\n",
    "    submit = SubmitField('Submit')\n"
   ]
  },
  {
   "cell_type": "code",
   "execution_count": 10,
   "id": "28f6d6d6-d816-4ee5-bfbf-3a6c2bfa5973",
   "metadata": {},
   "outputs": [],
   "source": [
    "app.layout = html.Div('Dash App',id='example-div-element')\n",
    "\n",
    "#app.layout = html.Div(id='example-div-element')"
   ]
  },
  {
   "cell_type": "code",
   "execution_count": 12,
   "id": "ca4fcfee-841d-4a7f-9def-44620cb54b79",
   "metadata": {},
   "outputs": [],
   "source": [
    "@server.route(\"/\")\n",
    "def home():\n",
    "    return render_template('home.html')\n",
    "\n",
    "## http://0.0.0.0:5051/\n",
    "\n",
    "@server.route(\"/dash\")\n",
    "def my_dash_app():\n",
    "    return app.index()\n",
    "\n",
    "## http://0.0.0.0:5051/dash1/\n",
    "\n",
    "@server.route('/flask')\n",
    "def index():\n",
    "    return render_template('index.html')\n",
    "\n",
    "## http://0.0.0.0:5051/flask"
   ]
  },
  {
   "cell_type": "code",
   "execution_count": 13,
   "id": "af2c13a0-88d7-4339-8558-ac878cef7a80",
   "metadata": {},
   "outputs": [],
   "source": [
    "#app.run_server(host=\"0.0.0.0\", port=5051)"
   ]
  },
  {
   "cell_type": "code",
   "execution_count": null,
   "id": "bf764dd8-6178-4fdd-b2ce-7cc6411d0d41",
   "metadata": {},
   "outputs": [
    {
     "name": "stderr",
     "output_type": "stream",
     "text": [
      " * Running on http://localhost:5051/ (Press CTRL+C to quit)\n",
      "127.0.0.1 - - [19/Oct/2022 11:31:33] \"GET / HTTP/1.1\" 200 -\n",
      "127.0.0.1 - - [19/Oct/2022 11:31:33] \"GET /_dash-layout HTTP/1.1\" 200 -\n",
      "127.0.0.1 - - [19/Oct/2022 11:31:33] \"GET /_dash-dependencies HTTP/1.1\" 200 -\n"
     ]
    }
   ],
   "source": [
    "run_simple('localhost', 5051, server)"
   ]
  }
 ],
 "metadata": {
  "kernelspec": {
   "display_name": "Python 3",
   "language": "python",
   "name": "python3"
  },
  "language_info": {
   "codemirror_mode": {
    "name": "ipython",
    "version": 3
   },
   "file_extension": ".py",
   "mimetype": "text/x-python",
   "name": "python",
   "nbconvert_exporter": "python",
   "pygments_lexer": "ipython3",
   "version": "3.8.10"
  }
 },
 "nbformat": 4,
 "nbformat_minor": 5
}
