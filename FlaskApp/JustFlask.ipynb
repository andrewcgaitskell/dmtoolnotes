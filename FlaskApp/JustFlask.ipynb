{
 "cells": [
  {
   "cell_type": "code",
   "execution_count": 13,
   "id": "fec58ad9-a39f-4920-b458-cc0c830f4970",
   "metadata": {},
   "outputs": [],
   "source": [
    "from flask import Flask, render_template\n",
    "\n"
   ]
  },
  {
   "cell_type": "code",
   "execution_count": 16,
   "id": "783064aa-a70a-4fe2-a94d-dbae8a0e58df",
   "metadata": {},
   "outputs": [],
   "source": [
    "from flask import Flask\n",
    "#from example_blueprint \n",
    "import example_blueprint"
   ]
  },
  {
   "cell_type": "code",
   "execution_count": 17,
   "id": "1de6aa39-fc44-424e-8824-0188fa3b6fb9",
   "metadata": {},
   "outputs": [
    {
     "ename": "AttributeError",
     "evalue": "module 'example_blueprint' has no attribute 'register'",
     "output_type": "error",
     "traceback": [
      "\u001b[0;31m---------------------------------------------------------------------------\u001b[0m",
      "\u001b[0;31mAttributeError\u001b[0m                            Traceback (most recent call last)",
      "Input \u001b[0;32mIn [17]\u001b[0m, in \u001b[0;36m<cell line: 2>\u001b[0;34m()\u001b[0m\n\u001b[1;32m      1\u001b[0m app \u001b[38;5;241m=\u001b[39m Flask(\u001b[38;5;18m__name__\u001b[39m)\n\u001b[0;32m----> 2\u001b[0m \u001b[43mapp\u001b[49m\u001b[38;5;241;43m.\u001b[39;49m\u001b[43mregister_blueprint\u001b[49m\u001b[43m(\u001b[49m\u001b[43mexample_blueprint\u001b[49m\u001b[43m)\u001b[49m\n",
      "File \u001b[0;32m/srv/jupyterhub/env/lib/python3.10/site-packages/flask/scaffold.py:56\u001b[0m, in \u001b[0;36msetupmethod.<locals>.wrapper_func\u001b[0;34m(self, *args, **kwargs)\u001b[0m\n\u001b[1;32m     45\u001b[0m \u001b[38;5;28;01mif\u001b[39;00m \u001b[38;5;28mself\u001b[39m\u001b[38;5;241m.\u001b[39m_is_setup_finished():\n\u001b[1;32m     46\u001b[0m     \u001b[38;5;28;01mraise\u001b[39;00m \u001b[38;5;167;01mAssertionError\u001b[39;00m(\n\u001b[1;32m     47\u001b[0m         \u001b[38;5;124m\"\u001b[39m\u001b[38;5;124mA setup function was called after the first request \u001b[39m\u001b[38;5;124m\"\u001b[39m\n\u001b[1;32m     48\u001b[0m         \u001b[38;5;124m\"\u001b[39m\u001b[38;5;124mwas handled. This usually indicates a bug in the\u001b[39m\u001b[38;5;124m\"\u001b[39m\n\u001b[0;32m   (...)\u001b[0m\n\u001b[1;32m     54\u001b[0m         \u001b[38;5;124m\"\u001b[39m\u001b[38;5;124m requests.\u001b[39m\u001b[38;5;124m\"\u001b[39m\n\u001b[1;32m     55\u001b[0m     )\n\u001b[0;32m---> 56\u001b[0m \u001b[38;5;28;01mreturn\u001b[39;00m \u001b[43mf\u001b[49m\u001b[43m(\u001b[49m\u001b[38;5;28;43mself\u001b[39;49m\u001b[43m,\u001b[49m\u001b[43m \u001b[49m\u001b[38;5;241;43m*\u001b[39;49m\u001b[43margs\u001b[49m\u001b[43m,\u001b[49m\u001b[43m \u001b[49m\u001b[38;5;241;43m*\u001b[39;49m\u001b[38;5;241;43m*\u001b[39;49m\u001b[43mkwargs\u001b[49m\u001b[43m)\u001b[49m\n",
      "File \u001b[0;32m/srv/jupyterhub/env/lib/python3.10/site-packages/flask/app.py:1028\u001b[0m, in \u001b[0;36mFlask.register_blueprint\u001b[0;34m(self, blueprint, **options)\u001b[0m\n\u001b[1;32m   1002\u001b[0m \u001b[38;5;129m@setupmethod\u001b[39m\n\u001b[1;32m   1003\u001b[0m \u001b[38;5;28;01mdef\u001b[39;00m \u001b[38;5;21mregister_blueprint\u001b[39m(\u001b[38;5;28mself\u001b[39m, blueprint: \u001b[38;5;124m\"\u001b[39m\u001b[38;5;124mBlueprint\u001b[39m\u001b[38;5;124m\"\u001b[39m, \u001b[38;5;241m*\u001b[39m\u001b[38;5;241m*\u001b[39moptions: t\u001b[38;5;241m.\u001b[39mAny) \u001b[38;5;241m-\u001b[39m\u001b[38;5;241m>\u001b[39m \u001b[38;5;28;01mNone\u001b[39;00m:\n\u001b[1;32m   1004\u001b[0m     \u001b[38;5;124;03m\"\"\"Register a :class:`~flask.Blueprint` on the application. Keyword\u001b[39;00m\n\u001b[1;32m   1005\u001b[0m \u001b[38;5;124;03m    arguments passed to this method will override the defaults set on the\u001b[39;00m\n\u001b[1;32m   1006\u001b[0m \u001b[38;5;124;03m    blueprint.\u001b[39;00m\n\u001b[0;32m   (...)\u001b[0m\n\u001b[1;32m   1026\u001b[0m \u001b[38;5;124;03m    .. versionadded:: 0.7\u001b[39;00m\n\u001b[1;32m   1027\u001b[0m \u001b[38;5;124;03m    \"\"\"\u001b[39;00m\n\u001b[0;32m-> 1028\u001b[0m     \u001b[43mblueprint\u001b[49m\u001b[38;5;241;43m.\u001b[39;49m\u001b[43mregister\u001b[49m(\u001b[38;5;28mself\u001b[39m, options)\n",
      "\u001b[0;31mAttributeError\u001b[0m: module 'example_blueprint' has no attribute 'register'"
     ]
    }
   ],
   "source": [
    "app = Flask(__name__)\n",
    "app.register_blueprint(example_blueprint)"
   ]
  },
  {
   "cell_type": "code",
   "execution_count": null,
   "id": "a6e618b2-5533-403a-a479-7e544c6a9caf",
   "metadata": {},
   "outputs": [],
   "source": [
    "app = Flask(__name__)\n",
    "app.config['APPLICATION_ROOT'] = '/dash1/'\n",
    "\n",
    "@app.route('/')\n",
    "def index():\n",
    "    return render_template('index.html')"
   ]
  },
  {
   "cell_type": "code",
   "execution_count": 11,
   "id": "fd74a876-28b2-4286-b9d1-efcde04f937f",
   "metadata": {},
   "outputs": [],
   "source": [
    "#host=\"0.0.0.0\", port=5051"
   ]
  },
  {
   "cell_type": "code",
   "execution_count": 12,
   "id": "9f71388a-c7cf-4a0d-af24-2bd306bd2586",
   "metadata": {},
   "outputs": [
    {
     "name": "stdout",
     "output_type": "stream",
     "text": [
      " * Serving Flask app '__main__' (lazy loading)\n",
      " * Environment: production\n",
      "\u001b[31m   WARNING: This is a development server. Do not use it in a production deployment.\u001b[0m\n",
      "\u001b[2m   Use a production WSGI server instead.\u001b[0m\n",
      " * Debug mode: off\n"
     ]
    },
    {
     "name": "stderr",
     "output_type": "stream",
     "text": [
      " * Running on all addresses (0.0.0.0)\n",
      "   WARNING: This is a development server. Do not use it in a production deployment.\n",
      " * Running on http://127.0.0.1:5051\n",
      " * Running on http://172.19.0.2:5051 (Press CTRL+C to quit)\n",
      "172.19.0.4 - - [17/May/2022 06:14:06] \"\u001b[33mGET /dash1/_reload-hash HTTP/1.1\u001b[0m\" 404 -\n",
      "172.19.0.4 - - [17/May/2022 06:14:09] \"\u001b[33mGET /dash1/_reload-hash HTTP/1.1\u001b[0m\" 404 -\n",
      "172.19.0.4 - - [17/May/2022 06:14:12] \"\u001b[33mGET /dash1/_reload-hash HTTP/1.1\u001b[0m\" 404 -\n",
      "172.19.0.4 - - [17/May/2022 06:14:15] \"\u001b[33mGET /dash1/_reload-hash HTTP/1.1\u001b[0m\" 404 -\n",
      "172.19.0.4 - - [17/May/2022 06:14:18] \"\u001b[33mGET /dash1/_reload-hash HTTP/1.1\u001b[0m\" 404 -\n",
      "172.19.0.4 - - [17/May/2022 06:14:21] \"\u001b[33mGET /dash1/_reload-hash HTTP/1.1\u001b[0m\" 404 -\n",
      "172.19.0.4 - - [17/May/2022 06:14:24] \"\u001b[33mGET /dash1/_reload-hash HTTP/1.1\u001b[0m\" 404 -\n",
      "172.19.0.4 - - [17/May/2022 06:14:27] \"\u001b[33mGET /dash1/_reload-hash HTTP/1.1\u001b[0m\" 404 -\n",
      "172.19.0.4 - - [17/May/2022 06:14:30] \"\u001b[33mGET /dash1/_reload-hash HTTP/1.1\u001b[0m\" 404 -\n",
      "172.19.0.4 - - [17/May/2022 06:14:30] \"\u001b[33mGET /dash1/ HTTP/1.1\u001b[0m\" 404 -\n",
      "172.19.0.4 - - [17/May/2022 06:14:33] \"\u001b[33mGET /dash1/_reload-hash HTTP/1.1\u001b[0m\" 404 -\n",
      "172.19.0.4 - - [17/May/2022 06:14:36] \"\u001b[33mGET /dash1/_reload-hash HTTP/1.1\u001b[0m\" 404 -\n",
      "172.19.0.4 - - [17/May/2022 06:14:39] \"\u001b[33mGET /dash1/_reload-hash HTTP/1.1\u001b[0m\" 404 -\n"
     ]
    }
   ],
   "source": [
    "app.run(host=\"0.0.0.0\", port=5051)"
   ]
  },
  {
   "cell_type": "code",
   "execution_count": null,
   "id": "079817e3-04a3-4e7d-b73e-00770b7d0269",
   "metadata": {},
   "outputs": [],
   "source": []
  }
 ],
 "metadata": {
  "kernelspec": {
   "display_name": "Python 3 (ipykernel)",
   "language": "python",
   "name": "python3"
  },
  "language_info": {
   "codemirror_mode": {
    "name": "ipython",
    "version": 3
   },
   "file_extension": ".py",
   "mimetype": "text/x-python",
   "name": "python",
   "nbconvert_exporter": "python",
   "pygments_lexer": "ipython3",
   "version": "3.10.4"
  }
 },
 "nbformat": 4,
 "nbformat_minor": 5
}
