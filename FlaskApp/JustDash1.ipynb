{
 "cells": [
  {
   "cell_type": "code",
   "execution_count": 4,
   "id": "28f4fbbe-a38c-4ee4-aedd-af8a3fd98efb",
   "metadata": {},
   "outputs": [],
   "source": [
    "from dash import Dash\n",
    "from dash import dcc\n",
    "from dash import html"
   ]
  },
  {
   "cell_type": "code",
   "execution_count": 5,
   "id": "5acec7ba-bf6c-4607-83d1-8b0c3d389a73",
   "metadata": {},
   "outputs": [],
   "source": [
    "from jupyter_dash import JupyterDash"
   ]
  },
  {
   "cell_type": "code",
   "execution_count": 6,
   "id": "3f9f9a31-6389-4099-9146-02b25a2009f1",
   "metadata": {},
   "outputs": [],
   "source": [
    "import dash_bootstrap_components as dbc\n",
    "COMPONENT_STYLE = \"/assets/my_component.css\"\n",
    "external_stylesheets=[dbc.themes.BOOTSTRAP]"
   ]
  },
  {
   "cell_type": "code",
   "execution_count": 7,
   "id": "3203da7b-f09c-426e-abd8-6bd15a13b9ee",
   "metadata": {},
   "outputs": [],
   "source": [
    "app = JupyterDash(__name__,requests_pathname_prefix=\"/dash1/\",routes_pathname_prefix='/dash1/',\n",
    "                  external_stylesheets=external_stylesheets,\n",
    "                  meta_tags=[{'name': 'viewport', 'content': 'width=device-width, initial-scale=1'}],\n",
    "                 suppress_callback_exceptions=True)\n",
    "# Create server variable with Flask server object for use with gunicorn\n",
    "server = app.server"
   ]
  },
  {
   "cell_type": "code",
   "execution_count": 9,
   "id": "28f6d6d6-d816-4ee5-bfbf-3a6c2bfa5973",
   "metadata": {},
   "outputs": [],
   "source": [
    "app.layout = html.Div('Hello',id='example-div-element')\n",
    "\n",
    "#app.layout = html.Div(id='example-div-element')"
   ]
  },
  {
   "cell_type": "code",
   "execution_count": 10,
   "id": "af2c13a0-88d7-4339-8558-ac878cef7a80",
   "metadata": {},
   "outputs": [
    {
     "name": "stdout",
     "output_type": "stream",
     "text": [
      "Dash app running on http://0.0.0.0:5051/dash1/\n"
     ]
    }
   ],
   "source": [
    "app.run_server(host=\"0.0.0.0\", port=5051)"
   ]
  },
  {
   "cell_type": "code",
   "execution_count": null,
   "id": "bf764dd8-6178-4fdd-b2ce-7cc6411d0d41",
   "metadata": {},
   "outputs": [],
   "source": []
  }
 ],
 "metadata": {
  "kernelspec": {
   "display_name": "Python 3",
   "language": "python",
   "name": "python3"
  },
  "language_info": {
   "codemirror_mode": {
    "name": "ipython",
    "version": 3
   },
   "file_extension": ".py",
   "mimetype": "text/x-python",
   "name": "python",
   "nbconvert_exporter": "python",
   "pygments_lexer": "ipython3",
   "version": "3.8.10"
  }
 },
 "nbformat": 4,
 "nbformat_minor": 5
}
