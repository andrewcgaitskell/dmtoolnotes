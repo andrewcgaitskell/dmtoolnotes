{
 "cells": [
  {
   "cell_type": "code",
   "execution_count": 1,
   "id": "7ebf9321-5d09-4471-9030-517488a73960",
   "metadata": {},
   "outputs": [],
   "source": [
    "from flask import Flask"
   ]
  },
  {
   "cell_type": "code",
   "execution_count": 2,
   "id": "28f4fbbe-a38c-4ee4-aedd-af8a3fd98efb",
   "metadata": {},
   "outputs": [],
   "source": [
    "from dash import Dash\n",
    "from dash import dcc\n",
    "from dash import html"
   ]
  },
  {
   "cell_type": "code",
   "execution_count": 3,
   "id": "5acec7ba-bf6c-4607-83d1-8b0c3d389a73",
   "metadata": {},
   "outputs": [],
   "source": [
    "from jupyter_dash import JupyterDash"
   ]
  },
  {
   "cell_type": "code",
   "execution_count": 4,
   "id": "3f9f9a31-6389-4099-9146-02b25a2009f1",
   "metadata": {},
   "outputs": [],
   "source": [
    "import dash_bootstrap_components as dbc\n",
    "COMPONENT_STYLE = \"/assets/my_component.css\"\n",
    "external_stylesheets=[dbc.themes.BOOTSTRAP]"
   ]
  },
  {
   "cell_type": "code",
   "execution_count": 5,
   "id": "3203da7b-f09c-426e-abd8-6bd15a13b9ee",
   "metadata": {},
   "outputs": [],
   "source": [
    "server = Flask(__name__)\n",
    "app = JupyterDash(__name__,requests_pathname_prefix=\"/dash1/\",routes_pathname_prefix='/dash1/',\n",
    "                  server=server,\n",
    "                  external_stylesheets=external_stylesheets,\n",
    "                  meta_tags=[{'name': 'viewport', 'content': 'width=device-width, initial-scale=1'}],\n",
    "                 suppress_callback_exceptions=True)\n",
    "# Create server variable with Flask server object for use with gunicorn\n",
    "server = app.server"
   ]
  },
  {
   "cell_type": "code",
   "execution_count": 6,
   "id": "ca4fcfee-841d-4a7f-9def-44620cb54b79",
   "metadata": {},
   "outputs": [],
   "source": [
    "@server.route(\"/dash\")\n",
    "def my_dash_app():\n",
    "    return app.index()"
   ]
  },
  {
   "cell_type": "code",
   "execution_count": 7,
   "id": "28f6d6d6-d816-4ee5-bfbf-3a6c2bfa5973",
   "metadata": {},
   "outputs": [],
   "source": [
    "#app.layout = html.Div('Hello',id='example-div-element')\n",
    "\n",
    "#app.layout = html.Div(id='example-div-element')"
   ]
  },
  {
   "cell_type": "code",
   "execution_count": 8,
   "id": "af2c13a0-88d7-4339-8558-ac878cef7a80",
   "metadata": {},
   "outputs": [],
   "source": [
    "#app.run_server(host=\"0.0.0.0\", port=5051)"
   ]
  },
  {
   "cell_type": "code",
   "execution_count": null,
   "id": "bf764dd8-6178-4fdd-b2ce-7cc6411d0d41",
   "metadata": {},
   "outputs": [],
   "source": []
  }
 ],
 "metadata": {
  "kernelspec": {
   "display_name": "Python 3 (ipykernel)",
   "language": "python",
   "name": "python3"
  },
  "language_info": {
   "codemirror_mode": {
    "name": "ipython",
    "version": 3
   },
   "file_extension": ".py",
   "mimetype": "text/x-python",
   "name": "python",
   "nbconvert_exporter": "python",
   "pygments_lexer": "ipython3",
   "version": "3.10.4"
  }
 },
 "nbformat": 4,
 "nbformat_minor": 5
}
