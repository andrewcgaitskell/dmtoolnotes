{
 "cells": [
  {
   "cell_type": "code",
   "execution_count": 1,
   "id": "3f824ec6-ffb4-41d2-89c4-124a9db7671f",
   "metadata": {},
   "outputs": [],
   "source": [
    "from flask import Flask\n",
    "from views.index import index_blueprint"
   ]
  },
  {
   "cell_type": "code",
   "execution_count": 2,
   "id": "e8cbf3e1-386f-4cd3-9d44-96a77f1f6f60",
   "metadata": {},
   "outputs": [],
   "source": [
    "application = Flask(__name__)\n",
    "application.register_blueprint(index_blueprint)"
   ]
  },
  {
   "cell_type": "code",
   "execution_count": null,
   "id": "143b6f9c-bc1a-4650-9914-021460e15a9b",
   "metadata": {},
   "outputs": [
    {
     "name": "stdout",
     "output_type": "stream",
     "text": [
      " * Serving Flask app '__main__' (lazy loading)\n",
      " * Environment: production\n",
      "\u001b[31m   WARNING: This is a development server. Do not use it in a production deployment.\u001b[0m\n",
      "\u001b[2m   Use a production WSGI server instead.\u001b[0m\n",
      " * Debug mode: off\n"
     ]
    },
    {
     "name": "stderr",
     "output_type": "stream",
     "text": [
      " * Running on all addresses (0.0.0.0)\n",
      "   WARNING: This is a development server. Do not use it in a production deployment.\n",
      " * Running on http://127.0.0.1:5052\n",
      " * Running on http://172.19.0.2:5052 (Press CTRL+C to quit)\n",
      "172.19.0.3 - - [17/May/2022 08:39:34] \"\u001b[32mGET /dash2 HTTP/1.1\u001b[0m\" 308 -\n",
      "172.19.0.3 - - [17/May/2022 08:39:55] \"GET /dash2/ HTTP/1.1\" 200 -\n"
     ]
    }
   ],
   "source": [
    "application.run(host=\"0.0.0.0\", port=5052)"
   ]
  },
  {
   "cell_type": "code",
   "execution_count": null,
   "id": "7372e8a5-9846-4427-b36e-8ddb13d3b97b",
   "metadata": {},
   "outputs": [],
   "source": []
  }
 ],
 "metadata": {
  "kernelspec": {
   "display_name": "Python 3 (ipykernel)",
   "language": "python",
   "name": "python3"
  },
  "language_info": {
   "codemirror_mode": {
    "name": "ipython",
    "version": 3
   },
   "file_extension": ".py",
   "mimetype": "text/x-python",
   "name": "python",
   "nbconvert_exporter": "python",
   "pygments_lexer": "ipython3",
   "version": "3.10.4"
  }
 },
 "nbformat": 4,
 "nbformat_minor": 5
}
