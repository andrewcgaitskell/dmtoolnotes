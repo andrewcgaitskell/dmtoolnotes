{
 "cells": [
  {
   "cell_type": "code",
   "execution_count": 1,
   "id": "e65cf34a-f817-4429-a02b-41c839f1d664",
   "metadata": {},
   "outputs": [
    {
     "name": "stdout",
     "output_type": "stream",
     "text": [
      "Requirement already satisfied: python-dotenv in /srv/jupyterhub/env/lib/python3.10/site-packages (0.20.0)\n"
     ]
    }
   ],
   "source": [
    "!pip install python-dotenv"
   ]
  },
  {
   "cell_type": "code",
   "execution_count": 2,
   "id": "4134c89a-d46a-47bc-9159-2d364317791a",
   "metadata": {},
   "outputs": [],
   "source": [
    "import os\n",
    "from dotenv import load_dotenv"
   ]
  },
  {
   "cell_type": "code",
   "execution_count": 3,
   "id": "bcaf2d67-1218-4ac7-aa99-1be4d9cd1964",
   "metadata": {},
   "outputs": [],
   "source": [
    "from views.index import index_blueprint"
   ]
  },
  {
   "cell_type": "code",
   "execution_count": 4,
   "id": "56aa7802-96a5-46cd-b6f7-a2b38188db44",
   "metadata": {},
   "outputs": [],
   "source": [
    "from flask import Flask, request, g, session, redirect, url_for\n",
    "from flask import render_template_string, jsonify\n",
    "from flask_github import GitHub\n",
    "\n",
    "from sqlalchemy import create_engine, Column, Integer, String\n",
    "from sqlalchemy.orm import scoped_session, sessionmaker\n",
    "from sqlalchemy.ext.declarative import declarative_base"
   ]
  },
  {
   "cell_type": "code",
   "execution_count": 5,
   "id": "0da1652b-dc41-4253-99f3-763dcf192e9e",
   "metadata": {},
   "outputs": [],
   "source": [
    "load_dotenv()\n",
    "\n",
    "GITHUB_CLIENT_ID = os.getenv('GITHUB_CLIENT_ID')\n",
    "GITHUB_CLIENT_SECRET = os.getenv('GITHUB_CLIENT_SECRET')"
   ]
  },
  {
   "cell_type": "code",
   "execution_count": 6,
   "id": "e04f404e-6577-4531-a4c4-321b353fc94e",
   "metadata": {},
   "outputs": [],
   "source": [
    "DATABASE_URI = 'sqlite:////srv/jupyterhub/notebooks/github-flask.db'\n",
    "SECRET_KEY = 'development key'\n",
    "DEBUG = True\n"
   ]
  },
  {
   "cell_type": "code",
   "execution_count": 7,
   "id": "d8ae5649-7782-4dfe-9070-0d45f14a1a23",
   "metadata": {},
   "outputs": [],
   "source": [
    "app = Flask(__name__)\n",
    "#app.config.from_object(__name__)\n",
    "app.register_blueprint(index_blueprint)"
   ]
  },
  {
   "cell_type": "code",
   "execution_count": 8,
   "id": "35e6c1a2-2b8a-4dcd-8082-ae31b2d177a1",
   "metadata": {},
   "outputs": [],
   "source": [
    "# Set these values\n",
    "#GITHUB_CLIENT_ID = 'XXX'\n",
    "#GITHUB_CLIENT_SECRET = 'YYY'"
   ]
  },
  {
   "cell_type": "code",
   "execution_count": 9,
   "id": "3c9daa33-6aee-4ffd-8ea9-417564681ff8",
   "metadata": {},
   "outputs": [],
   "source": [
    "# setup github-flask\n",
    "# github = GitHub(app)"
   ]
  },
  {
   "cell_type": "code",
   "execution_count": 10,
   "id": "3a7e5d5b-4285-49ba-ac24-cad588374248",
   "metadata": {},
   "outputs": [],
   "source": [
    "app.config['GITHUB_CLIENT_ID'] = GITHUB_CLIENT_ID\n",
    "app.config['GITHUB_CLIENT_SECRET'] = GITHUB_CLIENT_SECRET\n",
    "app.config['DATABASE_URI'] = DATABASE_URI\n",
    "# For GitHub Enterprise\n",
    "#app.config['GITHUB_BASE_URL'] = 'https://dev3.dmtools.info/home/api/v3/'\n",
    "app.config['GITHUB_BASE_URL'] = 'https://dgithub.com/api/v3/'\n",
    "#app.config['GITHUB_AUTH_URL'] = 'https://dev3.dmtools.info/home/login/oauth/'\n",
    "app.config['GITHUB_AUTH_URL'] = 'https://github.com/login/oauth'\n",
    "\n",
    "github = GitHub(app)"
   ]
  },
  {
   "cell_type": "code",
   "execution_count": 11,
   "id": "c686d545-ed94-4a90-a444-9a215221d688",
   "metadata": {},
   "outputs": [],
   "source": [
    "# setup sqlalchemy\n",
    "engine = create_engine(app.config['DATABASE_URI'])\n",
    "db_session = scoped_session(sessionmaker(autocommit=False,\n",
    "                                         autoflush=False,\n",
    "                                         bind=engine))"
   ]
  },
  {
   "cell_type": "code",
   "execution_count": 12,
   "id": "c7fa1963-dc6b-42d9-ac8a-58c68ad0c47b",
   "metadata": {},
   "outputs": [],
   "source": [
    "Base = declarative_base()\n",
    "Base.query = db_session.query_property()"
   ]
  },
  {
   "cell_type": "code",
   "execution_count": 13,
   "id": "e574be86-9259-40ff-9455-fa13a3ba3a73",
   "metadata": {},
   "outputs": [],
   "source": [
    "def init_db():\n",
    "    Base.metadata.create_all(bind=engine)\n",
    "\n",
    "\n",
    "class User(Base):\n",
    "    __tablename__ = 'users'\n",
    "\n",
    "    id = Column(Integer, primary_key=True)\n",
    "    github_access_token = Column(String(255))\n",
    "    github_id = Column(Integer)\n",
    "    github_login = Column(String(255))\n",
    "\n",
    "    def __init__(self, github_access_token):\n",
    "        self.github_access_token = github_access_token\n",
    "\n",
    "\n",
    "@app.before_request\n",
    "def before_request():\n",
    "    g.user = None\n",
    "    if 'user_id' in session:\n",
    "        g.user = User.query.get(session['user_id'])\n",
    "\n",
    "\n",
    "@app.after_request\n",
    "def after_request(response):\n",
    "    db_session.remove()\n",
    "    return response\n",
    "\n",
    "\n",
    "@app.route('/home/hello')\n",
    "def index():\n",
    "    if g.user:\n",
    "        t = 'Hello! %s <a href=\"{{ url_for(\"user\") }}\">Get user</a> ' \\\n",
    "            '<a href=\"{{ url_for(\"repo\") }}\">Get repo</a> ' \\\n",
    "            '<a href=\"{{ url_for(\"logout\") }}\">Logout</a>'\n",
    "        t %= g.user.github_login\n",
    "    else:\n",
    "        t = 'Hello! <a href=\"{{ url_for(\"login\") }}\">Login</a>'\n",
    "\n",
    "    return render_template_string(t)\n",
    "\n",
    "\n",
    "@github.access_token_getter\n",
    "def token_getter():\n",
    "    user = g.user\n",
    "    if user is not None:\n",
    "        return user.github_access_token\n",
    "\n",
    "\n",
    "@app.route('/home/github-callback')\n",
    "@github.authorized_handler\n",
    "def authorized(access_token):\n",
    "    next_url = request.args.get('next') or url_for('index')\n",
    "    if access_token is None:\n",
    "        return redirect(next_url)\n",
    "\n",
    "    user = User.query.filter_by(github_access_token=access_token).first()\n",
    "    if user is None:\n",
    "        user = User(access_token)\n",
    "        db_session.add(user)\n",
    "\n",
    "    user.github_access_token = access_token\n",
    "\n",
    "    # Not necessary to get these details here\n",
    "    # but it helps humans to identify users easily.\n",
    "    g.user = user\n",
    "    github_user = github.get('/home/user')\n",
    "    user.github_id = github_user['id']\n",
    "    user.github_login = github_user['login']\n",
    "\n",
    "    db_session.commit()\n",
    "\n",
    "    session['user_id'] = user.id\n",
    "    return redirect(next_url)\n",
    "\n",
    "\n",
    "@app.route('/home/login')\n",
    "def login():\n",
    "    if session.get('user_id', None) is None:\n",
    "        return github.authorize()\n",
    "    else:\n",
    "        return 'Already logged in'\n",
    "\n",
    "\n",
    "@app.route('/home/logout')\n",
    "def logout():\n",
    "    session.pop('user_id', None)\n",
    "    return redirect(url_for('index'))\n",
    "\n",
    "\n",
    "@app.route('/home/user')\n",
    "def user():\n",
    "    return jsonify(github.get('/home/user'))\n",
    "\n",
    "\n",
    "@app.route('/home/repo')\n",
    "def repo():\n",
    "    return jsonify(github.get('/repos/cenkalti/github-flask'))\n",
    "\n"
   ]
  },
  {
   "cell_type": "code",
   "execution_count": 14,
   "id": "25135db0-1bf4-4d82-90ec-83ffd40c8fb5",
   "metadata": {},
   "outputs": [],
   "source": [
    "init_db()"
   ]
  },
  {
   "cell_type": "code",
   "execution_count": null,
   "id": "f7ddaebe-d888-4383-963b-50a75a9129fe",
   "metadata": {},
   "outputs": [
    {
     "name": "stdout",
     "output_type": "stream",
     "text": [
      " * Serving Flask app '__main__' (lazy loading)\n",
      " * Environment: production\n",
      "\u001b[31m   WARNING: This is a development server. Do not use it in a production deployment.\u001b[0m\n",
      "\u001b[2m   Use a production WSGI server instead.\u001b[0m\n",
      " * Debug mode: off\n"
     ]
    },
    {
     "name": "stderr",
     "output_type": "stream",
     "text": [
      " * Running on all addresses (0.0.0.0)\n",
      "   WARNING: This is a development server. Do not use it in a production deployment.\n",
      " * Running on http://127.0.0.1:5060\n",
      " * Running on http://172.19.0.2:5060 (Press CTRL+C to quit)\n",
      "172.19.0.4 - - [19/May/2022 14:07:36] \"GET /home/hello HTTP/1.1\" 200 -\n",
      "172.19.0.4 - - [19/May/2022 14:07:39] \"\u001b[32mGET /home/login HTTP/1.1\u001b[0m\" 302 -\n"
     ]
    }
   ],
   "source": [
    "app.run(host=\"0.0.0.0\", port=5060)"
   ]
  }
 ],
 "metadata": {
  "kernelspec": {
   "display_name": "Python 3 (ipykernel)",
   "language": "python",
   "name": "python3"
  },
  "language_info": {
   "codemirror_mode": {
    "name": "ipython",
    "version": 3
   },
   "file_extension": ".py",
   "mimetype": "text/x-python",
   "name": "python",
   "nbconvert_exporter": "python",
   "pygments_lexer": "ipython3",
   "version": "3.10.4"
  }
 },
 "nbformat": 4,
 "nbformat_minor": 5
}
