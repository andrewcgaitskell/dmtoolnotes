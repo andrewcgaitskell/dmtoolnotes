{
 "cells": [
  {
   "cell_type": "code",
   "execution_count": 1,
   "id": "8a710350",
   "metadata": {},
   "outputs": [],
   "source": [
    "#from werkzeug.wsgi import DispatcherMiddleware\n",
    "from werkzeug.middleware.dispatcher import DispatcherMiddleware\n",
    "from werkzeug.serving import run_simple\n",
    "import flask\n",
    "from flask import Flask, Response, redirect, url_for, request, session, abort\n",
    "from flask_login import LoginManager, UserMixin, login_required, login_user, logout_user \n",
    "from dash import Dash\n",
    "from dash import html"
   ]
  },
  {
   "cell_type": "code",
   "execution_count": 2,
   "id": "3f824ec6-ffb4-41d2-89c4-124a9db7671f",
   "metadata": {},
   "outputs": [],
   "source": [
    "from flask import Flask\n",
    "from views.index import index_blueprint\n",
    "from views.simple_page import simple_page_blueprint\n",
    "from views.mail import mail_blueprint\n",
    "from views.child import child_blueprint"
   ]
  },
  {
   "cell_type": "code",
   "execution_count": 3,
   "id": "e8cbf3e1-386f-4cd3-9d44-96a77f1f6f60",
   "metadata": {},
   "outputs": [],
   "source": [
    "application = Flask(__name__)\n",
    "application.register_blueprint(index_blueprint)\n",
    "application.register_blueprint(simple_page_blueprint)\n",
    "application.register_blueprint(mail_blueprint)\n",
    "application.register_blueprint(child_blueprint)"
   ]
  },
  {
   "cell_type": "code",
   "execution_count": 4,
   "id": "35d5ced2",
   "metadata": {},
   "outputs": [],
   "source": [
    "#server = flask.Flask(__name__)\n",
    "\n",
    "#server.config.update(\n",
    "#    DEBUG = True,\n",
    "#    SECRET_KEY = 'secret_xxx'\n",
    "#\n",
    "\n",
    "dash_app1 = Dash(__name__, server = application, url_base_pathname='/dashboard/' )\n",
    "dash_app2 = Dash(__name__, server = application, url_base_pathname='/reports/')\n",
    "dash_app1.layout = html.Div([html.H1('Hi there, I am app1 for dashboards')])\n",
    "dash_app2.layout = html.Div([html.H1('Hi there, I am app2 for reports')])\n",
    "\n",
    "\n",
    "#dash_app1 = protect_views(dash_app1)\n",
    "#dash_app2 = protect_views(dash_app2)\n",
    "\n",
    "@application.route('/')\n",
    "@application.route('/hello')\n",
    "#@login_required\n",
    "def hello():\n",
    "    return 'hello world!'\n",
    "\n",
    "@application.route('/dashboard')\n",
    "def render_dashboard():\n",
    "    return flask.redirect('/dash1')\n",
    "\n",
    "\n",
    "@application.route('/reports')\n",
    "def render_reports():\n",
    "    return flask.redirect('/dash2')\n",
    "\n",
    "\n",
    "app = DispatcherMiddleware(application, {\n",
    "    '/dash1': dash_app1.server,\n",
    "    '/dash2': dash_app2.server\n",
    "})"
   ]
  },
  {
   "cell_type": "code",
   "execution_count": null,
   "id": "5071fe8f",
   "metadata": {},
   "outputs": [],
   "source": []
  },
  {
   "cell_type": "code",
   "execution_count": null,
   "id": "143b6f9c-bc1a-4650-9914-021460e15a9b",
   "metadata": {},
   "outputs": [
    {
     "name": "stdout",
     "output_type": "stream",
     "text": [
      " * Serving Flask app '__main__' (lazy loading)\n",
      " * Environment: production\n",
      "\u001b[31m   WARNING: This is a development server. Do not use it in a production deployment.\u001b[0m\n",
      "\u001b[2m   Use a production WSGI server instead.\u001b[0m\n",
      " * Debug mode: off\n"
     ]
    },
    {
     "name": "stderr",
     "output_type": "stream",
     "text": [
      " * Running on http://localhost:9000/ (Press CTRL+C to quit)\n",
      "127.0.0.1 - - [21/Oct/2022 15:56:45] \"GET / HTTP/1.1\" 200 -\n",
      "127.0.0.1 - - [21/Oct/2022 15:56:56] \"\u001b[33mGET /dash1 HTTP/1.1\u001b[0m\" 404 -\n",
      "127.0.0.1 - - [21/Oct/2022 15:57:04] \"\u001b[32mGET /reports HTTP/1.1\u001b[0m\" 308 -\n",
      "127.0.0.1 - - [21/Oct/2022 15:57:04] \"GET /reports/ HTTP/1.1\" 200 -\n",
      "127.0.0.1 - - [21/Oct/2022 15:57:05] \"GET /reports/_dash-component-suites/dash/deps/polyfill@7.v2_0_0m1635959700.12.1.min.js HTTP/1.1\" 200 -\n",
      "127.0.0.1 - - [21/Oct/2022 15:57:05] \"GET /reports/_dash-component-suites/dash/deps/react@16.v2_0_0m1635959700.14.0.min.js HTTP/1.1\" 200 -\n",
      "127.0.0.1 - - [21/Oct/2022 15:57:05] \"GET /reports/_dash-component-suites/dash/deps/react-dom@16.v2_0_0m1635959700.14.0.min.js HTTP/1.1\" 200 -\n",
      "127.0.0.1 - - [21/Oct/2022 15:57:05] \"GET /reports/_dash-component-suites/dash/deps/prop-types@15.v2_0_0m1635959700.7.2.min.js HTTP/1.1\" 200 -\n",
      "127.0.0.1 - - [21/Oct/2022 15:57:05] \"GET /reports/_dash-component-suites/dash/dash-renderer/build/dash_renderer.v2_0_0m1635959700.min.js HTTP/1.1\" 200 -\n",
      "127.0.0.1 - - [21/Oct/2022 15:57:05] \"GET /reports/_dash-component-suites/dash/dcc/dash_core_components.v2_0_0m1635959700.js HTTP/1.1\" 200 -\n",
      "127.0.0.1 - - [21/Oct/2022 15:57:05] \"GET /reports/_dash-component-suites/dash/dcc/dash_core_components-shared.v2_0_0m1635959700.js HTTP/1.1\" 200 -\n",
      "127.0.0.1 - - [21/Oct/2022 15:57:05] \"GET /reports/_dash-component-suites/dash/html/dash_html_components.v2_0_0m1635959700.min.js HTTP/1.1\" 200 -\n",
      "127.0.0.1 - - [21/Oct/2022 15:57:05] \"GET /reports/_dash-component-suites/dash/dash_table/bundle.v5_0_0m1635959700.js HTTP/1.1\" 200 -\n",
      "127.0.0.1 - - [21/Oct/2022 15:57:05] \"GET /reports/_dash-layout HTTP/1.1\" 200 -\n",
      "127.0.0.1 - - [21/Oct/2022 15:57:05] \"GET /reports/_dash-dependencies HTTP/1.1\" 200 -\n",
      "127.0.0.1 - - [21/Oct/2022 15:57:05] \"GET /reports/_favicon.ico?v=2.0.0 HTTP/1.1\" 200 -\n"
     ]
    }
   ],
   "source": [
    "application.run(host=\"localhost\", port=9000)"
   ]
  },
  {
   "cell_type": "raw",
   "id": "b43a26f5",
   "metadata": {},
   "source": [
    "visit http://localhost:9000/home/"
   ]
  }
 ],
 "metadata": {
  "kernelspec": {
   "display_name": "Python 3",
   "language": "python",
   "name": "python3"
  },
  "language_info": {
   "codemirror_mode": {
    "name": "ipython",
    "version": 3
   },
   "file_extension": ".py",
   "mimetype": "text/x-python",
   "name": "python",
   "nbconvert_exporter": "python",
   "pygments_lexer": "ipython3",
   "version": "3.8.10"
  }
 },
 "nbformat": 4,
 "nbformat_minor": 5
}
