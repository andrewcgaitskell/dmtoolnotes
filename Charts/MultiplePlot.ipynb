{
 "cells": [
  {
   "cell_type": "code",
   "execution_count": 81,
   "id": "2c5a6396-6417-46b0-a43b-757279cf31ed",
   "metadata": {},
   "outputs": [],
   "source": [
    "#!pip install dash_bootstrap_components"
   ]
  },
  {
   "cell_type": "code",
   "execution_count": 82,
   "id": "b7703b90-70f0-478a-a337-43414b2e489b",
   "metadata": {},
   "outputs": [],
   "source": [
    "import os"
   ]
  },
  {
   "cell_type": "code",
   "execution_count": 83,
   "id": "33818c06-e077-4cb3-8070-253b91b5e18d",
   "metadata": {},
   "outputs": [],
   "source": [
    "cwd = os.getcwd()"
   ]
  },
  {
   "cell_type": "code",
   "execution_count": 84,
   "id": "ce319a82",
   "metadata": {},
   "outputs": [],
   "source": [
    "import dash\n",
    "from dash import dcc\n",
    "from dash import html\n",
    "from dash import dash_table\n",
    "\n",
    "from dash.exceptions import PreventUpdate\n",
    "\n",
    "from collections import OrderedDict\n",
    "\n",
    "import plotly.graph_objects as go\n",
    "from plotly.subplots import make_subplots\n",
    "\n",
    "from dash import Dash, Input, Output,State, callback\n",
    "\n",
    "from jupyter_dash import JupyterDash\n",
    "\n",
    "import dash_bootstrap_components as dbc\n",
    "COMPONENT_STYLE = \"/assets/my_component.css\"\n",
    "external_stylesheets=[dbc.themes.BOOTSTRAP]\n",
    "\n",
    "app = JupyterDash(__name__,requests_pathname_prefix=\"/dash1/\",routes_pathname_prefix='/dash1/',\n",
    "                  external_stylesheets=external_stylesheets,\n",
    "                  meta_tags=[{'name': 'viewport', 'content': 'width=device-width, initial-scale=1'}],\n",
    "                 suppress_callback_exceptions=True)\n",
    "# Create server variable with Flask server object for use with gunicorn\n",
    "server = app.server"
   ]
  },
  {
   "cell_type": "code",
   "execution_count": 85,
   "id": "6129a03a",
   "metadata": {},
   "outputs": [],
   "source": [
    "from hello import hello_layout\n",
    "#app.layout = hello_layout"
   ]
  },
  {
   "cell_type": "code",
   "execution_count": 86,
   "id": "65e36d04",
   "metadata": {},
   "outputs": [],
   "source": [
    "from all_data_tables import years_table, limit_types_table\n",
    "from all_data_tables import experiments_table, result_types_table, spin_dependency_table\n",
    "from all_data_tables import greatest_hit_table, limits_table\n",
    "\n",
    "from all_data_tables import years_df, limit_types_df\n",
    "from all_data_tables import experiments_df, result_types_df, spin_dependency_df\n",
    "from all_data_tables import greatest_hit_df, limits_df\n",
    "\n",
    "from all_data_tables import limits_table_df"
   ]
  },
  {
   "cell_type": "code",
   "execution_count": 87,
   "id": "048e624b-46c8-4bd4-ac9e-a9fcb74cc728",
   "metadata": {},
   "outputs": [],
   "source": [
    "#app.layout = html.Div(['Hello World'])\n",
    "\n",
    "#app.run_server(host=\"0.0.0.0\", port=5051)"
   ]
  },
  {
   "cell_type": "code",
   "execution_count": 88,
   "id": "4ad9857f",
   "metadata": {},
   "outputs": [],
   "source": [
    "import pandas as pd"
   ]
  },
  {
   "cell_type": "markdown",
   "id": "4adf7492",
   "metadata": {},
   "source": [
    "# Color Code"
   ]
  },
  {
   "cell_type": "code",
   "execution_count": 89,
   "id": "55d75942",
   "metadata": {},
   "outputs": [],
   "source": [
    "import plotly.graph_objects as go\n",
    "import plotly.express as px\n",
    "from itertools import cycle\n",
    "\n",
    "# colors\n",
    "palette = cycle(px.colors.qualitative.Bold)\n",
    "#palette = cycle(['black', 'grey', 'red', 'blue'])"
   ]
  },
  {
   "cell_type": "markdown",
   "id": "5752a1cd",
   "metadata": {},
   "source": [
    "# SQL"
   ]
  },
  {
   "cell_type": "raw",
   "id": "94855902",
   "metadata": {},
   "source": [
    "experiments_df"
   ]
  },
  {
   "cell_type": "raw",
   "id": "25b08659",
   "metadata": {},
   "source": [
    "result_ids = [1,262]\n",
    "\n",
    "multiresult_df = limits_df[limits_df['id'].isin(result_ids)]\n",
    "\n",
    "multiresult_df.columns"
   ]
  },
  {
   "cell_type": "raw",
   "id": "2aa77ea0",
   "metadata": {},
   "source": [
    "DataFrame.to_csv(path_or_buf=None, sep=',', na_rep='', float_format=None, columns=None, header=True, index=True, index_label=None, mode='w', encoding=None, compression='infer', quoting=None, quotechar='\"', line_terminator=None, chunksize=None, date_format=None, doublequote=True, escapechar=None, decimal='.', errors='strict', storage_options=None)[source]"
   ]
  },
  {
   "cell_type": "code",
   "execution_count": 90,
   "id": "b9e03166",
   "metadata": {},
   "outputs": [],
   "source": [
    "#multiresult_df.to_csv(cwd+'/data.csv')"
   ]
  },
  {
   "cell_type": "code",
   "execution_count": 91,
   "id": "8d4200b4",
   "metadata": {},
   "outputs": [],
   "source": [
    "#csv_df = pd.read_csv(cwd+'/data.csv')\n",
    "#csv_df"
   ]
  },
  {
   "cell_type": "code",
   "execution_count": 92,
   "id": "991a9ffa",
   "metadata": {},
   "outputs": [],
   "source": [
    "# Define scale factors [WT]\n",
    "def get_scale_factor(unit):\n",
    "    BARN_CM2= 1e-24\n",
    "    \n",
    "    if (unit == \"b\"):\n",
    "        return BARN_CM\n",
    "    elif (unit == \"mb\"):\n",
    "        return 1e-3*BARN_CM2\n",
    "    elif (unit == \"ub\"):\n",
    "        return 1e-6*BARN_CM2\n",
    "    elif (unit == \"nb\"):\n",
    "        return 1e-9*BARN_CM2\n",
    "    elif (unit == \"pb\"):\n",
    "        return 1e-12*BARN_CM2\n",
    "    elif (unit == \"fb\"):\n",
    "        return 1e-15*BARN_CM2\n",
    "    elif (unit == \"ab\"):\n",
    "        return 1e-18*BARN_CM2\n",
    "    elif (unit == \"zb\"):\n",
    "        return 1e-21*BARN_CM2\n",
    "    elif (unit == \"yb\"):\n",
    "        return 1e-24*BARN_CM2\n",
    "    else: \n",
    "        return 1"
   ]
  },
  {
   "cell_type": "code",
   "execution_count": 93,
   "id": "b7fbde05",
   "metadata": {},
   "outputs": [],
   "source": [
    "def datastring2dataframe(row_in):\n",
    "    #try:\n",
    "    #data_list = row_in['data_values'].tolist()\n",
    "    #data_list = row[['data_values']].iloc[0]\n",
    "    #if isinstance(data_list, pd.DataFrame):\n",
    "    #    row_data = next(data_list.iterrows())[1]\n",
    "    #else:\n",
    "    #    row_data = data_list\n",
    "    data_string = row_in[['data_values']].iloc[0]\n",
    "    data_string = data_string.replace(\"{[\", \"\")\n",
    "    data_string = data_string.replace(\"]}\", \"\")\n",
    "    x = data_string.split(\";\")\n",
    "    lol = []\n",
    "    \n",
    "    \n",
    "    data_series = data_string.split(\"]\")\n",
    "    #print(len(data_series))\n",
    "    for l in range(0,len(data_series)):\n",
    "        next_colour = next(palette)\n",
    "        single_set = data_series[l]\n",
    "        set_list = single_set.split(\";\")\n",
    "        for i in set_list:\n",
    "            z = i.split(\" \");\n",
    "            new_x = z[0].replace(\",[\", \"\")\n",
    "            try:\n",
    "                appendthis = [row_in['id'],row_in['data_label'],l,new_x,z[1],next_colour]\n",
    "            except:\n",
    "                appendthis = [row_in['id'],l,0,0]\n",
    "            lol.append(appendthis)\n",
    "    \n",
    "    #for i in x:\n",
    "    #    z = i.split(\" \");\n",
    "    #    appendthis = [z[0],z[1]]\n",
    "    #    lol.append(appendthis)\n",
    "    #lol\n",
    "    df_experiment = pd.DataFrame(data=lol,columns=['id','data_label','series','raw_x','raw_y','suggested_color'])\n",
    "\n",
    "    unit = \"zb\" # this will probably be provided by the user via a drop-down menu\n",
    "    scale_factor = float(get_scale_factor(unit))\n",
    "\n",
    "\n",
    "    df_experiment['x'] = df_experiment['raw_x'].astype(str).astype(dtype = float, errors = 'ignore')\n",
    "\n",
    "    # add scale_factor here\n",
    "    df_experiment['y'] = df_experiment['raw_y'].astype(str).astype(dtype = float, errors = 'ignore')#/scale_factor\n",
    "    #df_experiment['y'] =  df_experiment['y'].div(scale_factor).round(2)\n",
    "    df_experiment['scale_factor'] = scale_factor\n",
    "    df_experiment['scaled_y']=df_experiment[['y','scale_factor']].apply(pd.to_numeric,errors='coerce').fillna(0).eval('y/scale_factor')\n",
    "    #'experiment',\n",
    "    #'series'\n",
    "    \n",
    "    #except:\n",
    "    #    data_null = [[0,0]]\n",
    "    #    df_experiment = pd.DataFrame(data=data_null,columns=['raw_x','raw_y'])#\n",
    "\n",
    "    #    df_experiment['x'] = df_experiment['raw_x'].astype(str).astype(float)\n",
    "    #    df_experiment['y'] = df_experiment['raw_y'].astype(str).astype(float)\n",
    "    #df_experiment.dtypes\n",
    "    return df_experiment"
   ]
  },
  {
   "cell_type": "raw",
   "id": "35dad362",
   "metadata": {},
   "source": [
    "multiresult_df"
   ]
  },
  {
   "cell_type": "raw",
   "id": "ea6814d6",
   "metadata": {},
   "source": [
    "#print(row['id'], row['data_values'])\n",
    "\n",
    "    data_string = row[['data_values']].iloc[0]\n",
    "    data_string = data_string.replace(\"{[\", \"\")\n",
    "    data_string = data_string.replace(\"]}\", \"\")\n",
    "    #print(data_string)\n",
    "    data_series = data_string.split(\"]\")\n",
    "    #print(len(data_series))\n",
    "    for l in range(0,len(data_series)):\n",
    "        next_colour = next(palette)\n",
    "        single_set = data_series[l]\n",
    "        set_list = single_set.split(\";\")\n",
    "        for i in set_list:\n",
    "            z = i.split(\" \");\n",
    "            new_x = z[0].replace(\",[\", \"\")\n",
    "            try:\n",
    "                appendthis = [row['id'],l,new_x,z[1],next_colour]\n",
    "            except:\n",
    "                appendthis = [row['id'],l,0,0]\n",
    "            lol.append(appendthis)"
   ]
  },
  {
   "cell_type": "raw",
   "id": "41ad7e1f",
   "metadata": {},
   "source": [
    "result_ids = [1,262]\n",
    "\n",
    "multiresult_df = limits_df[limits_df['id'].isin(result_ids)]\n",
    "\n",
    "data_df = multiresult_df\n",
    "\n",
    "lol = []\n",
    "df_experiment_all=pd.DataFrame()\n",
    "for index, row in data_df.iterrows():\n",
    "    df_experiment_one =  datastring2dataframe(row)\n",
    "    if df_experiment_all.empty:\n",
    "        df_experiment_all = df_experiment_one\n",
    "    else:\n",
    "        df_experiment_all = pd.concat([df_experiment_all, df_experiment_one])\n",
    "\n",
    "        \n",
    "df_experiment_all        \n",
    "#pd.DataFrame(data=lol,columns=['experiment','series','raw_x','raw_y','series_color'])\n",
    "\n",
    "#unit = \"zb\" # this will probably be provided by the user via a drop-down menu\n",
    "#scale_factor = get_scale_factor(unit)\n",
    "\n",
    "\n",
    "#df_experiment['x'] = df_experiment['raw_x'].astype(str).astype(dtype = float, errors = 'ignore')\n",
    "\n",
    "# add scale_factor here\n",
    "#df_experiment['y'] = df_experiment['raw_y'].astype(str).astype(dtype = float, errors = 'ignore')/scale_factor\n",
    "\n",
    "   "
   ]
  },
  {
   "cell_type": "code",
   "execution_count": 94,
   "id": "1eba7dc6",
   "metadata": {},
   "outputs": [],
   "source": [
    "def CreatePlotSeries(result_ids_in):\n",
    "    \n",
    "    multiresult_df = limits_df[limits_df['id'].isin(result_ids)]\n",
    "\n",
    "    data_df = multiresult_df\n",
    "\n",
    "    lol = []\n",
    "    df_experiment_all_out=pd.DataFrame()\n",
    "    for index, row in data_df.iterrows():\n",
    "        df_experiment_one =  datastring2dataframe(row)\n",
    "        if df_experiment_all_out.empty:\n",
    "            df_experiment_all_out = df_experiment_one\n",
    "        else:\n",
    "            df_experiment_all_out = pd.concat([df_experiment_all_out, df_experiment_one])\n",
    "\n",
    "\n",
    "    plotseries_out = df_experiment_all_out[['id','data_label','series','suggested_color']]\n",
    "    plotseries_out = plotseries_out.drop_duplicates()\n",
    "    plotseries_out = plotseries_out.reset_index(drop=True)\n",
    "    plotseries_out['color'] = 'black'\n",
    "    plotseries_out['line'] = 'solid'\n",
    "    plotseries_out['symbol'] = 'square'\n",
    "    \n",
    "    return plotseries_out, df_experiment_all_out\n",
    "\n",
    "result_ids = [1,262]\n",
    "\n",
    "plotseries, df_experiment_all = CreatePlotSeries(result_ids)"
   ]
  },
  {
   "cell_type": "raw",
   "id": "a634cdf8",
   "metadata": {},
   "source": [
    "rowid = 1\n",
    "column_name = 'color'\n",
    "new_value = 'red'\n",
    "#plotseries.iloc[rowid]['color'] = new_value\n",
    "\n",
    "plotseries.loc[rowid, column_name] = new_value\n",
    "\n",
    "plotseries"
   ]
  },
  {
   "cell_type": "code",
   "execution_count": 95,
   "id": "24f4e5d4",
   "metadata": {},
   "outputs": [],
   "source": [
    "import plotly.graph_objects as go\n",
    "from plotly.validators.scatter.marker import SymbolValidator\n",
    "\n",
    "raw_symbols = SymbolValidator().values\n",
    "#raw_symbols"
   ]
  },
  {
   "cell_type": "raw",
   "id": "97263bc0",
   "metadata": {},
   "source": [
    "color_list = ['black','red','orange','yellow','lime green', 'green', 'blue-green', 'cyan',\n",
    "              'sky blue', 'blue', 'purple', 'magenta', 'pink']"
   ]
  },
  {
   "cell_type": "raw",
   "id": "52005480",
   "metadata": {},
   "source": [
    "color_options=[{'label': i, 'value': i} for i in color_list]"
   ]
  },
  {
   "cell_type": "raw",
   "id": "2a234304",
   "metadata": {},
   "source": [
    "line_styles_list = ['solid', 'dot', 'dash', 'longdash', 'dashdot', 'longdashdot']"
   ]
  },
  {
   "cell_type": "raw",
   "id": "8a88655b",
   "metadata": {},
   "source": [
    "line_styles_options=[{'label': i, 'value': i} for i in line_styles_list]"
   ]
  },
  {
   "cell_type": "raw",
   "id": "cfd1d79a",
   "metadata": {},
   "source": [
    "symbol_list = ['circle','square','diamond','cross','x','hexagon','pentagon','octagon','star','asterisk','hash']"
   ]
  },
  {
   "cell_type": "raw",
   "id": "cddf77b3",
   "metadata": {},
   "source": [
    "symbol_options=[{'label': i, 'value': i} for i in symbol_list]"
   ]
  },
  {
   "cell_type": "code",
   "execution_count": 96,
   "id": "3463ad6b",
   "metadata": {},
   "outputs": [],
   "source": [
    "#symbol_table = dash_table.DataTable(df.to_dict('records'), [{\"name\": i, \"id\": i} for i in df.columns])"
   ]
  },
  {
   "cell_type": "raw",
   "id": "5ce40178",
   "metadata": {},
   "source": [
    "df = pd.DataFrame(OrderedDict([\n",
    "    ('experiment', ['1', '2', '3', '4']),\n",
    "    ('color', ['red', 'green', 'blue', 'yellow']),\n",
    "    ('line', ['solid', 'solid', 'solid', 'solid']),\n",
    "    ('symbol', ['circle','square','diamond','cross']),\n",
    "]))\n"
   ]
  },
  {
   "cell_type": "code",
   "execution_count": 97,
   "id": "68872c04",
   "metadata": {},
   "outputs": [],
   "source": [
    "#fig = go.Figure(data=[go.Scatter(x=[1, 2, 3], y=[4, 1, 2])])\n",
    "\n",
    "#graph = dcc.Graph(figure=fig)\n",
    "\n",
    "#layout10 =  html.Div(format_table)\n"
   ]
  },
  {
   "cell_type": "code",
   "execution_count": null,
   "id": "d3712daf",
   "metadata": {},
   "outputs": [],
   "source": []
  },
  {
   "cell_type": "raw",
   "id": "90f9d1e9",
   "metadata": {},
   "source": [
    "result_ids = [1,262]\n",
    "\n",
    "multiresult_df = limits_df[limits_df['id'].isin(result_ids)]\n",
    "\n",
    "plot_experiment_ids = multiresult_df['id'].unique().tolist()\n",
    "\n",
    "plot_experiment_ids"
   ]
  },
  {
   "cell_type": "raw",
   "id": "a3c8af66",
   "metadata": {},
   "source": [
    "#plot_data = \n",
    "\n",
    "for pe_id in plot_experiment_ids:\n",
    "    experiment_data = multiresult_df[multiresult_df['id']==pe_id]\n",
    "    trace_data =  datastring2dataframe(experiment_data.iloc[0])\n",
    "    series_max = trace_data['series'].max()\n",
    "\n",
    "    line_color=color_list[1]\n",
    "    line_style = line_styles_list[1]\n",
    "\n",
    "    # Loop df columns and plot columns to the figure\n",
    "    for i in range(1, series_max):\n",
    "        trace2add = trace_data[trace_data['series']==i]\n",
    "        fig.add_trace(go.Scatter(x=trace2add['x'], y=trace2add['scaled_y'],\n",
    "                            mode='lines', # 'lines' or 'markers'\n",
    "                            line=dict(width=4,dash=line_style,color=line_color),\n",
    "                            #showscale=False,\n",
    "                            name=i))\n",
    "        fig.add_trace(go.Scatter(x=trace2add['x'], y=trace2add['scaled_y'],\n",
    "                            mode='markers', # 'lines' or 'markers'\n",
    "                            marker_symbol=symbol_list[1],\n",
    "                                 marker=dict(\n",
    "                                size=10,\n",
    "                                color=line_color,#set color equal to a variable\n",
    "                                #colorscale='Viridis', # one of plotly colorscales\n",
    "                                showscale=False,\n",
    "                            ),\n",
    "                            name=i))"
   ]
  },
  {
   "cell_type": "raw",
   "id": "079db61d",
   "metadata": {},
   "source": [
    "# Create figure\n",
    "fig = go.Figure()\n",
    "\n",
    "for pe_id in plot_experiment_ids:\n",
    "    experiment_data = multiresult_df[multiresult_df['id']==pe_id]\n",
    "    trace_data =  datastring2dataframe(experiment_data.iloc[0])\n",
    "    series_max = trace_data['series'].max()\n",
    "\n",
    "    line_color=color_list[1]\n",
    "    line_style = line_styles_list[1]\n",
    "\n",
    "    # Loop df columns and plot columns to the figure\n",
    "    for i in range(1, series_max):\n",
    "        trace2add = trace_data[trace_data['series']==i]\n",
    "        fig.add_trace(go.Scatter(x=trace2add['x'], y=trace2add['scaled_y'],\n",
    "                            mode='lines', # 'lines' or 'markers'\n",
    "                            line=dict(width=4,dash=line_style,color=line_color),\n",
    "                            #showscale=False,\n",
    "                            name=i))\n",
    "        fig.add_trace(go.Scatter(x=trace2add['x'], y=trace2add['scaled_y'],\n",
    "                            mode='markers', # 'lines' or 'markers'\n",
    "                            marker_symbol=symbol_list[1],\n",
    "                                 marker=dict(\n",
    "                                size=10,\n",
    "                                color=line_color,#set color equal to a variable\n",
    "                                #colorscale='Viridis', # one of plotly colorscales\n",
    "                                showscale=False,\n",
    "                            ),\n",
    "                            name=i))\n",
    "\n",
    "fig.update_xaxes(type=\"log\")\n",
    "fig.update_yaxes(type=\"log\")\n",
    "\n",
    "fig.update_layout(showlegend=False)\n",
    "\n",
    "fig.update_layout(\n",
    "#xaxis_title=filtered_df['x_units'].iloc[0],\n",
    "#yaxis_title=filtered_df['y_units'].iloc[0],\n",
    "title=\"Multi Series\",\n",
    "legend_title=\"Legend Title\",\n",
    "font=dict(\n",
    "    family=\"Courier New, monospace\",\n",
    "    size=18,\n",
    "    color=\"RebeccaPurple\"\n",
    ")\n",
    ")\n",
    "\n",
    "    \n",
    "graph_out_graph = dcc.Graph(id='graph_out_id')\n",
    "\n",
    "#fig.show()"
   ]
  },
  {
   "cell_type": "raw",
   "id": "c0189b4d",
   "metadata": {},
   "source": [
    "def UpdateExperimentData(result_ids_in):\n",
    "    \n",
    "    multiresult_df = limits_df[limits_df['id'].isin(result_ids_in)]\n",
    "\n",
    "    data_df = multiresult_df\n",
    "\n",
    "    lol = []\n",
    "    df_experiment_all_out=pd.DataFrame()\n",
    "    for index, row in data_df.iterrows():\n",
    "        df_experiment_one =  datastring2dataframe(row)\n",
    "        if df_experiment_all_out.empty:\n",
    "            df_experiment_all_out = df_experiment_one\n",
    "        else:\n",
    "            df_experiment_all_out = pd.concat([df_experiment_all_out, df_experiment_one])\n",
    "    return df_experiment_all_out\n",
    "\n",
    "result_ids_in = [1,262]\n",
    "df_experiment_all = UpdateExperimentData(result_ids_in)"
   ]
  },
  {
   "cell_type": "raw",
   "id": "3cc82341",
   "metadata": {},
   "source": [
    "def CreatePlotSeriesDefault(df_experiment_all_in):\n",
    "    plotseries_out = df_experiment_all_in[['id','data_label','series','suggested_color']]\n",
    "    plotseries_out = plotseries_out.drop_duplicates()\n",
    "    plotseries_out = plotseries_out.reset_index(drop=True)\n",
    "    plotseries_out['color'] = 'black'\n",
    "    plotseries_out['line'] = 'solid'\n",
    "    plotseries_out['symbol'] = 'square'\n",
    "    return plotseries_out\n",
    "\n",
    "plotseries_default = CreatePlotSeriesDefault(df_experiment_all)\n",
    "plotseries_default"
   ]
  },
  {
   "cell_type": "code",
   "execution_count": 98,
   "id": "3d51e5a0",
   "metadata": {},
   "outputs": [],
   "source": [
    "def CreateDefaultFormatTable(plotseries_in):\n",
    "\n",
    "    color_list = ['black','red','orange','yellow','lime green', 'green', 'blue-green', 'cyan',\n",
    "              'sky blue', 'blue', 'purple', 'magenta', 'pink']\n",
    "    \n",
    "    color_options=[{'label': i, 'value': i} for i in color_list]\n",
    "    \n",
    "    line_styles_list = ['solid', 'dot', 'dash', 'longdash', 'dashdot', 'longdashdot']\n",
    "    \n",
    "    line_styles_options=[{'label': i, 'value': i} for i in line_styles_list]\n",
    "    \n",
    "    symbol_list = ['circle','square','diamond','cross','x','hexagon','pentagon','octagon','star','asterisk','hash']\n",
    "    \n",
    "    symbol_options=[{'label': i, 'value': i} for i in symbol_list]\n",
    "    \n",
    "    format_table_div_out = html.Div([\n",
    "        dash_table.DataTable(\n",
    "            id='format_table_id',\n",
    "            #row_deletable=True,\n",
    "            # Add this line\n",
    "            data=plotseries_in.to_dict('records'),\n",
    "            columns=[\n",
    "                {'id': 'id', 'name': 'id'},\n",
    "                {'id': 'data_label', 'name': 'data_label'},\n",
    "                {'id': 'series', 'name': 'series'},\n",
    "                {'id': 'color', 'name': 'color', 'presentation': 'dropdown'},\n",
    "                {'id': 'line', 'name': 'line', 'presentation': 'dropdown'},\n",
    "                {'id': 'symbol', 'name': 'symbol', 'presentation': 'dropdown'},\n",
    "            ],\n",
    "\n",
    "            editable=True,\n",
    "            css=[\n",
    "                {\"selector\": \".Select-menu-outer\", \"rule\": \"display: block !important\"},\n",
    "                {\"selector\": \".dash-spreadsheet tr th\", \"rule\": \"height: 5px;\"},  # set height of header\n",
    "                {\"selector\": \".dash-spreadsheet tr td\", \"rule\": \"height: 5px;\"}  # set height of body rows\n",
    "                ],\n",
    "\n",
    "            dropdown={\n",
    "                'color': {\n",
    "                    'options': [\n",
    "                        {'label': i, 'value': i}\n",
    "                        for i in color_list\n",
    "                    ]\n",
    "                },\n",
    "                'line': {\n",
    "                     'options': [\n",
    "                        {'label': i, 'value': i}\n",
    "                        for i in line_styles_list\n",
    "                    ]\n",
    "                },\n",
    "                'symbol': {\n",
    "                     'options': [\n",
    "                        {'label': i, 'value': i}\n",
    "                        for i in symbol_list\n",
    "                    ]\n",
    "                }\n",
    "            },\n",
    "            style_cell={'fontSize':12, 'font-family':'sans-serif', 'padding':'0px'},\n",
    "            style_cell_conditional=[\n",
    "                {'if': {'column_id': 'id'},\n",
    "                 'width': '5%'},\n",
    "                {'if': {'column_id': 'data_label'},\n",
    "                 'width': '70%'},\n",
    "                {'if': {'column_id': 'series'},\n",
    "                 'width': '5%'},\n",
    "                {'if': {'column_id': 'color'},\n",
    "                 'width': '5%'},\n",
    "                {'if': {'column_id': 'lime'},\n",
    "                 'width': '5%'},\n",
    "                 {'if': {'column_id': 'color'},\n",
    "                 'width': '5%'},\n",
    "                {'if': {'column_id': 'symbol'},\n",
    "                 'width': '5%'}],\n",
    "        ),\n",
    "        html.Div(id='table-dropdown-container')\n",
    "    ])\n",
    "\n",
    "    return format_table_div_out\n",
    "\n",
    "#format_table_div = CreateDefaultFormatTable()"
   ]
  },
  {
   "cell_type": "code",
   "execution_count": 99,
   "id": "f5ddf969",
   "metadata": {},
   "outputs": [
    {
     "data": {
      "application/vnd.plotly.v1+json": {
       "config": {
        "plotlyServerURL": "https://plot.ly"
       },
       "data": [
        {
         "mode": "text",
         "text": "1",
         "textposition": "middle right",
         "type": "scatter",
         "x": [
          1
         ],
         "xaxis": "x",
         "y": [
          1
         ],
         "yaxis": "y"
        },
        {
         "mode": "text",
         "text": "0",
         "textposition": "middle right",
         "type": "scatter",
         "x": [
          1
         ],
         "xaxis": "x2",
         "y": [
          1
         ],
         "yaxis": "y2"
        },
        {
         "mode": "text",
         "text": [
          "Baer et. al., 2003, constraints on mSUGRA, SI",
          ""
         ],
         "textposition": "middle right",
         "type": "scatter",
         "x": [
          1,
          2
         ],
         "xaxis": "x3",
         "y": [
          1,
          1
         ],
         "yaxis": "y3"
        },
        {
         "line": {
          "color": "black",
          "dash": "solid",
          "width": 4
         },
         "mode": "lines",
         "type": "scatter",
         "x": [
          1,
          2
         ],
         "xaxis": "x4",
         "y": [
          1,
          1
         ],
         "yaxis": "y4"
        },
        {
         "marker": {
          "color": "black",
          "colorscale": [
           [
            0,
            "#440154"
           ],
           [
            0.1111111111111111,
            "#482878"
           ],
           [
            0.2222222222222222,
            "#3e4989"
           ],
           [
            0.3333333333333333,
            "#31688e"
           ],
           [
            0.4444444444444444,
            "#26828e"
           ],
           [
            0.5555555555555556,
            "#1f9e89"
           ],
           [
            0.6666666666666666,
            "#35b779"
           ],
           [
            0.7777777777777778,
            "#6ece58"
           ],
           [
            0.8888888888888888,
            "#b5de2b"
           ],
           [
            1,
            "#fde725"
           ]
          ],
          "showscale": false,
          "size": 10,
          "symbol": "square"
         },
         "mode": "markers",
         "type": "scatter",
         "x": [
          1
         ],
         "xaxis": "x5",
         "y": [
          1
         ],
         "yaxis": "y5"
        },
        {
         "mode": "text",
         "text": "262",
         "textposition": "middle right",
         "type": "scatter",
         "x": [
          1
         ],
         "xaxis": "x6",
         "y": [
          1
         ],
         "yaxis": "y6"
        },
        {
         "mode": "text",
         "text": "0",
         "textposition": "middle right",
         "type": "scatter",
         "x": [
          1
         ],
         "xaxis": "x7",
         "y": [
          1
         ],
         "yaxis": "y7"
        },
        {
         "mode": "text",
         "text": [
          "Roszkowski et. al., 2007, CMSSM Markov Chain Monte Carlos (mu>0), 95% contour, SI",
          ""
         ],
         "textposition": "middle right",
         "type": "scatter",
         "x": [
          1,
          2
         ],
         "xaxis": "x8",
         "y": [
          1,
          1
         ],
         "yaxis": "y8"
        },
        {
         "line": {
          "color": "black",
          "dash": "solid",
          "width": 4
         },
         "mode": "lines",
         "type": "scatter",
         "x": [
          1,
          2
         ],
         "xaxis": "x9",
         "y": [
          1,
          1
         ],
         "yaxis": "y9"
        },
        {
         "marker": {
          "color": "black",
          "colorscale": [
           [
            0,
            "#440154"
           ],
           [
            0.1111111111111111,
            "#482878"
           ],
           [
            0.2222222222222222,
            "#3e4989"
           ],
           [
            0.3333333333333333,
            "#31688e"
           ],
           [
            0.4444444444444444,
            "#26828e"
           ],
           [
            0.5555555555555556,
            "#1f9e89"
           ],
           [
            0.6666666666666666,
            "#35b779"
           ],
           [
            0.7777777777777778,
            "#6ece58"
           ],
           [
            0.8888888888888888,
            "#b5de2b"
           ],
           [
            1,
            "#fde725"
           ]
          ],
          "showscale": false,
          "size": 10,
          "symbol": "square"
         },
         "mode": "markers",
         "type": "scatter",
         "x": [
          1
         ],
         "xaxis": "x10",
         "y": [
          1
         ],
         "yaxis": "y10"
        },
        {
         "mode": "text",
         "text": "262",
         "textposition": "middle right",
         "type": "scatter",
         "x": [
          1
         ],
         "xaxis": "x11",
         "y": [
          1
         ],
         "yaxis": "y11"
        },
        {
         "mode": "text",
         "text": "1",
         "textposition": "middle right",
         "type": "scatter",
         "x": [
          1
         ],
         "xaxis": "x12",
         "y": [
          1
         ],
         "yaxis": "y12"
        },
        {
         "mode": "text",
         "text": [
          "Roszkowski et. al., 2007, CMSSM Markov Chain Monte Carlos (mu>0), 95% contour, SI",
          ""
         ],
         "textposition": "middle right",
         "type": "scatter",
         "x": [
          1,
          2
         ],
         "xaxis": "x13",
         "y": [
          1,
          1
         ],
         "yaxis": "y13"
        },
        {
         "line": {
          "color": "black",
          "dash": "solid",
          "width": 4
         },
         "mode": "lines",
         "type": "scatter",
         "x": [
          1,
          2
         ],
         "xaxis": "x14",
         "y": [
          1,
          1
         ],
         "yaxis": "y14"
        },
        {
         "marker": {
          "color": "black",
          "colorscale": [
           [
            0,
            "#440154"
           ],
           [
            0.1111111111111111,
            "#482878"
           ],
           [
            0.2222222222222222,
            "#3e4989"
           ],
           [
            0.3333333333333333,
            "#31688e"
           ],
           [
            0.4444444444444444,
            "#26828e"
           ],
           [
            0.5555555555555556,
            "#1f9e89"
           ],
           [
            0.6666666666666666,
            "#35b779"
           ],
           [
            0.7777777777777778,
            "#6ece58"
           ],
           [
            0.8888888888888888,
            "#b5de2b"
           ],
           [
            1,
            "#fde725"
           ]
          ],
          "showscale": false,
          "size": 10,
          "symbol": "square"
         },
         "mode": "markers",
         "type": "scatter",
         "x": [
          1
         ],
         "xaxis": "x15",
         "y": [
          1
         ],
         "yaxis": "y15"
        },
        {
         "mode": "text",
         "text": "262",
         "textposition": "middle right",
         "type": "scatter",
         "x": [
          1
         ],
         "xaxis": "x16",
         "y": [
          1
         ],
         "yaxis": "y16"
        },
        {
         "mode": "text",
         "text": "2",
         "textposition": "middle right",
         "type": "scatter",
         "x": [
          1
         ],
         "xaxis": "x17",
         "y": [
          1
         ],
         "yaxis": "y17"
        },
        {
         "mode": "text",
         "text": [
          "Roszkowski et. al., 2007, CMSSM Markov Chain Monte Carlos (mu>0), 95% contour, SI",
          ""
         ],
         "textposition": "middle right",
         "type": "scatter",
         "x": [
          1,
          2
         ],
         "xaxis": "x18",
         "y": [
          1,
          1
         ],
         "yaxis": "y18"
        },
        {
         "line": {
          "color": "black",
          "dash": "solid",
          "width": 4
         },
         "mode": "lines",
         "type": "scatter",
         "x": [
          1,
          2
         ],
         "xaxis": "x19",
         "y": [
          1,
          1
         ],
         "yaxis": "y19"
        },
        {
         "marker": {
          "color": "black",
          "colorscale": [
           [
            0,
            "#440154"
           ],
           [
            0.1111111111111111,
            "#482878"
           ],
           [
            0.2222222222222222,
            "#3e4989"
           ],
           [
            0.3333333333333333,
            "#31688e"
           ],
           [
            0.4444444444444444,
            "#26828e"
           ],
           [
            0.5555555555555556,
            "#1f9e89"
           ],
           [
            0.6666666666666666,
            "#35b779"
           ],
           [
            0.7777777777777778,
            "#6ece58"
           ],
           [
            0.8888888888888888,
            "#b5de2b"
           ],
           [
            1,
            "#fde725"
           ]
          ],
          "showscale": false,
          "size": 10,
          "symbol": "square"
         },
         "mode": "markers",
         "type": "scatter",
         "x": [
          1
         ],
         "xaxis": "x20",
         "y": [
          1
         ],
         "yaxis": "y20"
        },
        {
         "mode": "text",
         "text": "262",
         "textposition": "middle right",
         "type": "scatter",
         "x": [
          1
         ],
         "xaxis": "x21",
         "y": [
          1
         ],
         "yaxis": "y21"
        },
        {
         "mode": "text",
         "text": "3",
         "textposition": "middle right",
         "type": "scatter",
         "x": [
          1
         ],
         "xaxis": "x22",
         "y": [
          1
         ],
         "yaxis": "y22"
        },
        {
         "mode": "text",
         "text": [
          "Roszkowski et. al., 2007, CMSSM Markov Chain Monte Carlos (mu>0), 95% contour, SI",
          ""
         ],
         "textposition": "middle right",
         "type": "scatter",
         "x": [
          1,
          2
         ],
         "xaxis": "x23",
         "y": [
          1,
          1
         ],
         "yaxis": "y23"
        },
        {
         "line": {
          "color": "black",
          "dash": "solid",
          "width": 4
         },
         "mode": "lines",
         "type": "scatter",
         "x": [
          1,
          2
         ],
         "xaxis": "x24",
         "y": [
          1,
          1
         ],
         "yaxis": "y24"
        },
        {
         "marker": {
          "color": "black",
          "colorscale": [
           [
            0,
            "#440154"
           ],
           [
            0.1111111111111111,
            "#482878"
           ],
           [
            0.2222222222222222,
            "#3e4989"
           ],
           [
            0.3333333333333333,
            "#31688e"
           ],
           [
            0.4444444444444444,
            "#26828e"
           ],
           [
            0.5555555555555556,
            "#1f9e89"
           ],
           [
            0.6666666666666666,
            "#35b779"
           ],
           [
            0.7777777777777778,
            "#6ece58"
           ],
           [
            0.8888888888888888,
            "#b5de2b"
           ],
           [
            1,
            "#fde725"
           ]
          ],
          "showscale": false,
          "size": 10,
          "symbol": "square"
         },
         "mode": "markers",
         "type": "scatter",
         "x": [
          1
         ],
         "xaxis": "x25",
         "y": [
          1
         ],
         "yaxis": "y25"
        },
        {
         "mode": "text",
         "text": "262",
         "textposition": "middle right",
         "type": "scatter",
         "x": [
          1
         ],
         "xaxis": "x26",
         "y": [
          1
         ],
         "yaxis": "y26"
        },
        {
         "mode": "text",
         "text": "4",
         "textposition": "middle right",
         "type": "scatter",
         "x": [
          1
         ],
         "xaxis": "x27",
         "y": [
          1
         ],
         "yaxis": "y27"
        },
        {
         "mode": "text",
         "text": [
          "Roszkowski et. al., 2007, CMSSM Markov Chain Monte Carlos (mu>0), 95% contour, SI",
          ""
         ],
         "textposition": "middle right",
         "type": "scatter",
         "x": [
          1,
          2
         ],
         "xaxis": "x28",
         "y": [
          1,
          1
         ],
         "yaxis": "y28"
        },
        {
         "line": {
          "color": "black",
          "dash": "solid",
          "width": 4
         },
         "mode": "lines",
         "type": "scatter",
         "x": [
          1,
          2
         ],
         "xaxis": "x29",
         "y": [
          1,
          1
         ],
         "yaxis": "y29"
        },
        {
         "marker": {
          "color": "black",
          "colorscale": [
           [
            0,
            "#440154"
           ],
           [
            0.1111111111111111,
            "#482878"
           ],
           [
            0.2222222222222222,
            "#3e4989"
           ],
           [
            0.3333333333333333,
            "#31688e"
           ],
           [
            0.4444444444444444,
            "#26828e"
           ],
           [
            0.5555555555555556,
            "#1f9e89"
           ],
           [
            0.6666666666666666,
            "#35b779"
           ],
           [
            0.7777777777777778,
            "#6ece58"
           ],
           [
            0.8888888888888888,
            "#b5de2b"
           ],
           [
            1,
            "#fde725"
           ]
          ],
          "showscale": false,
          "size": 10,
          "symbol": "square"
         },
         "mode": "markers",
         "type": "scatter",
         "x": [
          1
         ],
         "xaxis": "x30",
         "y": [
          1
         ],
         "yaxis": "y30"
        },
        {
         "mode": "text",
         "text": "262",
         "textposition": "middle right",
         "type": "scatter",
         "x": [
          1
         ],
         "xaxis": "x31",
         "y": [
          1
         ],
         "yaxis": "y31"
        },
        {
         "mode": "text",
         "text": "5",
         "textposition": "middle right",
         "type": "scatter",
         "x": [
          1
         ],
         "xaxis": "x32",
         "y": [
          1
         ],
         "yaxis": "y32"
        },
        {
         "mode": "text",
         "text": [
          "Roszkowski et. al., 2007, CMSSM Markov Chain Monte Carlos (mu>0), 95% contour, SI",
          ""
         ],
         "textposition": "middle right",
         "type": "scatter",
         "x": [
          1,
          2
         ],
         "xaxis": "x33",
         "y": [
          1,
          1
         ],
         "yaxis": "y33"
        },
        {
         "line": {
          "color": "black",
          "dash": "solid",
          "width": 4
         },
         "mode": "lines",
         "type": "scatter",
         "x": [
          1,
          2
         ],
         "xaxis": "x34",
         "y": [
          1,
          1
         ],
         "yaxis": "y34"
        },
        {
         "marker": {
          "color": "black",
          "colorscale": [
           [
            0,
            "#440154"
           ],
           [
            0.1111111111111111,
            "#482878"
           ],
           [
            0.2222222222222222,
            "#3e4989"
           ],
           [
            0.3333333333333333,
            "#31688e"
           ],
           [
            0.4444444444444444,
            "#26828e"
           ],
           [
            0.5555555555555556,
            "#1f9e89"
           ],
           [
            0.6666666666666666,
            "#35b779"
           ],
           [
            0.7777777777777778,
            "#6ece58"
           ],
           [
            0.8888888888888888,
            "#b5de2b"
           ],
           [
            1,
            "#fde725"
           ]
          ],
          "showscale": false,
          "size": 10,
          "symbol": "square"
         },
         "mode": "markers",
         "type": "scatter",
         "x": [
          1
         ],
         "xaxis": "x35",
         "y": [
          1
         ],
         "yaxis": "y35"
        },
        {
         "mode": "text",
         "text": "262",
         "textposition": "middle right",
         "type": "scatter",
         "x": [
          1
         ],
         "xaxis": "x36",
         "y": [
          1
         ],
         "yaxis": "y36"
        },
        {
         "mode": "text",
         "text": "6",
         "textposition": "middle right",
         "type": "scatter",
         "x": [
          1
         ],
         "xaxis": "x37",
         "y": [
          1
         ],
         "yaxis": "y37"
        },
        {
         "mode": "text",
         "text": [
          "Roszkowski et. al., 2007, CMSSM Markov Chain Monte Carlos (mu>0), 95% contour, SI",
          ""
         ],
         "textposition": "middle right",
         "type": "scatter",
         "x": [
          1,
          2
         ],
         "xaxis": "x38",
         "y": [
          1,
          1
         ],
         "yaxis": "y38"
        },
        {
         "line": {
          "color": "black",
          "dash": "solid",
          "width": 4
         },
         "mode": "lines",
         "type": "scatter",
         "x": [
          1,
          2
         ],
         "xaxis": "x39",
         "y": [
          1,
          1
         ],
         "yaxis": "y39"
        },
        {
         "marker": {
          "color": "black",
          "colorscale": [
           [
            0,
            "#440154"
           ],
           [
            0.1111111111111111,
            "#482878"
           ],
           [
            0.2222222222222222,
            "#3e4989"
           ],
           [
            0.3333333333333333,
            "#31688e"
           ],
           [
            0.4444444444444444,
            "#26828e"
           ],
           [
            0.5555555555555556,
            "#1f9e89"
           ],
           [
            0.6666666666666666,
            "#35b779"
           ],
           [
            0.7777777777777778,
            "#6ece58"
           ],
           [
            0.8888888888888888,
            "#b5de2b"
           ],
           [
            1,
            "#fde725"
           ]
          ],
          "showscale": false,
          "size": 10,
          "symbol": "square"
         },
         "mode": "markers",
         "type": "scatter",
         "x": [
          1
         ],
         "xaxis": "x40",
         "y": [
          1
         ],
         "yaxis": "y40"
        },
        {
         "mode": "text",
         "text": "262",
         "textposition": "middle right",
         "type": "scatter",
         "x": [
          1
         ],
         "xaxis": "x41",
         "y": [
          1
         ],
         "yaxis": "y41"
        },
        {
         "mode": "text",
         "text": "7",
         "textposition": "middle right",
         "type": "scatter",
         "x": [
          1
         ],
         "xaxis": "x42",
         "y": [
          1
         ],
         "yaxis": "y42"
        },
        {
         "mode": "text",
         "text": [
          "Roszkowski et. al., 2007, CMSSM Markov Chain Monte Carlos (mu>0), 95% contour, SI",
          ""
         ],
         "textposition": "middle right",
         "type": "scatter",
         "x": [
          1,
          2
         ],
         "xaxis": "x43",
         "y": [
          1,
          1
         ],
         "yaxis": "y43"
        },
        {
         "line": {
          "color": "black",
          "dash": "solid",
          "width": 4
         },
         "mode": "lines",
         "type": "scatter",
         "x": [
          1,
          2
         ],
         "xaxis": "x44",
         "y": [
          1,
          1
         ],
         "yaxis": "y44"
        },
        {
         "marker": {
          "color": "black",
          "colorscale": [
           [
            0,
            "#440154"
           ],
           [
            0.1111111111111111,
            "#482878"
           ],
           [
            0.2222222222222222,
            "#3e4989"
           ],
           [
            0.3333333333333333,
            "#31688e"
           ],
           [
            0.4444444444444444,
            "#26828e"
           ],
           [
            0.5555555555555556,
            "#1f9e89"
           ],
           [
            0.6666666666666666,
            "#35b779"
           ],
           [
            0.7777777777777778,
            "#6ece58"
           ],
           [
            0.8888888888888888,
            "#b5de2b"
           ],
           [
            1,
            "#fde725"
           ]
          ],
          "showscale": false,
          "size": 10,
          "symbol": "square"
         },
         "mode": "markers",
         "type": "scatter",
         "x": [
          1
         ],
         "xaxis": "x45",
         "y": [
          1
         ],
         "yaxis": "y45"
        },
        {
         "mode": "text",
         "text": "262",
         "textposition": "middle right",
         "type": "scatter",
         "x": [
          1
         ],
         "xaxis": "x46",
         "y": [
          1
         ],
         "yaxis": "y46"
        },
        {
         "mode": "text",
         "text": "8",
         "textposition": "middle right",
         "type": "scatter",
         "x": [
          1
         ],
         "xaxis": "x47",
         "y": [
          1
         ],
         "yaxis": "y47"
        },
        {
         "mode": "text",
         "text": [
          "Roszkowski et. al., 2007, CMSSM Markov Chain Monte Carlos (mu>0), 95% contour, SI",
          ""
         ],
         "textposition": "middle right",
         "type": "scatter",
         "x": [
          1,
          2
         ],
         "xaxis": "x48",
         "y": [
          1,
          1
         ],
         "yaxis": "y48"
        },
        {
         "line": {
          "color": "black",
          "dash": "solid",
          "width": 4
         },
         "mode": "lines",
         "type": "scatter",
         "x": [
          1,
          2
         ],
         "xaxis": "x49",
         "y": [
          1,
          1
         ],
         "yaxis": "y49"
        },
        {
         "marker": {
          "color": "black",
          "colorscale": [
           [
            0,
            "#440154"
           ],
           [
            0.1111111111111111,
            "#482878"
           ],
           [
            0.2222222222222222,
            "#3e4989"
           ],
           [
            0.3333333333333333,
            "#31688e"
           ],
           [
            0.4444444444444444,
            "#26828e"
           ],
           [
            0.5555555555555556,
            "#1f9e89"
           ],
           [
            0.6666666666666666,
            "#35b779"
           ],
           [
            0.7777777777777778,
            "#6ece58"
           ],
           [
            0.8888888888888888,
            "#b5de2b"
           ],
           [
            1,
            "#fde725"
           ]
          ],
          "showscale": false,
          "size": 10,
          "symbol": "square"
         },
         "mode": "markers",
         "type": "scatter",
         "x": [
          1
         ],
         "xaxis": "x50",
         "y": [
          1
         ],
         "yaxis": "y50"
        }
       ],
       "layout": {
        "annotations": [
         {
          "font": {
           "size": 16
          },
          "showarrow": false,
          "text": "id",
          "x": 0.05,
          "xanchor": "center",
          "xref": "paper",
          "y": 1,
          "yanchor": "bottom",
          "yref": "paper"
         },
         {
          "font": {
           "size": 16
          },
          "showarrow": false,
          "text": "series",
          "x": 0.15000000000000002,
          "xanchor": "center",
          "xref": "paper",
          "y": 1,
          "yanchor": "bottom",
          "yref": "paper"
         },
         {
          "font": {
           "size": 16
          },
          "showarrow": false,
          "text": "result",
          "x": 0.5,
          "xanchor": "center",
          "xref": "paper",
          "y": 1,
          "yanchor": "bottom",
          "yref": "paper"
         },
         {
          "font": {
           "size": 16
          },
          "showarrow": false,
          "text": "line",
          "x": 0.8500000000000001,
          "xanchor": "center",
          "xref": "paper",
          "y": 1,
          "yanchor": "bottom",
          "yref": "paper"
         },
         {
          "font": {
           "size": 16
          },
          "showarrow": false,
          "text": "symbol",
          "x": 0.95,
          "xanchor": "center",
          "xref": "paper",
          "y": 1,
          "yanchor": "bottom",
          "yref": "paper"
         }
        ],
        "autosize": false,
        "height": 200,
        "margin": {
         "b": 0,
         "l": 0,
         "pad": 0,
         "r": 0,
         "t": 20
        },
        "showlegend": false,
        "template": {
         "data": {
          "bar": [
           {
            "error_x": {
             "color": "#2a3f5f"
            },
            "error_y": {
             "color": "#2a3f5f"
            },
            "marker": {
             "line": {
              "color": "#E5ECF6",
              "width": 0.5
             },
             "pattern": {
              "fillmode": "overlay",
              "size": 10,
              "solidity": 0.2
             }
            },
            "type": "bar"
           }
          ],
          "barpolar": [
           {
            "marker": {
             "line": {
              "color": "#E5ECF6",
              "width": 0.5
             },
             "pattern": {
              "fillmode": "overlay",
              "size": 10,
              "solidity": 0.2
             }
            },
            "type": "barpolar"
           }
          ],
          "carpet": [
           {
            "aaxis": {
             "endlinecolor": "#2a3f5f",
             "gridcolor": "white",
             "linecolor": "white",
             "minorgridcolor": "white",
             "startlinecolor": "#2a3f5f"
            },
            "baxis": {
             "endlinecolor": "#2a3f5f",
             "gridcolor": "white",
             "linecolor": "white",
             "minorgridcolor": "white",
             "startlinecolor": "#2a3f5f"
            },
            "type": "carpet"
           }
          ],
          "choropleth": [
           {
            "colorbar": {
             "outlinewidth": 0,
             "ticks": ""
            },
            "type": "choropleth"
           }
          ],
          "contour": [
           {
            "colorbar": {
             "outlinewidth": 0,
             "ticks": ""
            },
            "colorscale": [
             [
              0,
              "#0d0887"
             ],
             [
              0.1111111111111111,
              "#46039f"
             ],
             [
              0.2222222222222222,
              "#7201a8"
             ],
             [
              0.3333333333333333,
              "#9c179e"
             ],
             [
              0.4444444444444444,
              "#bd3786"
             ],
             [
              0.5555555555555556,
              "#d8576b"
             ],
             [
              0.6666666666666666,
              "#ed7953"
             ],
             [
              0.7777777777777778,
              "#fb9f3a"
             ],
             [
              0.8888888888888888,
              "#fdca26"
             ],
             [
              1,
              "#f0f921"
             ]
            ],
            "type": "contour"
           }
          ],
          "contourcarpet": [
           {
            "colorbar": {
             "outlinewidth": 0,
             "ticks": ""
            },
            "type": "contourcarpet"
           }
          ],
          "heatmap": [
           {
            "colorbar": {
             "outlinewidth": 0,
             "ticks": ""
            },
            "colorscale": [
             [
              0,
              "#0d0887"
             ],
             [
              0.1111111111111111,
              "#46039f"
             ],
             [
              0.2222222222222222,
              "#7201a8"
             ],
             [
              0.3333333333333333,
              "#9c179e"
             ],
             [
              0.4444444444444444,
              "#bd3786"
             ],
             [
              0.5555555555555556,
              "#d8576b"
             ],
             [
              0.6666666666666666,
              "#ed7953"
             ],
             [
              0.7777777777777778,
              "#fb9f3a"
             ],
             [
              0.8888888888888888,
              "#fdca26"
             ],
             [
              1,
              "#f0f921"
             ]
            ],
            "type": "heatmap"
           }
          ],
          "heatmapgl": [
           {
            "colorbar": {
             "outlinewidth": 0,
             "ticks": ""
            },
            "colorscale": [
             [
              0,
              "#0d0887"
             ],
             [
              0.1111111111111111,
              "#46039f"
             ],
             [
              0.2222222222222222,
              "#7201a8"
             ],
             [
              0.3333333333333333,
              "#9c179e"
             ],
             [
              0.4444444444444444,
              "#bd3786"
             ],
             [
              0.5555555555555556,
              "#d8576b"
             ],
             [
              0.6666666666666666,
              "#ed7953"
             ],
             [
              0.7777777777777778,
              "#fb9f3a"
             ],
             [
              0.8888888888888888,
              "#fdca26"
             ],
             [
              1,
              "#f0f921"
             ]
            ],
            "type": "heatmapgl"
           }
          ],
          "histogram": [
           {
            "marker": {
             "pattern": {
              "fillmode": "overlay",
              "size": 10,
              "solidity": 0.2
             }
            },
            "type": "histogram"
           }
          ],
          "histogram2d": [
           {
            "colorbar": {
             "outlinewidth": 0,
             "ticks": ""
            },
            "colorscale": [
             [
              0,
              "#0d0887"
             ],
             [
              0.1111111111111111,
              "#46039f"
             ],
             [
              0.2222222222222222,
              "#7201a8"
             ],
             [
              0.3333333333333333,
              "#9c179e"
             ],
             [
              0.4444444444444444,
              "#bd3786"
             ],
             [
              0.5555555555555556,
              "#d8576b"
             ],
             [
              0.6666666666666666,
              "#ed7953"
             ],
             [
              0.7777777777777778,
              "#fb9f3a"
             ],
             [
              0.8888888888888888,
              "#fdca26"
             ],
             [
              1,
              "#f0f921"
             ]
            ],
            "type": "histogram2d"
           }
          ],
          "histogram2dcontour": [
           {
            "colorbar": {
             "outlinewidth": 0,
             "ticks": ""
            },
            "colorscale": [
             [
              0,
              "#0d0887"
             ],
             [
              0.1111111111111111,
              "#46039f"
             ],
             [
              0.2222222222222222,
              "#7201a8"
             ],
             [
              0.3333333333333333,
              "#9c179e"
             ],
             [
              0.4444444444444444,
              "#bd3786"
             ],
             [
              0.5555555555555556,
              "#d8576b"
             ],
             [
              0.6666666666666666,
              "#ed7953"
             ],
             [
              0.7777777777777778,
              "#fb9f3a"
             ],
             [
              0.8888888888888888,
              "#fdca26"
             ],
             [
              1,
              "#f0f921"
             ]
            ],
            "type": "histogram2dcontour"
           }
          ],
          "mesh3d": [
           {
            "colorbar": {
             "outlinewidth": 0,
             "ticks": ""
            },
            "type": "mesh3d"
           }
          ],
          "parcoords": [
           {
            "line": {
             "colorbar": {
              "outlinewidth": 0,
              "ticks": ""
             }
            },
            "type": "parcoords"
           }
          ],
          "pie": [
           {
            "automargin": true,
            "type": "pie"
           }
          ],
          "scatter": [
           {
            "marker": {
             "colorbar": {
              "outlinewidth": 0,
              "ticks": ""
             }
            },
            "type": "scatter"
           }
          ],
          "scatter3d": [
           {
            "line": {
             "colorbar": {
              "outlinewidth": 0,
              "ticks": ""
             }
            },
            "marker": {
             "colorbar": {
              "outlinewidth": 0,
              "ticks": ""
             }
            },
            "type": "scatter3d"
           }
          ],
          "scattercarpet": [
           {
            "marker": {
             "colorbar": {
              "outlinewidth": 0,
              "ticks": ""
             }
            },
            "type": "scattercarpet"
           }
          ],
          "scattergeo": [
           {
            "marker": {
             "colorbar": {
              "outlinewidth": 0,
              "ticks": ""
             }
            },
            "type": "scattergeo"
           }
          ],
          "scattergl": [
           {
            "marker": {
             "colorbar": {
              "outlinewidth": 0,
              "ticks": ""
             }
            },
            "type": "scattergl"
           }
          ],
          "scattermapbox": [
           {
            "marker": {
             "colorbar": {
              "outlinewidth": 0,
              "ticks": ""
             }
            },
            "type": "scattermapbox"
           }
          ],
          "scatterpolar": [
           {
            "marker": {
             "colorbar": {
              "outlinewidth": 0,
              "ticks": ""
             }
            },
            "type": "scatterpolar"
           }
          ],
          "scatterpolargl": [
           {
            "marker": {
             "colorbar": {
              "outlinewidth": 0,
              "ticks": ""
             }
            },
            "type": "scatterpolargl"
           }
          ],
          "scatterternary": [
           {
            "marker": {
             "colorbar": {
              "outlinewidth": 0,
              "ticks": ""
             }
            },
            "type": "scatterternary"
           }
          ],
          "surface": [
           {
            "colorbar": {
             "outlinewidth": 0,
             "ticks": ""
            },
            "colorscale": [
             [
              0,
              "#0d0887"
             ],
             [
              0.1111111111111111,
              "#46039f"
             ],
             [
              0.2222222222222222,
              "#7201a8"
             ],
             [
              0.3333333333333333,
              "#9c179e"
             ],
             [
              0.4444444444444444,
              "#bd3786"
             ],
             [
              0.5555555555555556,
              "#d8576b"
             ],
             [
              0.6666666666666666,
              "#ed7953"
             ],
             [
              0.7777777777777778,
              "#fb9f3a"
             ],
             [
              0.8888888888888888,
              "#fdca26"
             ],
             [
              1,
              "#f0f921"
             ]
            ],
            "type": "surface"
           }
          ],
          "table": [
           {
            "cells": {
             "fill": {
              "color": "#EBF0F8"
             },
             "line": {
              "color": "white"
             }
            },
            "header": {
             "fill": {
              "color": "#C8D4E3"
             },
             "line": {
              "color": "white"
             }
            },
            "type": "table"
           }
          ]
         },
         "layout": {
          "annotationdefaults": {
           "arrowcolor": "#2a3f5f",
           "arrowhead": 0,
           "arrowwidth": 1
          },
          "autotypenumbers": "strict",
          "coloraxis": {
           "colorbar": {
            "outlinewidth": 0,
            "ticks": ""
           }
          },
          "colorscale": {
           "diverging": [
            [
             0,
             "#8e0152"
            ],
            [
             0.1,
             "#c51b7d"
            ],
            [
             0.2,
             "#de77ae"
            ],
            [
             0.3,
             "#f1b6da"
            ],
            [
             0.4,
             "#fde0ef"
            ],
            [
             0.5,
             "#f7f7f7"
            ],
            [
             0.6,
             "#e6f5d0"
            ],
            [
             0.7,
             "#b8e186"
            ],
            [
             0.8,
             "#7fbc41"
            ],
            [
             0.9,
             "#4d9221"
            ],
            [
             1,
             "#276419"
            ]
           ],
           "sequential": [
            [
             0,
             "#0d0887"
            ],
            [
             0.1111111111111111,
             "#46039f"
            ],
            [
             0.2222222222222222,
             "#7201a8"
            ],
            [
             0.3333333333333333,
             "#9c179e"
            ],
            [
             0.4444444444444444,
             "#bd3786"
            ],
            [
             0.5555555555555556,
             "#d8576b"
            ],
            [
             0.6666666666666666,
             "#ed7953"
            ],
            [
             0.7777777777777778,
             "#fb9f3a"
            ],
            [
             0.8888888888888888,
             "#fdca26"
            ],
            [
             1,
             "#f0f921"
            ]
           ],
           "sequentialminus": [
            [
             0,
             "#0d0887"
            ],
            [
             0.1111111111111111,
             "#46039f"
            ],
            [
             0.2222222222222222,
             "#7201a8"
            ],
            [
             0.3333333333333333,
             "#9c179e"
            ],
            [
             0.4444444444444444,
             "#bd3786"
            ],
            [
             0.5555555555555556,
             "#d8576b"
            ],
            [
             0.6666666666666666,
             "#ed7953"
            ],
            [
             0.7777777777777778,
             "#fb9f3a"
            ],
            [
             0.8888888888888888,
             "#fdca26"
            ],
            [
             1,
             "#f0f921"
            ]
           ]
          },
          "colorway": [
           "#636efa",
           "#EF553B",
           "#00cc96",
           "#ab63fa",
           "#FFA15A",
           "#19d3f3",
           "#FF6692",
           "#B6E880",
           "#FF97FF",
           "#FECB52"
          ],
          "font": {
           "color": "#2a3f5f"
          },
          "geo": {
           "bgcolor": "white",
           "lakecolor": "white",
           "landcolor": "#E5ECF6",
           "showlakes": true,
           "showland": true,
           "subunitcolor": "white"
          },
          "hoverlabel": {
           "align": "left"
          },
          "hovermode": "closest",
          "mapbox": {
           "style": "light"
          },
          "paper_bgcolor": "white",
          "plot_bgcolor": "#E5ECF6",
          "polar": {
           "angularaxis": {
            "gridcolor": "white",
            "linecolor": "white",
            "ticks": ""
           },
           "bgcolor": "#E5ECF6",
           "radialaxis": {
            "gridcolor": "white",
            "linecolor": "white",
            "ticks": ""
           }
          },
          "scene": {
           "xaxis": {
            "backgroundcolor": "#E5ECF6",
            "gridcolor": "white",
            "gridwidth": 2,
            "linecolor": "white",
            "showbackground": true,
            "ticks": "",
            "zerolinecolor": "white"
           },
           "yaxis": {
            "backgroundcolor": "#E5ECF6",
            "gridcolor": "white",
            "gridwidth": 2,
            "linecolor": "white",
            "showbackground": true,
            "ticks": "",
            "zerolinecolor": "white"
           },
           "zaxis": {
            "backgroundcolor": "#E5ECF6",
            "gridcolor": "white",
            "gridwidth": 2,
            "linecolor": "white",
            "showbackground": true,
            "ticks": "",
            "zerolinecolor": "white"
           }
          },
          "shapedefaults": {
           "line": {
            "color": "#2a3f5f"
           }
          },
          "ternary": {
           "aaxis": {
            "gridcolor": "white",
            "linecolor": "white",
            "ticks": ""
           },
           "baxis": {
            "gridcolor": "white",
            "linecolor": "white",
            "ticks": ""
           },
           "bgcolor": "#E5ECF6",
           "caxis": {
            "gridcolor": "white",
            "linecolor": "white",
            "ticks": ""
           }
          },
          "title": {
           "x": 0.05
          },
          "xaxis": {
           "automargin": true,
           "gridcolor": "white",
           "linecolor": "white",
           "ticks": "",
           "title": {
            "standoff": 15
           },
           "zerolinecolor": "white",
           "zerolinewidth": 2
          },
          "yaxis": {
           "automargin": true,
           "gridcolor": "white",
           "linecolor": "white",
           "ticks": "",
           "title": {
            "standoff": 15
           },
           "zerolinecolor": "white",
           "zerolinewidth": 2
          }
         }
        },
        "width": 800,
        "xaxis": {
         "anchor": "y",
         "domain": [
          0,
          0.1
         ],
         "showgrid": false,
         "visible": false
        },
        "xaxis10": {
         "anchor": "y10",
         "domain": [
          0.9,
          1
         ],
         "showgrid": false,
         "visible": false
        },
        "xaxis11": {
         "anchor": "y11",
         "domain": [
          0,
          0.1
         ],
         "showgrid": false,
         "visible": false
        },
        "xaxis12": {
         "anchor": "y12",
         "domain": [
          0.1,
          0.2
         ],
         "showgrid": false,
         "visible": false
        },
        "xaxis13": {
         "anchor": "y13",
         "domain": [
          0.2,
          0.8
         ],
         "showgrid": false,
         "visible": false
        },
        "xaxis14": {
         "anchor": "y14",
         "domain": [
          0.8,
          0.9
         ],
         "showgrid": false,
         "visible": false
        },
        "xaxis15": {
         "anchor": "y15",
         "domain": [
          0.9,
          1
         ],
         "showgrid": false,
         "visible": false
        },
        "xaxis16": {
         "anchor": "y16",
         "domain": [
          0,
          0.1
         ],
         "showgrid": false,
         "visible": false
        },
        "xaxis17": {
         "anchor": "y17",
         "domain": [
          0.1,
          0.2
         ],
         "showgrid": false,
         "visible": false
        },
        "xaxis18": {
         "anchor": "y18",
         "domain": [
          0.2,
          0.8
         ],
         "showgrid": false,
         "visible": false
        },
        "xaxis19": {
         "anchor": "y19",
         "domain": [
          0.8,
          0.9
         ],
         "showgrid": false,
         "visible": false
        },
        "xaxis2": {
         "anchor": "y2",
         "domain": [
          0.1,
          0.2
         ],
         "showgrid": false,
         "visible": false
        },
        "xaxis20": {
         "anchor": "y20",
         "domain": [
          0.9,
          1
         ],
         "showgrid": false,
         "visible": false
        },
        "xaxis21": {
         "anchor": "y21",
         "domain": [
          0,
          0.1
         ],
         "showgrid": false,
         "visible": false
        },
        "xaxis22": {
         "anchor": "y22",
         "domain": [
          0.1,
          0.2
         ],
         "showgrid": false,
         "visible": false
        },
        "xaxis23": {
         "anchor": "y23",
         "domain": [
          0.2,
          0.8
         ],
         "showgrid": false,
         "visible": false
        },
        "xaxis24": {
         "anchor": "y24",
         "domain": [
          0.8,
          0.9
         ],
         "showgrid": false,
         "visible": false
        },
        "xaxis25": {
         "anchor": "y25",
         "domain": [
          0.9,
          1
         ],
         "showgrid": false,
         "visible": false
        },
        "xaxis26": {
         "anchor": "y26",
         "domain": [
          0,
          0.1
         ],
         "showgrid": false,
         "visible": false
        },
        "xaxis27": {
         "anchor": "y27",
         "domain": [
          0.1,
          0.2
         ],
         "showgrid": false,
         "visible": false
        },
        "xaxis28": {
         "anchor": "y28",
         "domain": [
          0.2,
          0.8
         ],
         "showgrid": false,
         "visible": false
        },
        "xaxis29": {
         "anchor": "y29",
         "domain": [
          0.8,
          0.9
         ],
         "showgrid": false,
         "visible": false
        },
        "xaxis3": {
         "anchor": "y3",
         "domain": [
          0.2,
          0.8
         ],
         "showgrid": false,
         "visible": false
        },
        "xaxis30": {
         "anchor": "y30",
         "domain": [
          0.9,
          1
         ],
         "showgrid": false,
         "visible": false
        },
        "xaxis31": {
         "anchor": "y31",
         "domain": [
          0,
          0.1
         ],
         "showgrid": false,
         "visible": false
        },
        "xaxis32": {
         "anchor": "y32",
         "domain": [
          0.1,
          0.2
         ],
         "showgrid": false,
         "visible": false
        },
        "xaxis33": {
         "anchor": "y33",
         "domain": [
          0.2,
          0.8
         ],
         "showgrid": false,
         "visible": false
        },
        "xaxis34": {
         "anchor": "y34",
         "domain": [
          0.8,
          0.9
         ],
         "showgrid": false,
         "visible": false
        },
        "xaxis35": {
         "anchor": "y35",
         "domain": [
          0.9,
          1
         ],
         "showgrid": false,
         "visible": false
        },
        "xaxis36": {
         "anchor": "y36",
         "domain": [
          0,
          0.1
         ],
         "showgrid": false,
         "visible": false
        },
        "xaxis37": {
         "anchor": "y37",
         "domain": [
          0.1,
          0.2
         ],
         "showgrid": false,
         "visible": false
        },
        "xaxis38": {
         "anchor": "y38",
         "domain": [
          0.2,
          0.8
         ],
         "showgrid": false,
         "visible": false
        },
        "xaxis39": {
         "anchor": "y39",
         "domain": [
          0.8,
          0.9
         ],
         "showgrid": false,
         "visible": false
        },
        "xaxis4": {
         "anchor": "y4",
         "domain": [
          0.8,
          0.9
         ],
         "showgrid": false,
         "visible": false
        },
        "xaxis40": {
         "anchor": "y40",
         "domain": [
          0.9,
          1
         ],
         "showgrid": false,
         "visible": false
        },
        "xaxis41": {
         "anchor": "y41",
         "domain": [
          0,
          0.1
         ],
         "showgrid": false,
         "visible": false
        },
        "xaxis42": {
         "anchor": "y42",
         "domain": [
          0.1,
          0.2
         ],
         "showgrid": false,
         "visible": false
        },
        "xaxis43": {
         "anchor": "y43",
         "domain": [
          0.2,
          0.8
         ],
         "showgrid": false,
         "visible": false
        },
        "xaxis44": {
         "anchor": "y44",
         "domain": [
          0.8,
          0.9
         ],
         "showgrid": false,
         "visible": false
        },
        "xaxis45": {
         "anchor": "y45",
         "domain": [
          0.9,
          1
         ],
         "showgrid": false,
         "visible": false
        },
        "xaxis46": {
         "anchor": "y46",
         "domain": [
          0,
          0.1
         ],
         "showgrid": false,
         "visible": false
        },
        "xaxis47": {
         "anchor": "y47",
         "domain": [
          0.1,
          0.2
         ],
         "showgrid": false,
         "visible": false
        },
        "xaxis48": {
         "anchor": "y48",
         "domain": [
          0.2,
          0.8
         ],
         "showgrid": false,
         "visible": false
        },
        "xaxis49": {
         "anchor": "y49",
         "domain": [
          0.8,
          0.9
         ],
         "showgrid": false,
         "visible": false
        },
        "xaxis5": {
         "anchor": "y5",
         "domain": [
          0.9,
          1
         ],
         "showgrid": false,
         "visible": false
        },
        "xaxis50": {
         "anchor": "y50",
         "domain": [
          0.9,
          1
         ],
         "showgrid": false,
         "visible": false
        },
        "xaxis51": {
         "anchor": "y51",
         "domain": [
          0,
          0.1
         ],
         "showgrid": false,
         "visible": false
        },
        "xaxis52": {
         "anchor": "y52",
         "domain": [
          0.1,
          0.2
         ],
         "showgrid": false,
         "visible": false
        },
        "xaxis53": {
         "anchor": "y53",
         "domain": [
          0.2,
          0.8
         ],
         "showgrid": false,
         "visible": false
        },
        "xaxis54": {
         "anchor": "y54",
         "domain": [
          0.8,
          0.9
         ],
         "showgrid": false,
         "visible": false
        },
        "xaxis55": {
         "anchor": "y55",
         "domain": [
          0.9,
          1
         ],
         "showgrid": false,
         "visible": false
        },
        "xaxis56": {
         "anchor": "y56",
         "domain": [
          0,
          0.1
         ],
         "showgrid": false,
         "visible": false
        },
        "xaxis57": {
         "anchor": "y57",
         "domain": [
          0.1,
          0.2
         ],
         "showgrid": false,
         "visible": false
        },
        "xaxis58": {
         "anchor": "y58",
         "domain": [
          0.2,
          0.8
         ],
         "showgrid": false,
         "visible": false
        },
        "xaxis59": {
         "anchor": "y59",
         "domain": [
          0.8,
          0.9
         ],
         "showgrid": false,
         "visible": false
        },
        "xaxis6": {
         "anchor": "y6",
         "domain": [
          0,
          0.1
         ],
         "showgrid": false,
         "visible": false
        },
        "xaxis60": {
         "anchor": "y60",
         "domain": [
          0.9,
          1
         ],
         "showgrid": false,
         "visible": false
        },
        "xaxis7": {
         "anchor": "y7",
         "domain": [
          0.1,
          0.2
         ],
         "showgrid": false,
         "visible": false
        },
        "xaxis8": {
         "anchor": "y8",
         "domain": [
          0.2,
          0.8
         ],
         "showgrid": false,
         "visible": false
        },
        "xaxis9": {
         "anchor": "y9",
         "domain": [
          0.8,
          0.9
         ],
         "showgrid": false,
         "visible": false
        },
        "yaxis": {
         "anchor": "x",
         "domain": [
          0.9166666666666667,
          1
         ],
         "showgrid": false,
         "visible": false
        },
        "yaxis10": {
         "anchor": "x10",
         "domain": [
          0.8333333333333334,
          0.9166666666666667
         ],
         "showgrid": false,
         "visible": false
        },
        "yaxis11": {
         "anchor": "x11",
         "domain": [
          0.75,
          0.8333333333333334
         ],
         "showgrid": false,
         "visible": false
        },
        "yaxis12": {
         "anchor": "x12",
         "domain": [
          0.75,
          0.8333333333333334
         ],
         "showgrid": false,
         "visible": false
        },
        "yaxis13": {
         "anchor": "x13",
         "domain": [
          0.75,
          0.8333333333333334
         ],
         "showgrid": false,
         "visible": false
        },
        "yaxis14": {
         "anchor": "x14",
         "domain": [
          0.75,
          0.8333333333333334
         ],
         "showgrid": false,
         "visible": false
        },
        "yaxis15": {
         "anchor": "x15",
         "domain": [
          0.75,
          0.8333333333333334
         ],
         "showgrid": false,
         "visible": false
        },
        "yaxis16": {
         "anchor": "x16",
         "domain": [
          0.6666666666666666,
          0.75
         ],
         "showgrid": false,
         "visible": false
        },
        "yaxis17": {
         "anchor": "x17",
         "domain": [
          0.6666666666666666,
          0.75
         ],
         "showgrid": false,
         "visible": false
        },
        "yaxis18": {
         "anchor": "x18",
         "domain": [
          0.6666666666666666,
          0.75
         ],
         "showgrid": false,
         "visible": false
        },
        "yaxis19": {
         "anchor": "x19",
         "domain": [
          0.6666666666666666,
          0.75
         ],
         "showgrid": false,
         "visible": false
        },
        "yaxis2": {
         "anchor": "x2",
         "domain": [
          0.9166666666666667,
          1
         ],
         "showgrid": false,
         "visible": false
        },
        "yaxis20": {
         "anchor": "x20",
         "domain": [
          0.6666666666666666,
          0.75
         ],
         "showgrid": false,
         "visible": false
        },
        "yaxis21": {
         "anchor": "x21",
         "domain": [
          0.5833333333333333,
          0.6666666666666666
         ],
         "showgrid": false,
         "visible": false
        },
        "yaxis22": {
         "anchor": "x22",
         "domain": [
          0.5833333333333333,
          0.6666666666666666
         ],
         "showgrid": false,
         "visible": false
        },
        "yaxis23": {
         "anchor": "x23",
         "domain": [
          0.5833333333333333,
          0.6666666666666666
         ],
         "showgrid": false,
         "visible": false
        },
        "yaxis24": {
         "anchor": "x24",
         "domain": [
          0.5833333333333333,
          0.6666666666666666
         ],
         "showgrid": false,
         "visible": false
        },
        "yaxis25": {
         "anchor": "x25",
         "domain": [
          0.5833333333333333,
          0.6666666666666666
         ],
         "showgrid": false,
         "visible": false
        },
        "yaxis26": {
         "anchor": "x26",
         "domain": [
          0.49999999999999994,
          0.5833333333333333
         ],
         "showgrid": false,
         "visible": false
        },
        "yaxis27": {
         "anchor": "x27",
         "domain": [
          0.49999999999999994,
          0.5833333333333333
         ],
         "showgrid": false,
         "visible": false
        },
        "yaxis28": {
         "anchor": "x28",
         "domain": [
          0.49999999999999994,
          0.5833333333333333
         ],
         "showgrid": false,
         "visible": false
        },
        "yaxis29": {
         "anchor": "x29",
         "domain": [
          0.49999999999999994,
          0.5833333333333333
         ],
         "showgrid": false,
         "visible": false
        },
        "yaxis3": {
         "anchor": "x3",
         "domain": [
          0.9166666666666667,
          1
         ],
         "showgrid": false,
         "visible": false
        },
        "yaxis30": {
         "anchor": "x30",
         "domain": [
          0.49999999999999994,
          0.5833333333333333
         ],
         "showgrid": false,
         "visible": false
        },
        "yaxis31": {
         "anchor": "x31",
         "domain": [
          0.41666666666666663,
          0.49999999999999994
         ],
         "showgrid": false,
         "visible": false
        },
        "yaxis32": {
         "anchor": "x32",
         "domain": [
          0.41666666666666663,
          0.49999999999999994
         ],
         "showgrid": false,
         "visible": false
        },
        "yaxis33": {
         "anchor": "x33",
         "domain": [
          0.41666666666666663,
          0.49999999999999994
         ],
         "showgrid": false,
         "visible": false
        },
        "yaxis34": {
         "anchor": "x34",
         "domain": [
          0.41666666666666663,
          0.49999999999999994
         ],
         "showgrid": false,
         "visible": false
        },
        "yaxis35": {
         "anchor": "x35",
         "domain": [
          0.41666666666666663,
          0.49999999999999994
         ],
         "showgrid": false,
         "visible": false
        },
        "yaxis36": {
         "anchor": "x36",
         "domain": [
          0.3333333333333333,
          0.41666666666666663
         ],
         "showgrid": false,
         "visible": false
        },
        "yaxis37": {
         "anchor": "x37",
         "domain": [
          0.3333333333333333,
          0.41666666666666663
         ],
         "showgrid": false,
         "visible": false
        },
        "yaxis38": {
         "anchor": "x38",
         "domain": [
          0.3333333333333333,
          0.41666666666666663
         ],
         "showgrid": false,
         "visible": false
        },
        "yaxis39": {
         "anchor": "x39",
         "domain": [
          0.3333333333333333,
          0.41666666666666663
         ],
         "showgrid": false,
         "visible": false
        },
        "yaxis4": {
         "anchor": "x4",
         "domain": [
          0.9166666666666667,
          1
         ],
         "showgrid": false,
         "visible": false
        },
        "yaxis40": {
         "anchor": "x40",
         "domain": [
          0.3333333333333333,
          0.41666666666666663
         ],
         "showgrid": false,
         "visible": false
        },
        "yaxis41": {
         "anchor": "x41",
         "domain": [
          0.25,
          0.3333333333333333
         ],
         "showgrid": false,
         "visible": false
        },
        "yaxis42": {
         "anchor": "x42",
         "domain": [
          0.25,
          0.3333333333333333
         ],
         "showgrid": false,
         "visible": false
        },
        "yaxis43": {
         "anchor": "x43",
         "domain": [
          0.25,
          0.3333333333333333
         ],
         "showgrid": false,
         "visible": false
        },
        "yaxis44": {
         "anchor": "x44",
         "domain": [
          0.25,
          0.3333333333333333
         ],
         "showgrid": false,
         "visible": false
        },
        "yaxis45": {
         "anchor": "x45",
         "domain": [
          0.25,
          0.3333333333333333
         ],
         "showgrid": false,
         "visible": false
        },
        "yaxis46": {
         "anchor": "x46",
         "domain": [
          0.16666666666666666,
          0.25
         ],
         "showgrid": false,
         "visible": false
        },
        "yaxis47": {
         "anchor": "x47",
         "domain": [
          0.16666666666666666,
          0.25
         ],
         "showgrid": false,
         "visible": false
        },
        "yaxis48": {
         "anchor": "x48",
         "domain": [
          0.16666666666666666,
          0.25
         ],
         "showgrid": false,
         "visible": false
        },
        "yaxis49": {
         "anchor": "x49",
         "domain": [
          0.16666666666666666,
          0.25
         ],
         "showgrid": false,
         "visible": false
        },
        "yaxis5": {
         "anchor": "x5",
         "domain": [
          0.9166666666666667,
          1
         ],
         "showgrid": false,
         "visible": false
        },
        "yaxis50": {
         "anchor": "x50",
         "domain": [
          0.16666666666666666,
          0.25
         ],
         "showgrid": false,
         "visible": false
        },
        "yaxis51": {
         "anchor": "x51",
         "domain": [
          0.08333333333333333,
          0.16666666666666666
         ],
         "showgrid": false,
         "visible": false
        },
        "yaxis52": {
         "anchor": "x52",
         "domain": [
          0.08333333333333333,
          0.16666666666666666
         ],
         "showgrid": false,
         "visible": false
        },
        "yaxis53": {
         "anchor": "x53",
         "domain": [
          0.08333333333333333,
          0.16666666666666666
         ],
         "showgrid": false,
         "visible": false
        },
        "yaxis54": {
         "anchor": "x54",
         "domain": [
          0.08333333333333333,
          0.16666666666666666
         ],
         "showgrid": false,
         "visible": false
        },
        "yaxis55": {
         "anchor": "x55",
         "domain": [
          0.08333333333333333,
          0.16666666666666666
         ],
         "showgrid": false,
         "visible": false
        },
        "yaxis56": {
         "anchor": "x56",
         "domain": [
          0,
          0.08333333333333333
         ],
         "showgrid": false,
         "visible": false
        },
        "yaxis57": {
         "anchor": "x57",
         "domain": [
          0,
          0.08333333333333333
         ],
         "showgrid": false,
         "visible": false
        },
        "yaxis58": {
         "anchor": "x58",
         "domain": [
          0,
          0.08333333333333333
         ],
         "showgrid": false,
         "visible": false
        },
        "yaxis59": {
         "anchor": "x59",
         "domain": [
          0,
          0.08333333333333333
         ],
         "showgrid": false,
         "visible": false
        },
        "yaxis6": {
         "anchor": "x6",
         "domain": [
          0.8333333333333334,
          0.9166666666666667
         ],
         "showgrid": false,
         "visible": false
        },
        "yaxis60": {
         "anchor": "x60",
         "domain": [
          0,
          0.08333333333333333
         ],
         "showgrid": false,
         "visible": false
        },
        "yaxis7": {
         "anchor": "x7",
         "domain": [
          0.8333333333333334,
          0.9166666666666667
         ],
         "showgrid": false,
         "visible": false
        },
        "yaxis8": {
         "anchor": "x8",
         "domain": [
          0.8333333333333334,
          0.9166666666666667
         ],
         "showgrid": false,
         "visible": false
        },
        "yaxis9": {
         "anchor": "x9",
         "domain": [
          0.8333333333333334,
          0.9166666666666667
         ],
         "showgrid": false,
         "visible": false
        }
       }
      },
      "text/html": [
       "<div>                            <div id=\"588518e7-809a-40b7-8ff9-06ffe2c12dd5\" class=\"plotly-graph-div\" style=\"height:200px; width:800px;\"></div>            <script type=\"text/javascript\">                require([\"plotly\"], function(Plotly) {                    window.PLOTLYENV=window.PLOTLYENV || {};                                    if (document.getElementById(\"588518e7-809a-40b7-8ff9-06ffe2c12dd5\")) {                    Plotly.newPlot(                        \"588518e7-809a-40b7-8ff9-06ffe2c12dd5\",                        [{\"mode\":\"text\",\"text\":\"1\",\"textposition\":\"middle right\",\"x\":[1],\"y\":[1],\"type\":\"scatter\",\"xaxis\":\"x\",\"yaxis\":\"y\"},{\"mode\":\"text\",\"text\":\"0\",\"textposition\":\"middle right\",\"x\":[1],\"y\":[1],\"type\":\"scatter\",\"xaxis\":\"x2\",\"yaxis\":\"y2\"},{\"mode\":\"text\",\"text\":[\"Baer et. al., 2003, constraints on mSUGRA, SI\",\"\"],\"textposition\":\"middle right\",\"x\":[1,2],\"y\":[1,1],\"type\":\"scatter\",\"xaxis\":\"x3\",\"yaxis\":\"y3\"},{\"line\":{\"color\":\"black\",\"dash\":\"solid\",\"width\":4},\"mode\":\"lines\",\"x\":[1,2],\"y\":[1,1],\"type\":\"scatter\",\"xaxis\":\"x4\",\"yaxis\":\"y4\"},{\"marker\":{\"color\":\"black\",\"colorscale\":[[0.0,\"#440154\"],[0.1111111111111111,\"#482878\"],[0.2222222222222222,\"#3e4989\"],[0.3333333333333333,\"#31688e\"],[0.4444444444444444,\"#26828e\"],[0.5555555555555556,\"#1f9e89\"],[0.6666666666666666,\"#35b779\"],[0.7777777777777778,\"#6ece58\"],[0.8888888888888888,\"#b5de2b\"],[1.0,\"#fde725\"]],\"showscale\":false,\"size\":10,\"symbol\":\"square\"},\"mode\":\"markers\",\"x\":[1],\"y\":[1],\"type\":\"scatter\",\"xaxis\":\"x5\",\"yaxis\":\"y5\"},{\"mode\":\"text\",\"text\":\"262\",\"textposition\":\"middle right\",\"x\":[1],\"y\":[1],\"type\":\"scatter\",\"xaxis\":\"x6\",\"yaxis\":\"y6\"},{\"mode\":\"text\",\"text\":\"0\",\"textposition\":\"middle right\",\"x\":[1],\"y\":[1],\"type\":\"scatter\",\"xaxis\":\"x7\",\"yaxis\":\"y7\"},{\"mode\":\"text\",\"text\":[\"Roszkowski et. al., 2007, CMSSM Markov Chain Monte Carlos (mu>0), 95% contour, SI\",\"\"],\"textposition\":\"middle right\",\"x\":[1,2],\"y\":[1,1],\"type\":\"scatter\",\"xaxis\":\"x8\",\"yaxis\":\"y8\"},{\"line\":{\"color\":\"black\",\"dash\":\"solid\",\"width\":4},\"mode\":\"lines\",\"x\":[1,2],\"y\":[1,1],\"type\":\"scatter\",\"xaxis\":\"x9\",\"yaxis\":\"y9\"},{\"marker\":{\"color\":\"black\",\"colorscale\":[[0.0,\"#440154\"],[0.1111111111111111,\"#482878\"],[0.2222222222222222,\"#3e4989\"],[0.3333333333333333,\"#31688e\"],[0.4444444444444444,\"#26828e\"],[0.5555555555555556,\"#1f9e89\"],[0.6666666666666666,\"#35b779\"],[0.7777777777777778,\"#6ece58\"],[0.8888888888888888,\"#b5de2b\"],[1.0,\"#fde725\"]],\"showscale\":false,\"size\":10,\"symbol\":\"square\"},\"mode\":\"markers\",\"x\":[1],\"y\":[1],\"type\":\"scatter\",\"xaxis\":\"x10\",\"yaxis\":\"y10\"},{\"mode\":\"text\",\"text\":\"262\",\"textposition\":\"middle right\",\"x\":[1],\"y\":[1],\"type\":\"scatter\",\"xaxis\":\"x11\",\"yaxis\":\"y11\"},{\"mode\":\"text\",\"text\":\"1\",\"textposition\":\"middle right\",\"x\":[1],\"y\":[1],\"type\":\"scatter\",\"xaxis\":\"x12\",\"yaxis\":\"y12\"},{\"mode\":\"text\",\"text\":[\"Roszkowski et. al., 2007, CMSSM Markov Chain Monte Carlos (mu>0), 95% contour, SI\",\"\"],\"textposition\":\"middle right\",\"x\":[1,2],\"y\":[1,1],\"type\":\"scatter\",\"xaxis\":\"x13\",\"yaxis\":\"y13\"},{\"line\":{\"color\":\"black\",\"dash\":\"solid\",\"width\":4},\"mode\":\"lines\",\"x\":[1,2],\"y\":[1,1],\"type\":\"scatter\",\"xaxis\":\"x14\",\"yaxis\":\"y14\"},{\"marker\":{\"color\":\"black\",\"colorscale\":[[0.0,\"#440154\"],[0.1111111111111111,\"#482878\"],[0.2222222222222222,\"#3e4989\"],[0.3333333333333333,\"#31688e\"],[0.4444444444444444,\"#26828e\"],[0.5555555555555556,\"#1f9e89\"],[0.6666666666666666,\"#35b779\"],[0.7777777777777778,\"#6ece58\"],[0.8888888888888888,\"#b5de2b\"],[1.0,\"#fde725\"]],\"showscale\":false,\"size\":10,\"symbol\":\"square\"},\"mode\":\"markers\",\"x\":[1],\"y\":[1],\"type\":\"scatter\",\"xaxis\":\"x15\",\"yaxis\":\"y15\"},{\"mode\":\"text\",\"text\":\"262\",\"textposition\":\"middle right\",\"x\":[1],\"y\":[1],\"type\":\"scatter\",\"xaxis\":\"x16\",\"yaxis\":\"y16\"},{\"mode\":\"text\",\"text\":\"2\",\"textposition\":\"middle right\",\"x\":[1],\"y\":[1],\"type\":\"scatter\",\"xaxis\":\"x17\",\"yaxis\":\"y17\"},{\"mode\":\"text\",\"text\":[\"Roszkowski et. al., 2007, CMSSM Markov Chain Monte Carlos (mu>0), 95% contour, SI\",\"\"],\"textposition\":\"middle right\",\"x\":[1,2],\"y\":[1,1],\"type\":\"scatter\",\"xaxis\":\"x18\",\"yaxis\":\"y18\"},{\"line\":{\"color\":\"black\",\"dash\":\"solid\",\"width\":4},\"mode\":\"lines\",\"x\":[1,2],\"y\":[1,1],\"type\":\"scatter\",\"xaxis\":\"x19\",\"yaxis\":\"y19\"},{\"marker\":{\"color\":\"black\",\"colorscale\":[[0.0,\"#440154\"],[0.1111111111111111,\"#482878\"],[0.2222222222222222,\"#3e4989\"],[0.3333333333333333,\"#31688e\"],[0.4444444444444444,\"#26828e\"],[0.5555555555555556,\"#1f9e89\"],[0.6666666666666666,\"#35b779\"],[0.7777777777777778,\"#6ece58\"],[0.8888888888888888,\"#b5de2b\"],[1.0,\"#fde725\"]],\"showscale\":false,\"size\":10,\"symbol\":\"square\"},\"mode\":\"markers\",\"x\":[1],\"y\":[1],\"type\":\"scatter\",\"xaxis\":\"x20\",\"yaxis\":\"y20\"},{\"mode\":\"text\",\"text\":\"262\",\"textposition\":\"middle right\",\"x\":[1],\"y\":[1],\"type\":\"scatter\",\"xaxis\":\"x21\",\"yaxis\":\"y21\"},{\"mode\":\"text\",\"text\":\"3\",\"textposition\":\"middle right\",\"x\":[1],\"y\":[1],\"type\":\"scatter\",\"xaxis\":\"x22\",\"yaxis\":\"y22\"},{\"mode\":\"text\",\"text\":[\"Roszkowski et. al., 2007, CMSSM Markov Chain Monte Carlos (mu>0), 95% contour, SI\",\"\"],\"textposition\":\"middle right\",\"x\":[1,2],\"y\":[1,1],\"type\":\"scatter\",\"xaxis\":\"x23\",\"yaxis\":\"y23\"},{\"line\":{\"color\":\"black\",\"dash\":\"solid\",\"width\":4},\"mode\":\"lines\",\"x\":[1,2],\"y\":[1,1],\"type\":\"scatter\",\"xaxis\":\"x24\",\"yaxis\":\"y24\"},{\"marker\":{\"color\":\"black\",\"colorscale\":[[0.0,\"#440154\"],[0.1111111111111111,\"#482878\"],[0.2222222222222222,\"#3e4989\"],[0.3333333333333333,\"#31688e\"],[0.4444444444444444,\"#26828e\"],[0.5555555555555556,\"#1f9e89\"],[0.6666666666666666,\"#35b779\"],[0.7777777777777778,\"#6ece58\"],[0.8888888888888888,\"#b5de2b\"],[1.0,\"#fde725\"]],\"showscale\":false,\"size\":10,\"symbol\":\"square\"},\"mode\":\"markers\",\"x\":[1],\"y\":[1],\"type\":\"scatter\",\"xaxis\":\"x25\",\"yaxis\":\"y25\"},{\"mode\":\"text\",\"text\":\"262\",\"textposition\":\"middle right\",\"x\":[1],\"y\":[1],\"type\":\"scatter\",\"xaxis\":\"x26\",\"yaxis\":\"y26\"},{\"mode\":\"text\",\"text\":\"4\",\"textposition\":\"middle right\",\"x\":[1],\"y\":[1],\"type\":\"scatter\",\"xaxis\":\"x27\",\"yaxis\":\"y27\"},{\"mode\":\"text\",\"text\":[\"Roszkowski et. al., 2007, CMSSM Markov Chain Monte Carlos (mu>0), 95% contour, SI\",\"\"],\"textposition\":\"middle right\",\"x\":[1,2],\"y\":[1,1],\"type\":\"scatter\",\"xaxis\":\"x28\",\"yaxis\":\"y28\"},{\"line\":{\"color\":\"black\",\"dash\":\"solid\",\"width\":4},\"mode\":\"lines\",\"x\":[1,2],\"y\":[1,1],\"type\":\"scatter\",\"xaxis\":\"x29\",\"yaxis\":\"y29\"},{\"marker\":{\"color\":\"black\",\"colorscale\":[[0.0,\"#440154\"],[0.1111111111111111,\"#482878\"],[0.2222222222222222,\"#3e4989\"],[0.3333333333333333,\"#31688e\"],[0.4444444444444444,\"#26828e\"],[0.5555555555555556,\"#1f9e89\"],[0.6666666666666666,\"#35b779\"],[0.7777777777777778,\"#6ece58\"],[0.8888888888888888,\"#b5de2b\"],[1.0,\"#fde725\"]],\"showscale\":false,\"size\":10,\"symbol\":\"square\"},\"mode\":\"markers\",\"x\":[1],\"y\":[1],\"type\":\"scatter\",\"xaxis\":\"x30\",\"yaxis\":\"y30\"},{\"mode\":\"text\",\"text\":\"262\",\"textposition\":\"middle right\",\"x\":[1],\"y\":[1],\"type\":\"scatter\",\"xaxis\":\"x31\",\"yaxis\":\"y31\"},{\"mode\":\"text\",\"text\":\"5\",\"textposition\":\"middle right\",\"x\":[1],\"y\":[1],\"type\":\"scatter\",\"xaxis\":\"x32\",\"yaxis\":\"y32\"},{\"mode\":\"text\",\"text\":[\"Roszkowski et. al., 2007, CMSSM Markov Chain Monte Carlos (mu>0), 95% contour, SI\",\"\"],\"textposition\":\"middle right\",\"x\":[1,2],\"y\":[1,1],\"type\":\"scatter\",\"xaxis\":\"x33\",\"yaxis\":\"y33\"},{\"line\":{\"color\":\"black\",\"dash\":\"solid\",\"width\":4},\"mode\":\"lines\",\"x\":[1,2],\"y\":[1,1],\"type\":\"scatter\",\"xaxis\":\"x34\",\"yaxis\":\"y34\"},{\"marker\":{\"color\":\"black\",\"colorscale\":[[0.0,\"#440154\"],[0.1111111111111111,\"#482878\"],[0.2222222222222222,\"#3e4989\"],[0.3333333333333333,\"#31688e\"],[0.4444444444444444,\"#26828e\"],[0.5555555555555556,\"#1f9e89\"],[0.6666666666666666,\"#35b779\"],[0.7777777777777778,\"#6ece58\"],[0.8888888888888888,\"#b5de2b\"],[1.0,\"#fde725\"]],\"showscale\":false,\"size\":10,\"symbol\":\"square\"},\"mode\":\"markers\",\"x\":[1],\"y\":[1],\"type\":\"scatter\",\"xaxis\":\"x35\",\"yaxis\":\"y35\"},{\"mode\":\"text\",\"text\":\"262\",\"textposition\":\"middle right\",\"x\":[1],\"y\":[1],\"type\":\"scatter\",\"xaxis\":\"x36\",\"yaxis\":\"y36\"},{\"mode\":\"text\",\"text\":\"6\",\"textposition\":\"middle right\",\"x\":[1],\"y\":[1],\"type\":\"scatter\",\"xaxis\":\"x37\",\"yaxis\":\"y37\"},{\"mode\":\"text\",\"text\":[\"Roszkowski et. al., 2007, CMSSM Markov Chain Monte Carlos (mu>0), 95% contour, SI\",\"\"],\"textposition\":\"middle right\",\"x\":[1,2],\"y\":[1,1],\"type\":\"scatter\",\"xaxis\":\"x38\",\"yaxis\":\"y38\"},{\"line\":{\"color\":\"black\",\"dash\":\"solid\",\"width\":4},\"mode\":\"lines\",\"x\":[1,2],\"y\":[1,1],\"type\":\"scatter\",\"xaxis\":\"x39\",\"yaxis\":\"y39\"},{\"marker\":{\"color\":\"black\",\"colorscale\":[[0.0,\"#440154\"],[0.1111111111111111,\"#482878\"],[0.2222222222222222,\"#3e4989\"],[0.3333333333333333,\"#31688e\"],[0.4444444444444444,\"#26828e\"],[0.5555555555555556,\"#1f9e89\"],[0.6666666666666666,\"#35b779\"],[0.7777777777777778,\"#6ece58\"],[0.8888888888888888,\"#b5de2b\"],[1.0,\"#fde725\"]],\"showscale\":false,\"size\":10,\"symbol\":\"square\"},\"mode\":\"markers\",\"x\":[1],\"y\":[1],\"type\":\"scatter\",\"xaxis\":\"x40\",\"yaxis\":\"y40\"},{\"mode\":\"text\",\"text\":\"262\",\"textposition\":\"middle right\",\"x\":[1],\"y\":[1],\"type\":\"scatter\",\"xaxis\":\"x41\",\"yaxis\":\"y41\"},{\"mode\":\"text\",\"text\":\"7\",\"textposition\":\"middle right\",\"x\":[1],\"y\":[1],\"type\":\"scatter\",\"xaxis\":\"x42\",\"yaxis\":\"y42\"},{\"mode\":\"text\",\"text\":[\"Roszkowski et. al., 2007, CMSSM Markov Chain Monte Carlos (mu>0), 95% contour, SI\",\"\"],\"textposition\":\"middle right\",\"x\":[1,2],\"y\":[1,1],\"type\":\"scatter\",\"xaxis\":\"x43\",\"yaxis\":\"y43\"},{\"line\":{\"color\":\"black\",\"dash\":\"solid\",\"width\":4},\"mode\":\"lines\",\"x\":[1,2],\"y\":[1,1],\"type\":\"scatter\",\"xaxis\":\"x44\",\"yaxis\":\"y44\"},{\"marker\":{\"color\":\"black\",\"colorscale\":[[0.0,\"#440154\"],[0.1111111111111111,\"#482878\"],[0.2222222222222222,\"#3e4989\"],[0.3333333333333333,\"#31688e\"],[0.4444444444444444,\"#26828e\"],[0.5555555555555556,\"#1f9e89\"],[0.6666666666666666,\"#35b779\"],[0.7777777777777778,\"#6ece58\"],[0.8888888888888888,\"#b5de2b\"],[1.0,\"#fde725\"]],\"showscale\":false,\"size\":10,\"symbol\":\"square\"},\"mode\":\"markers\",\"x\":[1],\"y\":[1],\"type\":\"scatter\",\"xaxis\":\"x45\",\"yaxis\":\"y45\"},{\"mode\":\"text\",\"text\":\"262\",\"textposition\":\"middle right\",\"x\":[1],\"y\":[1],\"type\":\"scatter\",\"xaxis\":\"x46\",\"yaxis\":\"y46\"},{\"mode\":\"text\",\"text\":\"8\",\"textposition\":\"middle right\",\"x\":[1],\"y\":[1],\"type\":\"scatter\",\"xaxis\":\"x47\",\"yaxis\":\"y47\"},{\"mode\":\"text\",\"text\":[\"Roszkowski et. al., 2007, CMSSM Markov Chain Monte Carlos (mu>0), 95% contour, SI\",\"\"],\"textposition\":\"middle right\",\"x\":[1,2],\"y\":[1,1],\"type\":\"scatter\",\"xaxis\":\"x48\",\"yaxis\":\"y48\"},{\"line\":{\"color\":\"black\",\"dash\":\"solid\",\"width\":4},\"mode\":\"lines\",\"x\":[1,2],\"y\":[1,1],\"type\":\"scatter\",\"xaxis\":\"x49\",\"yaxis\":\"y49\"},{\"marker\":{\"color\":\"black\",\"colorscale\":[[0.0,\"#440154\"],[0.1111111111111111,\"#482878\"],[0.2222222222222222,\"#3e4989\"],[0.3333333333333333,\"#31688e\"],[0.4444444444444444,\"#26828e\"],[0.5555555555555556,\"#1f9e89\"],[0.6666666666666666,\"#35b779\"],[0.7777777777777778,\"#6ece58\"],[0.8888888888888888,\"#b5de2b\"],[1.0,\"#fde725\"]],\"showscale\":false,\"size\":10,\"symbol\":\"square\"},\"mode\":\"markers\",\"x\":[1],\"y\":[1],\"type\":\"scatter\",\"xaxis\":\"x50\",\"yaxis\":\"y50\"}],                        {\"template\":{\"data\":{\"bar\":[{\"error_x\":{\"color\":\"#2a3f5f\"},\"error_y\":{\"color\":\"#2a3f5f\"},\"marker\":{\"line\":{\"color\":\"#E5ECF6\",\"width\":0.5},\"pattern\":{\"fillmode\":\"overlay\",\"size\":10,\"solidity\":0.2}},\"type\":\"bar\"}],\"barpolar\":[{\"marker\":{\"line\":{\"color\":\"#E5ECF6\",\"width\":0.5},\"pattern\":{\"fillmode\":\"overlay\",\"size\":10,\"solidity\":0.2}},\"type\":\"barpolar\"}],\"carpet\":[{\"aaxis\":{\"endlinecolor\":\"#2a3f5f\",\"gridcolor\":\"white\",\"linecolor\":\"white\",\"minorgridcolor\":\"white\",\"startlinecolor\":\"#2a3f5f\"},\"baxis\":{\"endlinecolor\":\"#2a3f5f\",\"gridcolor\":\"white\",\"linecolor\":\"white\",\"minorgridcolor\":\"white\",\"startlinecolor\":\"#2a3f5f\"},\"type\":\"carpet\"}],\"choropleth\":[{\"colorbar\":{\"outlinewidth\":0,\"ticks\":\"\"},\"type\":\"choropleth\"}],\"contour\":[{\"colorbar\":{\"outlinewidth\":0,\"ticks\":\"\"},\"colorscale\":[[0.0,\"#0d0887\"],[0.1111111111111111,\"#46039f\"],[0.2222222222222222,\"#7201a8\"],[0.3333333333333333,\"#9c179e\"],[0.4444444444444444,\"#bd3786\"],[0.5555555555555556,\"#d8576b\"],[0.6666666666666666,\"#ed7953\"],[0.7777777777777778,\"#fb9f3a\"],[0.8888888888888888,\"#fdca26\"],[1.0,\"#f0f921\"]],\"type\":\"contour\"}],\"contourcarpet\":[{\"colorbar\":{\"outlinewidth\":0,\"ticks\":\"\"},\"type\":\"contourcarpet\"}],\"heatmap\":[{\"colorbar\":{\"outlinewidth\":0,\"ticks\":\"\"},\"colorscale\":[[0.0,\"#0d0887\"],[0.1111111111111111,\"#46039f\"],[0.2222222222222222,\"#7201a8\"],[0.3333333333333333,\"#9c179e\"],[0.4444444444444444,\"#bd3786\"],[0.5555555555555556,\"#d8576b\"],[0.6666666666666666,\"#ed7953\"],[0.7777777777777778,\"#fb9f3a\"],[0.8888888888888888,\"#fdca26\"],[1.0,\"#f0f921\"]],\"type\":\"heatmap\"}],\"heatmapgl\":[{\"colorbar\":{\"outlinewidth\":0,\"ticks\":\"\"},\"colorscale\":[[0.0,\"#0d0887\"],[0.1111111111111111,\"#46039f\"],[0.2222222222222222,\"#7201a8\"],[0.3333333333333333,\"#9c179e\"],[0.4444444444444444,\"#bd3786\"],[0.5555555555555556,\"#d8576b\"],[0.6666666666666666,\"#ed7953\"],[0.7777777777777778,\"#fb9f3a\"],[0.8888888888888888,\"#fdca26\"],[1.0,\"#f0f921\"]],\"type\":\"heatmapgl\"}],\"histogram\":[{\"marker\":{\"pattern\":{\"fillmode\":\"overlay\",\"size\":10,\"solidity\":0.2}},\"type\":\"histogram\"}],\"histogram2d\":[{\"colorbar\":{\"outlinewidth\":0,\"ticks\":\"\"},\"colorscale\":[[0.0,\"#0d0887\"],[0.1111111111111111,\"#46039f\"],[0.2222222222222222,\"#7201a8\"],[0.3333333333333333,\"#9c179e\"],[0.4444444444444444,\"#bd3786\"],[0.5555555555555556,\"#d8576b\"],[0.6666666666666666,\"#ed7953\"],[0.7777777777777778,\"#fb9f3a\"],[0.8888888888888888,\"#fdca26\"],[1.0,\"#f0f921\"]],\"type\":\"histogram2d\"}],\"histogram2dcontour\":[{\"colorbar\":{\"outlinewidth\":0,\"ticks\":\"\"},\"colorscale\":[[0.0,\"#0d0887\"],[0.1111111111111111,\"#46039f\"],[0.2222222222222222,\"#7201a8\"],[0.3333333333333333,\"#9c179e\"],[0.4444444444444444,\"#bd3786\"],[0.5555555555555556,\"#d8576b\"],[0.6666666666666666,\"#ed7953\"],[0.7777777777777778,\"#fb9f3a\"],[0.8888888888888888,\"#fdca26\"],[1.0,\"#f0f921\"]],\"type\":\"histogram2dcontour\"}],\"mesh3d\":[{\"colorbar\":{\"outlinewidth\":0,\"ticks\":\"\"},\"type\":\"mesh3d\"}],\"parcoords\":[{\"line\":{\"colorbar\":{\"outlinewidth\":0,\"ticks\":\"\"}},\"type\":\"parcoords\"}],\"pie\":[{\"automargin\":true,\"type\":\"pie\"}],\"scatter\":[{\"marker\":{\"colorbar\":{\"outlinewidth\":0,\"ticks\":\"\"}},\"type\":\"scatter\"}],\"scatter3d\":[{\"line\":{\"colorbar\":{\"outlinewidth\":0,\"ticks\":\"\"}},\"marker\":{\"colorbar\":{\"outlinewidth\":0,\"ticks\":\"\"}},\"type\":\"scatter3d\"}],\"scattercarpet\":[{\"marker\":{\"colorbar\":{\"outlinewidth\":0,\"ticks\":\"\"}},\"type\":\"scattercarpet\"}],\"scattergeo\":[{\"marker\":{\"colorbar\":{\"outlinewidth\":0,\"ticks\":\"\"}},\"type\":\"scattergeo\"}],\"scattergl\":[{\"marker\":{\"colorbar\":{\"outlinewidth\":0,\"ticks\":\"\"}},\"type\":\"scattergl\"}],\"scattermapbox\":[{\"marker\":{\"colorbar\":{\"outlinewidth\":0,\"ticks\":\"\"}},\"type\":\"scattermapbox\"}],\"scatterpolar\":[{\"marker\":{\"colorbar\":{\"outlinewidth\":0,\"ticks\":\"\"}},\"type\":\"scatterpolar\"}],\"scatterpolargl\":[{\"marker\":{\"colorbar\":{\"outlinewidth\":0,\"ticks\":\"\"}},\"type\":\"scatterpolargl\"}],\"scatterternary\":[{\"marker\":{\"colorbar\":{\"outlinewidth\":0,\"ticks\":\"\"}},\"type\":\"scatterternary\"}],\"surface\":[{\"colorbar\":{\"outlinewidth\":0,\"ticks\":\"\"},\"colorscale\":[[0.0,\"#0d0887\"],[0.1111111111111111,\"#46039f\"],[0.2222222222222222,\"#7201a8\"],[0.3333333333333333,\"#9c179e\"],[0.4444444444444444,\"#bd3786\"],[0.5555555555555556,\"#d8576b\"],[0.6666666666666666,\"#ed7953\"],[0.7777777777777778,\"#fb9f3a\"],[0.8888888888888888,\"#fdca26\"],[1.0,\"#f0f921\"]],\"type\":\"surface\"}],\"table\":[{\"cells\":{\"fill\":{\"color\":\"#EBF0F8\"},\"line\":{\"color\":\"white\"}},\"header\":{\"fill\":{\"color\":\"#C8D4E3\"},\"line\":{\"color\":\"white\"}},\"type\":\"table\"}]},\"layout\":{\"annotationdefaults\":{\"arrowcolor\":\"#2a3f5f\",\"arrowhead\":0,\"arrowwidth\":1},\"autotypenumbers\":\"strict\",\"coloraxis\":{\"colorbar\":{\"outlinewidth\":0,\"ticks\":\"\"}},\"colorscale\":{\"diverging\":[[0,\"#8e0152\"],[0.1,\"#c51b7d\"],[0.2,\"#de77ae\"],[0.3,\"#f1b6da\"],[0.4,\"#fde0ef\"],[0.5,\"#f7f7f7\"],[0.6,\"#e6f5d0\"],[0.7,\"#b8e186\"],[0.8,\"#7fbc41\"],[0.9,\"#4d9221\"],[1,\"#276419\"]],\"sequential\":[[0.0,\"#0d0887\"],[0.1111111111111111,\"#46039f\"],[0.2222222222222222,\"#7201a8\"],[0.3333333333333333,\"#9c179e\"],[0.4444444444444444,\"#bd3786\"],[0.5555555555555556,\"#d8576b\"],[0.6666666666666666,\"#ed7953\"],[0.7777777777777778,\"#fb9f3a\"],[0.8888888888888888,\"#fdca26\"],[1.0,\"#f0f921\"]],\"sequentialminus\":[[0.0,\"#0d0887\"],[0.1111111111111111,\"#46039f\"],[0.2222222222222222,\"#7201a8\"],[0.3333333333333333,\"#9c179e\"],[0.4444444444444444,\"#bd3786\"],[0.5555555555555556,\"#d8576b\"],[0.6666666666666666,\"#ed7953\"],[0.7777777777777778,\"#fb9f3a\"],[0.8888888888888888,\"#fdca26\"],[1.0,\"#f0f921\"]]},\"colorway\":[\"#636efa\",\"#EF553B\",\"#00cc96\",\"#ab63fa\",\"#FFA15A\",\"#19d3f3\",\"#FF6692\",\"#B6E880\",\"#FF97FF\",\"#FECB52\"],\"font\":{\"color\":\"#2a3f5f\"},\"geo\":{\"bgcolor\":\"white\",\"lakecolor\":\"white\",\"landcolor\":\"#E5ECF6\",\"showlakes\":true,\"showland\":true,\"subunitcolor\":\"white\"},\"hoverlabel\":{\"align\":\"left\"},\"hovermode\":\"closest\",\"mapbox\":{\"style\":\"light\"},\"paper_bgcolor\":\"white\",\"plot_bgcolor\":\"#E5ECF6\",\"polar\":{\"angularaxis\":{\"gridcolor\":\"white\",\"linecolor\":\"white\",\"ticks\":\"\"},\"bgcolor\":\"#E5ECF6\",\"radialaxis\":{\"gridcolor\":\"white\",\"linecolor\":\"white\",\"ticks\":\"\"}},\"scene\":{\"xaxis\":{\"backgroundcolor\":\"#E5ECF6\",\"gridcolor\":\"white\",\"gridwidth\":2,\"linecolor\":\"white\",\"showbackground\":true,\"ticks\":\"\",\"zerolinecolor\":\"white\"},\"yaxis\":{\"backgroundcolor\":\"#E5ECF6\",\"gridcolor\":\"white\",\"gridwidth\":2,\"linecolor\":\"white\",\"showbackground\":true,\"ticks\":\"\",\"zerolinecolor\":\"white\"},\"zaxis\":{\"backgroundcolor\":\"#E5ECF6\",\"gridcolor\":\"white\",\"gridwidth\":2,\"linecolor\":\"white\",\"showbackground\":true,\"ticks\":\"\",\"zerolinecolor\":\"white\"}},\"shapedefaults\":{\"line\":{\"color\":\"#2a3f5f\"}},\"ternary\":{\"aaxis\":{\"gridcolor\":\"white\",\"linecolor\":\"white\",\"ticks\":\"\"},\"baxis\":{\"gridcolor\":\"white\",\"linecolor\":\"white\",\"ticks\":\"\"},\"bgcolor\":\"#E5ECF6\",\"caxis\":{\"gridcolor\":\"white\",\"linecolor\":\"white\",\"ticks\":\"\"}},\"title\":{\"x\":0.05},\"xaxis\":{\"automargin\":true,\"gridcolor\":\"white\",\"linecolor\":\"white\",\"ticks\":\"\",\"title\":{\"standoff\":15},\"zerolinecolor\":\"white\",\"zerolinewidth\":2},\"yaxis\":{\"automargin\":true,\"gridcolor\":\"white\",\"linecolor\":\"white\",\"ticks\":\"\",\"title\":{\"standoff\":15},\"zerolinecolor\":\"white\",\"zerolinewidth\":2}}},\"xaxis\":{\"anchor\":\"y\",\"domain\":[0.0,0.1],\"showgrid\":false,\"visible\":false},\"yaxis\":{\"anchor\":\"x\",\"domain\":[0.9166666666666667,1.0],\"showgrid\":false,\"visible\":false},\"xaxis2\":{\"anchor\":\"y2\",\"domain\":[0.1,0.2],\"showgrid\":false,\"visible\":false},\"yaxis2\":{\"anchor\":\"x2\",\"domain\":[0.9166666666666667,1.0],\"showgrid\":false,\"visible\":false},\"xaxis3\":{\"anchor\":\"y3\",\"domain\":[0.2,0.8],\"showgrid\":false,\"visible\":false},\"yaxis3\":{\"anchor\":\"x3\",\"domain\":[0.9166666666666667,1.0],\"showgrid\":false,\"visible\":false},\"xaxis4\":{\"anchor\":\"y4\",\"domain\":[0.8,0.9],\"showgrid\":false,\"visible\":false},\"yaxis4\":{\"anchor\":\"x4\",\"domain\":[0.9166666666666667,1.0],\"showgrid\":false,\"visible\":false},\"xaxis5\":{\"anchor\":\"y5\",\"domain\":[0.9,1.0],\"showgrid\":false,\"visible\":false},\"yaxis5\":{\"anchor\":\"x5\",\"domain\":[0.9166666666666667,1.0],\"showgrid\":false,\"visible\":false},\"xaxis6\":{\"anchor\":\"y6\",\"domain\":[0.0,0.1],\"showgrid\":false,\"visible\":false},\"yaxis6\":{\"anchor\":\"x6\",\"domain\":[0.8333333333333334,0.9166666666666667],\"showgrid\":false,\"visible\":false},\"xaxis7\":{\"anchor\":\"y7\",\"domain\":[0.1,0.2],\"showgrid\":false,\"visible\":false},\"yaxis7\":{\"anchor\":\"x7\",\"domain\":[0.8333333333333334,0.9166666666666667],\"showgrid\":false,\"visible\":false},\"xaxis8\":{\"anchor\":\"y8\",\"domain\":[0.2,0.8],\"showgrid\":false,\"visible\":false},\"yaxis8\":{\"anchor\":\"x8\",\"domain\":[0.8333333333333334,0.9166666666666667],\"showgrid\":false,\"visible\":false},\"xaxis9\":{\"anchor\":\"y9\",\"domain\":[0.8,0.9],\"showgrid\":false,\"visible\":false},\"yaxis9\":{\"anchor\":\"x9\",\"domain\":[0.8333333333333334,0.9166666666666667],\"showgrid\":false,\"visible\":false},\"xaxis10\":{\"anchor\":\"y10\",\"domain\":[0.9,1.0],\"showgrid\":false,\"visible\":false},\"yaxis10\":{\"anchor\":\"x10\",\"domain\":[0.8333333333333334,0.9166666666666667],\"showgrid\":false,\"visible\":false},\"xaxis11\":{\"anchor\":\"y11\",\"domain\":[0.0,0.1],\"showgrid\":false,\"visible\":false},\"yaxis11\":{\"anchor\":\"x11\",\"domain\":[0.75,0.8333333333333334],\"showgrid\":false,\"visible\":false},\"xaxis12\":{\"anchor\":\"y12\",\"domain\":[0.1,0.2],\"showgrid\":false,\"visible\":false},\"yaxis12\":{\"anchor\":\"x12\",\"domain\":[0.75,0.8333333333333334],\"showgrid\":false,\"visible\":false},\"xaxis13\":{\"anchor\":\"y13\",\"domain\":[0.2,0.8],\"showgrid\":false,\"visible\":false},\"yaxis13\":{\"anchor\":\"x13\",\"domain\":[0.75,0.8333333333333334],\"showgrid\":false,\"visible\":false},\"xaxis14\":{\"anchor\":\"y14\",\"domain\":[0.8,0.9],\"showgrid\":false,\"visible\":false},\"yaxis14\":{\"anchor\":\"x14\",\"domain\":[0.75,0.8333333333333334],\"showgrid\":false,\"visible\":false},\"xaxis15\":{\"anchor\":\"y15\",\"domain\":[0.9,1.0],\"showgrid\":false,\"visible\":false},\"yaxis15\":{\"anchor\":\"x15\",\"domain\":[0.75,0.8333333333333334],\"showgrid\":false,\"visible\":false},\"xaxis16\":{\"anchor\":\"y16\",\"domain\":[0.0,0.1],\"showgrid\":false,\"visible\":false},\"yaxis16\":{\"anchor\":\"x16\",\"domain\":[0.6666666666666666,0.75],\"showgrid\":false,\"visible\":false},\"xaxis17\":{\"anchor\":\"y17\",\"domain\":[0.1,0.2],\"showgrid\":false,\"visible\":false},\"yaxis17\":{\"anchor\":\"x17\",\"domain\":[0.6666666666666666,0.75],\"showgrid\":false,\"visible\":false},\"xaxis18\":{\"anchor\":\"y18\",\"domain\":[0.2,0.8],\"showgrid\":false,\"visible\":false},\"yaxis18\":{\"anchor\":\"x18\",\"domain\":[0.6666666666666666,0.75],\"showgrid\":false,\"visible\":false},\"xaxis19\":{\"anchor\":\"y19\",\"domain\":[0.8,0.9],\"showgrid\":false,\"visible\":false},\"yaxis19\":{\"anchor\":\"x19\",\"domain\":[0.6666666666666666,0.75],\"showgrid\":false,\"visible\":false},\"xaxis20\":{\"anchor\":\"y20\",\"domain\":[0.9,1.0],\"showgrid\":false,\"visible\":false},\"yaxis20\":{\"anchor\":\"x20\",\"domain\":[0.6666666666666666,0.75],\"showgrid\":false,\"visible\":false},\"xaxis21\":{\"anchor\":\"y21\",\"domain\":[0.0,0.1],\"showgrid\":false,\"visible\":false},\"yaxis21\":{\"anchor\":\"x21\",\"domain\":[0.5833333333333333,0.6666666666666666],\"showgrid\":false,\"visible\":false},\"xaxis22\":{\"anchor\":\"y22\",\"domain\":[0.1,0.2],\"showgrid\":false,\"visible\":false},\"yaxis22\":{\"anchor\":\"x22\",\"domain\":[0.5833333333333333,0.6666666666666666],\"showgrid\":false,\"visible\":false},\"xaxis23\":{\"anchor\":\"y23\",\"domain\":[0.2,0.8],\"showgrid\":false,\"visible\":false},\"yaxis23\":{\"anchor\":\"x23\",\"domain\":[0.5833333333333333,0.6666666666666666],\"showgrid\":false,\"visible\":false},\"xaxis24\":{\"anchor\":\"y24\",\"domain\":[0.8,0.9],\"showgrid\":false,\"visible\":false},\"yaxis24\":{\"anchor\":\"x24\",\"domain\":[0.5833333333333333,0.6666666666666666],\"showgrid\":false,\"visible\":false},\"xaxis25\":{\"anchor\":\"y25\",\"domain\":[0.9,1.0],\"showgrid\":false,\"visible\":false},\"yaxis25\":{\"anchor\":\"x25\",\"domain\":[0.5833333333333333,0.6666666666666666],\"showgrid\":false,\"visible\":false},\"xaxis26\":{\"anchor\":\"y26\",\"domain\":[0.0,0.1],\"showgrid\":false,\"visible\":false},\"yaxis26\":{\"anchor\":\"x26\",\"domain\":[0.49999999999999994,0.5833333333333333],\"showgrid\":false,\"visible\":false},\"xaxis27\":{\"anchor\":\"y27\",\"domain\":[0.1,0.2],\"showgrid\":false,\"visible\":false},\"yaxis27\":{\"anchor\":\"x27\",\"domain\":[0.49999999999999994,0.5833333333333333],\"showgrid\":false,\"visible\":false},\"xaxis28\":{\"anchor\":\"y28\",\"domain\":[0.2,0.8],\"showgrid\":false,\"visible\":false},\"yaxis28\":{\"anchor\":\"x28\",\"domain\":[0.49999999999999994,0.5833333333333333],\"showgrid\":false,\"visible\":false},\"xaxis29\":{\"anchor\":\"y29\",\"domain\":[0.8,0.9],\"showgrid\":false,\"visible\":false},\"yaxis29\":{\"anchor\":\"x29\",\"domain\":[0.49999999999999994,0.5833333333333333],\"showgrid\":false,\"visible\":false},\"xaxis30\":{\"anchor\":\"y30\",\"domain\":[0.9,1.0],\"showgrid\":false,\"visible\":false},\"yaxis30\":{\"anchor\":\"x30\",\"domain\":[0.49999999999999994,0.5833333333333333],\"showgrid\":false,\"visible\":false},\"xaxis31\":{\"anchor\":\"y31\",\"domain\":[0.0,0.1],\"showgrid\":false,\"visible\":false},\"yaxis31\":{\"anchor\":\"x31\",\"domain\":[0.41666666666666663,0.49999999999999994],\"showgrid\":false,\"visible\":false},\"xaxis32\":{\"anchor\":\"y32\",\"domain\":[0.1,0.2],\"showgrid\":false,\"visible\":false},\"yaxis32\":{\"anchor\":\"x32\",\"domain\":[0.41666666666666663,0.49999999999999994],\"showgrid\":false,\"visible\":false},\"xaxis33\":{\"anchor\":\"y33\",\"domain\":[0.2,0.8],\"showgrid\":false,\"visible\":false},\"yaxis33\":{\"anchor\":\"x33\",\"domain\":[0.41666666666666663,0.49999999999999994],\"showgrid\":false,\"visible\":false},\"xaxis34\":{\"anchor\":\"y34\",\"domain\":[0.8,0.9],\"showgrid\":false,\"visible\":false},\"yaxis34\":{\"anchor\":\"x34\",\"domain\":[0.41666666666666663,0.49999999999999994],\"showgrid\":false,\"visible\":false},\"xaxis35\":{\"anchor\":\"y35\",\"domain\":[0.9,1.0],\"showgrid\":false,\"visible\":false},\"yaxis35\":{\"anchor\":\"x35\",\"domain\":[0.41666666666666663,0.49999999999999994],\"showgrid\":false,\"visible\":false},\"xaxis36\":{\"anchor\":\"y36\",\"domain\":[0.0,0.1],\"showgrid\":false,\"visible\":false},\"yaxis36\":{\"anchor\":\"x36\",\"domain\":[0.3333333333333333,0.41666666666666663],\"showgrid\":false,\"visible\":false},\"xaxis37\":{\"anchor\":\"y37\",\"domain\":[0.1,0.2],\"showgrid\":false,\"visible\":false},\"yaxis37\":{\"anchor\":\"x37\",\"domain\":[0.3333333333333333,0.41666666666666663],\"showgrid\":false,\"visible\":false},\"xaxis38\":{\"anchor\":\"y38\",\"domain\":[0.2,0.8],\"showgrid\":false,\"visible\":false},\"yaxis38\":{\"anchor\":\"x38\",\"domain\":[0.3333333333333333,0.41666666666666663],\"showgrid\":false,\"visible\":false},\"xaxis39\":{\"anchor\":\"y39\",\"domain\":[0.8,0.9],\"showgrid\":false,\"visible\":false},\"yaxis39\":{\"anchor\":\"x39\",\"domain\":[0.3333333333333333,0.41666666666666663],\"showgrid\":false,\"visible\":false},\"xaxis40\":{\"anchor\":\"y40\",\"domain\":[0.9,1.0],\"showgrid\":false,\"visible\":false},\"yaxis40\":{\"anchor\":\"x40\",\"domain\":[0.3333333333333333,0.41666666666666663],\"showgrid\":false,\"visible\":false},\"xaxis41\":{\"anchor\":\"y41\",\"domain\":[0.0,0.1],\"showgrid\":false,\"visible\":false},\"yaxis41\":{\"anchor\":\"x41\",\"domain\":[0.25,0.3333333333333333],\"showgrid\":false,\"visible\":false},\"xaxis42\":{\"anchor\":\"y42\",\"domain\":[0.1,0.2],\"showgrid\":false,\"visible\":false},\"yaxis42\":{\"anchor\":\"x42\",\"domain\":[0.25,0.3333333333333333],\"showgrid\":false,\"visible\":false},\"xaxis43\":{\"anchor\":\"y43\",\"domain\":[0.2,0.8],\"showgrid\":false,\"visible\":false},\"yaxis43\":{\"anchor\":\"x43\",\"domain\":[0.25,0.3333333333333333],\"showgrid\":false,\"visible\":false},\"xaxis44\":{\"anchor\":\"y44\",\"domain\":[0.8,0.9],\"showgrid\":false,\"visible\":false},\"yaxis44\":{\"anchor\":\"x44\",\"domain\":[0.25,0.3333333333333333],\"showgrid\":false,\"visible\":false},\"xaxis45\":{\"anchor\":\"y45\",\"domain\":[0.9,1.0],\"showgrid\":false,\"visible\":false},\"yaxis45\":{\"anchor\":\"x45\",\"domain\":[0.25,0.3333333333333333],\"showgrid\":false,\"visible\":false},\"xaxis46\":{\"anchor\":\"y46\",\"domain\":[0.0,0.1],\"showgrid\":false,\"visible\":false},\"yaxis46\":{\"anchor\":\"x46\",\"domain\":[0.16666666666666666,0.25],\"showgrid\":false,\"visible\":false},\"xaxis47\":{\"anchor\":\"y47\",\"domain\":[0.1,0.2],\"showgrid\":false,\"visible\":false},\"yaxis47\":{\"anchor\":\"x47\",\"domain\":[0.16666666666666666,0.25],\"showgrid\":false,\"visible\":false},\"xaxis48\":{\"anchor\":\"y48\",\"domain\":[0.2,0.8],\"showgrid\":false,\"visible\":false},\"yaxis48\":{\"anchor\":\"x48\",\"domain\":[0.16666666666666666,0.25],\"showgrid\":false,\"visible\":false},\"xaxis49\":{\"anchor\":\"y49\",\"domain\":[0.8,0.9],\"showgrid\":false,\"visible\":false},\"yaxis49\":{\"anchor\":\"x49\",\"domain\":[0.16666666666666666,0.25],\"showgrid\":false,\"visible\":false},\"xaxis50\":{\"anchor\":\"y50\",\"domain\":[0.9,1.0],\"showgrid\":false,\"visible\":false},\"yaxis50\":{\"anchor\":\"x50\",\"domain\":[0.16666666666666666,0.25],\"showgrid\":false,\"visible\":false},\"xaxis51\":{\"anchor\":\"y51\",\"domain\":[0.0,0.1],\"showgrid\":false,\"visible\":false},\"yaxis51\":{\"anchor\":\"x51\",\"domain\":[0.08333333333333333,0.16666666666666666],\"showgrid\":false,\"visible\":false},\"xaxis52\":{\"anchor\":\"y52\",\"domain\":[0.1,0.2],\"showgrid\":false,\"visible\":false},\"yaxis52\":{\"anchor\":\"x52\",\"domain\":[0.08333333333333333,0.16666666666666666],\"showgrid\":false,\"visible\":false},\"xaxis53\":{\"anchor\":\"y53\",\"domain\":[0.2,0.8],\"showgrid\":false,\"visible\":false},\"yaxis53\":{\"anchor\":\"x53\",\"domain\":[0.08333333333333333,0.16666666666666666],\"showgrid\":false,\"visible\":false},\"xaxis54\":{\"anchor\":\"y54\",\"domain\":[0.8,0.9],\"showgrid\":false,\"visible\":false},\"yaxis54\":{\"anchor\":\"x54\",\"domain\":[0.08333333333333333,0.16666666666666666],\"showgrid\":false,\"visible\":false},\"xaxis55\":{\"anchor\":\"y55\",\"domain\":[0.9,1.0],\"showgrid\":false,\"visible\":false},\"yaxis55\":{\"anchor\":\"x55\",\"domain\":[0.08333333333333333,0.16666666666666666],\"showgrid\":false,\"visible\":false},\"xaxis56\":{\"anchor\":\"y56\",\"domain\":[0.0,0.1],\"showgrid\":false,\"visible\":false},\"yaxis56\":{\"anchor\":\"x56\",\"domain\":[0.0,0.08333333333333333],\"showgrid\":false,\"visible\":false},\"xaxis57\":{\"anchor\":\"y57\",\"domain\":[0.1,0.2],\"showgrid\":false,\"visible\":false},\"yaxis57\":{\"anchor\":\"x57\",\"domain\":[0.0,0.08333333333333333],\"showgrid\":false,\"visible\":false},\"xaxis58\":{\"anchor\":\"y58\",\"domain\":[0.2,0.8],\"showgrid\":false,\"visible\":false},\"yaxis58\":{\"anchor\":\"x58\",\"domain\":[0.0,0.08333333333333333],\"showgrid\":false,\"visible\":false},\"xaxis59\":{\"anchor\":\"y59\",\"domain\":[0.8,0.9],\"showgrid\":false,\"visible\":false},\"yaxis59\":{\"anchor\":\"x59\",\"domain\":[0.0,0.08333333333333333],\"showgrid\":false,\"visible\":false},\"xaxis60\":{\"anchor\":\"y60\",\"domain\":[0.9,1.0],\"showgrid\":false,\"visible\":false},\"yaxis60\":{\"anchor\":\"x60\",\"domain\":[0.0,0.08333333333333333],\"showgrid\":false,\"visible\":false},\"annotations\":[{\"font\":{\"size\":16},\"showarrow\":false,\"text\":\"id\",\"x\":0.05,\"xanchor\":\"center\",\"xref\":\"paper\",\"y\":1.0,\"yanchor\":\"bottom\",\"yref\":\"paper\"},{\"font\":{\"size\":16},\"showarrow\":false,\"text\":\"series\",\"x\":0.15000000000000002,\"xanchor\":\"center\",\"xref\":\"paper\",\"y\":1.0,\"yanchor\":\"bottom\",\"yref\":\"paper\"},{\"font\":{\"size\":16},\"showarrow\":false,\"text\":\"result\",\"x\":0.5,\"xanchor\":\"center\",\"xref\":\"paper\",\"y\":1.0,\"yanchor\":\"bottom\",\"yref\":\"paper\"},{\"font\":{\"size\":16},\"showarrow\":false,\"text\":\"line\",\"x\":0.8500000000000001,\"xanchor\":\"center\",\"xref\":\"paper\",\"y\":1.0,\"yanchor\":\"bottom\",\"yref\":\"paper\"},{\"font\":{\"size\":16},\"showarrow\":false,\"text\":\"symbol\",\"x\":0.95,\"xanchor\":\"center\",\"xref\":\"paper\",\"y\":1.0,\"yanchor\":\"bottom\",\"yref\":\"paper\"}],\"margin\":{\"l\":0,\"r\":0,\"b\":0,\"t\":20,\"pad\":0},\"autosize\":false,\"width\":800,\"height\":200,\"showlegend\":false},                        {\"responsive\": true}                    ).then(function(){\n",
       "                            \n",
       "var gd = document.getElementById('588518e7-809a-40b7-8ff9-06ffe2c12dd5');\n",
       "var x = new MutationObserver(function (mutations, observer) {{\n",
       "        var display = window.getComputedStyle(gd).display;\n",
       "        if (!display || display === 'none') {{\n",
       "            console.log([gd, 'removed!']);\n",
       "            Plotly.purge(gd);\n",
       "            observer.disconnect();\n",
       "        }}\n",
       "}});\n",
       "\n",
       "// Listen for the removal of the full notebook cells\n",
       "var notebookContainer = gd.closest('#notebook-container');\n",
       "if (notebookContainer) {{\n",
       "    x.observe(notebookContainer, {childList: true});\n",
       "}}\n",
       "\n",
       "// Listen for the clearing of the current output cell\n",
       "var outputEl = gd.closest('.output');\n",
       "if (outputEl) {{\n",
       "    x.observe(outputEl, {childList: true});\n",
       "}}\n",
       "\n",
       "                        })                };                });            </script>        </div>"
      ]
     },
     "metadata": {},
     "output_type": "display_data"
    }
   ],
   "source": [
    "def CreateLegendFig(plotseries_in):\n",
    "    \n",
    "    rows_list = list(range(1,6))\n",
    "    cols_list = list(range(1,6))\n",
    "    \n",
    "    table_rows=12\n",
    "    table_cols=5\n",
    "    \n",
    "    fig_legend_out = make_subplots(\n",
    "    column_titles = ['id','series','result','line', 'symbol'],\n",
    "    rows=table_rows,\n",
    "    cols=table_cols,\n",
    "    horizontal_spacing = 0.00,\n",
    "    vertical_spacing = 0.00,\n",
    "    #subplot_titles=(titles)\n",
    "    column_widths=[0.1,0.1,0.6,0.1, 0.1],)\n",
    "    \n",
    "    \n",
    "    #fig_legend_out.update_xaxes(matches=None, showticklabels=True)\n",
    "    #fig_legend_out.update_yaxes(matches=None, showticklabels=True)\n",
    "    \n",
    "    #fig_legend_out.update_layout(xaxis_range=[1,2])\n",
    "\n",
    "    \n",
    "    fig_legend_out.update_layout(\n",
    "        autosize=False,\n",
    "        width=800,\n",
    "        height=200,\n",
    "        margin=dict(\n",
    "            l=0,\n",
    "            r=0,\n",
    "            b=0,\n",
    "            t=20,\n",
    "            pad=0\n",
    "        ),\n",
    "        #paper_bgcolor=\"LightSteelBlue\",\n",
    "    )\n",
    "    \n",
    "    rowloop = 0\n",
    "\n",
    "    for index, row in plotseries_in.iterrows():\n",
    "        #print(row['c1'], row['c2'])\n",
    "        rowloop +=1\n",
    "        for c in cols_list: #enumerate here to get access to i\n",
    "            # STEP 2, notice position of arguments!\n",
    "            table_column_names = ['id','series','data_label','line','symbol']\n",
    "            scatter_mode_list = ['text-number','text-number','text-text','lines','markers']\n",
    "            current_column = table_column_names[c-1]\n",
    "            current_mode = scatter_mode_list[c-1]\n",
    "            if current_mode =='lines':\n",
    "                fig_legend_out.add_trace(go.Scatter(x=[1,2],\n",
    "                                         y=[1,1],\n",
    "                                         mode=current_mode,\n",
    "                                         #text=row[current_column],\n",
    "                                         line=dict(width=4,dash=row['line'],color=row['color']),\n",
    "                                        ),\n",
    "                              row=rowloop, #index for the subplot, i+1 because plotly starts with 1\n",
    "                              col=c)\n",
    "            if current_mode =='text-text':\n",
    "                fig_legend_out.add_trace(go.Scatter(x=[1,2], \n",
    "                                         textposition='middle right',\n",
    "                                         y=[1,1],\n",
    "                                         mode='text',\n",
    "                                         text=[row[current_column],'']\n",
    "                                        ),\n",
    "                              row=rowloop, #index for the subplot, i+1 because plotly starts with 1\n",
    "                              col=c)\n",
    "            \n",
    "            if current_mode =='text-number':\n",
    "                fig_legend_out.add_trace(go.Scatter(x=[1], \n",
    "                                         textposition='middle right',\n",
    "                                         y=[1],\n",
    "                                         mode='text',\n",
    "                                         text=row[current_column]\n",
    "                                        ),\n",
    "                              row=rowloop, #index for the subplot, i+1 because plotly starts with 1\n",
    "                              col=c)\n",
    "            if current_mode =='markers':\n",
    "                fig_legend_out.add_trace(go.Scatter(x=[1], \n",
    "                                        y=[1],\n",
    "                                        mode=current_mode,\n",
    "                                        #text=row[current_column],\n",
    "                                        marker_symbol=row['symbol'],\n",
    "                                        marker=dict(\n",
    "                                        size=10,\n",
    "                                        color=row['color'],#set color equal to a variable\n",
    "                                        colorscale='Viridis', # one of plotly colorscales\n",
    "                                        showscale=False,\n",
    "                                        )\n",
    "                                        ),\n",
    "                              row=rowloop, #index for the subplot, i+1 because plotly starts with 1\n",
    "                              col=c)\n",
    "                \n",
    "            fig_legend_out.update_xaxes(showgrid=False)\n",
    "            fig_legend_out.update_yaxes(showgrid=False)\n",
    "            #legend\n",
    "            fig_legend_out.update_layout(showlegend=False)\n",
    "            #x axis\n",
    "            fig_legend_out.update_xaxes(visible=False)\n",
    "            #y axis    \n",
    "            fig_legend_out.update_yaxes(visible=False)\n",
    "\n",
    "    return fig_legend_out\n",
    "\n",
    "fig_legend = CreateLegendFig(plotseries_default)\n",
    "fig_legend"
   ]
  },
  {
   "cell_type": "code",
   "execution_count": 100,
   "id": "8a02dacc",
   "metadata": {},
   "outputs": [
    {
     "data": {
      "application/vnd.plotly.v1+json": {
       "config": {
        "plotlyServerURL": "https://plot.ly"
       },
       "data": [
        {
         "legendgroup": "1",
         "legendgrouptitle": {
          "text": "1"
         },
         "line": {
          "color": "black",
          "dash": "solid",
          "width": 4
         },
         "marker": {
          "color": "black",
          "showscale": false,
          "size": 10,
          "symbol": "square"
         },
         "mode": "lines+markers",
         "name": "0",
         "type": "scatter",
         "x": [
          60,
          70,
          160,
          320,
          630,
          640,
          640,
          630,
          225,
          215,
          315,
          470,
          650,
          660,
          660,
          650,
          470,
          315,
          215,
          100,
          60,
          60
         ],
         "y": [
          400.0000000000001,
          400.0000000000001,
          55.00000000000001,
          25.000000000000007,
          32.00000000000001,
          30.000000000000007,
          12.000000000000002,
          10.000000000000002,
          9.000000000000002,
          7.000000000000001,
          0.7000000000000002,
          0.21000000000000002,
          0.07,
          0.06800000000000002,
          0.020000000000000004,
          0.020000000000000004,
          0.06000000000000001,
          0.10000000000000002,
          0.30000000000000004,
          0.8000000000000002,
          1.0000000000000002,
          400.0000000000001
         ]
        },
        {
         "legendgroup": "262",
         "legendgrouptitle": {
          "text": "262"
         },
         "line": {
          "color": "black",
          "dash": "solid",
          "width": 4
         },
         "marker": {
          "color": "black",
          "showscale": false,
          "size": 10,
          "symbol": "square"
         },
         "mode": "lines+markers",
         "name": "0",
         "type": "scatter",
         "x": [
          47.80092,
          56.29927,
          63.73175,
          74.34409,
          83.89171,
          93.43817,
          102.9894,
          106.1822,
          107.2551,
          107.2669,
          105.1553,
          104.1048,
          106.2377,
          111.5539,
          121.1061,
          130.655,
          140.1992,
          146.56,
          155.0441,
          162.4648,
          170.9478,
          181.5577,
          191.1101,
          200.6613,
          211.2712,
          219.7555,
          229.3007,
          237.786,
          248.3972,
          259.0083,
          269.6194,
          280.2318,
          290.8429,
          300.3893,
          309.9358,
          318.4212,
          325.8419,
          333.2614,
          337.4976,
          340.6703,
          345.9664,
          353.3859,
          360.8055,
          368.2261,
          374.5846,
          384.1299,
          391.5506,
          398.9713,
          406.3932,
          414.875,
          424.4215,
          433.968,
          438.2029,
          443.4991,
          447.7341,
          453.0314,
          462.5779,
          471.0691,
          478.5052,
          486.9987,
          496.5464,
          505.0283,
          509.2632,
          508.1915,
          503.9364,
          512.4218,
          521.9706,
          532.5806,
          543.1906,
          552.7393,
          563.3505,
          573.9616,
          584.5703,
          594.1192,
          604.7291,
          615.3402,
          624.8891,
          635.5002,
          646.1114,
          656.7225,
          667.3324,
          676.88,
          686.4289,
          697.0376,
          706.5853,
          716.1329,
          726.7429,
          736.2917,
          745.8394,
          756.4469,
          764.9335,
          773.4154,
          777.6503,
          770.2166,
          761.7219,
          752.1706,
          742.6195,
          732.0083,
          721.3972,
          710.7861,
          700.175,
          689.5626,
          678.9504,
          669.3992,
          658.7868,
          649.2357,
          638.6233,
          628.0122,
          617.4011,
          607.8499,
          597.2376,
          587.6841,
          578.1317,
          567.5194,
          556.9083,
          547.357,
          536.7448,
          527.1924,
          519.7587,
          518.687,
          526.1065,
          534.5894,
          544.1359,
          551.5579,
          555.7917,
          553.6612,
          545.1652,
          535.614,
          524.9993,
          516.5058,
          515.4352,
          521.7924,
          531.3412,
          541.9524,
          552.5635,
          562.1146,
          570.6095,
          579.1054,
          588.6578,
          589.7072,
          588.6354,
          591.8081,
          600.2934,
          609.8411,
          616.2019,
          618.3123,
          615.1195,
          620.4157,
          627.8364,
          637.384,
          647.9951,
          658.6051,
          668.1515,
          676.6334,
          682.9953,
          690.416,
          697.8355,
          705.2562,
          713.7392,
          723.2869,
          732.8357,
          743.4456,
          754.0568,
          764.6679,
          775.2802,
          785.8901,
          794.3768,
          804.9843,
          814.5332,
          823.0184,
          832.5638,
          838.9222,
          832.5461,
          825.1135,
          816.6199,
          807.0664,
          798.5716,
          790.0744,
          782.6419,
          773.0884,
          763.536,
          753.9824,
          744.4301,
          733.8177,
          724.2654,
          714.713,
          705.1595,
          695.6059,
          686.0523,
          677.5599,
          668.0064,
          659.5104,
          651.0167,
          640.4056,
          630.8568,
          620.2468,
          609.637,
          599.0258,
          589.477,
          578.8658,
          568.2547,
          557.6448,
          548.0972,
          539.6118,
          529.0018,
          518.3907,
          507.7795,
          497.1684,
          486.5573,
          475.9462,
          465.335,
          455.7874,
          446.241,
          437.7556,
          427.148,
          417.5992,
          406.9892,
          398.5027,
          390.0185,
          379.4085,
          368.7974,
          360.3039,
          351.809,
          359.2309,
          365.5905,
          371.9489,
          376.184,
          379.3567,
          382.5294,
          383.5799,
          378.2661,
          369.7724,
          359.1613,
          350.6759,
          342.1917,
          333.7111,
          329.4749,
          324.1788,
          314.6335,
          306.1493,
          298.7275,
          289.1834,
          281.7626,
          275.4043,
          274.3525,
          278.6076,
          284.9814,
          291.3528,
          295.596,
          286.0473,
          275.4373,
          268.0166,
          260.5947,
          254.2339,
          245.7497,
          236.2045,
          228.7813,
          220.2984,
          212.8789,
          205.4593,
          198.0398,
          193.806,
          190.6321,
          186.3971,
          181.0997,
          174.7413,
          167.323,
          162.0257,
          156.7284,
          151.4311,
          145.0727,
          137.6531,
          130.2337,
          122.8142,
          121.7637,
          128.1397,
          136.6334,
          144.0683,
          147.2622,
          145.1506,
          141.9767,
          135.6195,
          128.1987,
          119.7146,
          111.2316,
          102.7474,
          94.26444,
          87.90366,
          79.41944,
          70.93532,
          62.45224,
          57.15619,
          56.10684,
          56.11868,
          56.13043,
          56.14227,
          55.09177,
          54.04251,
          54.05426,
          54.0661,
          54.07785,
          51.96749,
          49.85589,
          47.74305
         ],
         "y": [
          300.07000000000005,
          346.4000000000001,
          372.2100000000001,
          379.02000000000004,
          365.7300000000001,
          346.64000000000004,
          352.9800000000001,
          407.44000000000005,
          487.4600000000001,
          583.1800000000001,
          685.2700000000001,
          805.2500000000002,
          946.3000000000002,
          1112.1000000000001,
          1152.9,
          1132.6000000000004,
          1035.7,
          947.0100000000002,
          881.6200000000001,
          791.8100000000002,
          724.0300000000001,
          711.3100000000002,
          737.4100000000001,
          750.8900000000002,
          737.6900000000002,
          686.7500000000001,
          639.3400000000001,
          605.95,
          606.07,
          606.2000000000002,
          606.3200000000002,
          617.4100000000001,
          617.5300000000001,
          585.3000000000002,
          554.7500000000001,
          525.7800000000001,
          472.2200000000001,
          416.5800000000001,
          367.4800000000001,
          312.74000000000007,
          270.98,
          239.05000000000004,
          210.88000000000002,
          189.4,
          167.08000000000004,
          155.55000000000004,
          139.70000000000002,
          125.47000000000003,
          114.73000000000002,
          103.04000000000002,
          97.66600000000003,
          92.56900000000002,
          80.20600000000002,
          69.49600000000001,
          60.21500000000001,
          53.11800000000001,
          50.345000000000006,
          52.19200000000001,
          59.17900000000001,
          63.589000000000006,
          61.360000000000014,
          55.11100000000001,
          47.751000000000005,
          40.63400000000001,
          34.57600000000001,
          32.771,
          32.19500000000001,
          31.629000000000005,
          31.073000000000008,
          30.526000000000003,
          30.532000000000004,
          30.538000000000007,
          29.469000000000005,
          28.950000000000006,
          28.441000000000006,
          28.447000000000006,
          27.947000000000003,
          27.952000000000005,
          27.958000000000002,
          27.963000000000005,
          27.47200000000001,
          26.509000000000007,
          26.043000000000003,
          25.130000000000003,
          24.250000000000004,
          23.400000000000006,
          22.988000000000007,
          22.584000000000007,
          21.792000000000005,
          20.655000000000005,
          19.931000000000004,
          17.901000000000003,
          15.510000000000003,
          14.179000000000004,
          12.961000000000002,
          12.728000000000002,
          12.500000000000004,
          12.497000000000002,
          12.495000000000003,
          12.492000000000003,
          12.490000000000002,
          12.265000000000002,
          12.045000000000002,
          11.829000000000002,
          11.616000000000003,
          11.408000000000001,
          11.203000000000001,
          11.201000000000002,
          11.199000000000002,
          10.998000000000003,
          10.8,
          10.233000000000002,
          9.870400000000002,
          9.693100000000001,
          9.691200000000002,
          9.517300000000002,
          9.346300000000001,
          9.015500000000001,
          8.2413,
          7.0131000000000006,
          6.186800000000002,
          5.657200000000001,
          5.361900000000001,
          4.902800000000001,
          4.172600000000001,
          3.680300000000001,
          3.3044000000000002,
          3.2451000000000003,
          3.0746000000000007,
          2.8613000000000004,
          2.4790000000000005,
          2.148,
          2.1102000000000003,
          2.1106000000000003,
          2.111,
          2.1496000000000004,
          2.3516000000000004,
          2.6191000000000004,
          2.7152000000000007,
          2.2696000000000005,
          1.9313000000000005,
          1.6436000000000004,
          1.5578000000000003,
          1.5032,
          1.3745000000000003,
          1.1489000000000003,
          0.9953500000000002,
          0.8624300000000001,
          0.7745800000000002,
          0.74743,
          0.7475800000000001,
          0.7344500000000002,
          0.6961100000000001,
          0.62521,
          0.5820200000000001,
          0.5227300000000001,
          0.46114000000000005,
          0.4141700000000001,
          0.3787100000000001,
          0.36544000000000004,
          0.35901000000000005,
          0.35270000000000007,
          0.3527700000000001,
          0.35284000000000004,
          0.35930000000000006,
          0.35298000000000007,
          0.34060000000000007,
          0.32283000000000006,
          0.31715000000000004,
          0.30059,
          0.27984000000000003,
          0.24686000000000002,
          0.21385000000000004,
          0.19903,
          0.18522000000000002,
          0.17549,
          0.16042000000000003,
          0.14148000000000002,
          0.13167,
          0.12475000000000001,
          0.12033000000000003,
          0.11401000000000001,
          0.10998000000000002,
          0.10800000000000001,
          0.10418000000000001,
          0.10049000000000002,
          0.09521100000000002,
          0.09020900000000001,
          0.08547000000000002,
          0.08098100000000001,
          0.07672700000000002,
          0.06889000000000002,
          0.064113,
          0.06410000000000002,
          0.06524800000000001,
          0.06641500000000002,
          0.06760300000000001,
          0.06758900000000001,
          0.06880000000000001,
          0.06878600000000001,
          0.06877200000000001,
          0.07000300000000001,
          0.07254500000000001,
          0.07654200000000001,
          0.07791100000000001,
          0.07789600000000002,
          0.07788,
          0.07786500000000002,
          0.07784900000000002,
          0.07783400000000001,
          0.07781800000000001,
          0.08064500000000001,
          0.08508600000000002,
          0.08977300000000002,
          0.09471500000000001,
          0.09641100000000001,
          0.09813600000000003,
          0.10170000000000001,
          0.10925000000000001,
          0.11120000000000002,
          0.11118000000000001,
          0.10347000000000002,
          0.09458100000000001,
          0.08648400000000002,
          0.07767200000000002,
          0.06851900000000001,
          0.05936900000000001,
          0.05052500000000001,
          0.04299800000000001,
          0.036592000000000006,
          0.032273,
          0.030034000000000005,
          0.030029000000000004,
          0.031683,
          0.03403300000000001,
          0.03857800000000001,
          0.04373300000000001,
          0.05047300000000001,
          0.054215000000000006,
          0.058237000000000004,
          0.06369000000000001,
          0.06965100000000002,
          0.07755000000000002,
          0.08791000000000002,
          0.10147000000000002,
          0.11924000000000003,
          0.13280000000000003,
          0.14269,
          0.14017000000000002,
          0.14268000000000003,
          0.14523000000000003,
          0.1617,
          0.17684000000000002,
          0.19340000000000004,
          0.20775000000000005,
          0.22316000000000003,
          0.23972000000000002,
          0.26216000000000006,
          0.29717000000000005,
          0.33686000000000005,
          0.38185,
          0.4486800000000001,
          0.5178500000000001,
          0.5976700000000001,
          0.6775200000000001,
          0.7680200000000001,
          0.8863500000000001,
          1.0048000000000001,
          1.1390000000000002,
          1.2912000000000001,
          1.4637000000000002,
          1.6592000000000002,
          1.8808000000000005,
          2.1319000000000004,
          2.5052000000000003,
          2.8919000000000006,
          3.1075000000000004,
          3.4609000000000005,
          4.067100000000001,
          4.779100000000001,
          5.5159,
          6.365800000000001,
          7.087800000000001,
          7.613600000000001,
          8.326300000000002,
          8.943900000000003,
          9.781200000000002,
          10.697000000000001,
          11.491000000000001,
          12.343000000000002,
          13.499,
          15.579000000000002,
          18.638,
          22.297000000000004,
          26.676000000000005,
          31.914000000000005,
          37.50200000000001,
          44.86500000000001,
          53.675000000000004,
          64.215,
          76.82500000000002,
          91.90700000000001,
          108.00000000000001,
          124.65000000000002
         ]
        },
        {
         "legendgroup": "262",
         "legendgrouptitle": {
          "text": "262"
         },
         "line": {
          "color": "black",
          "dash": "solid",
          "width": 4
         },
         "marker": {
          "color": "black",
          "showscale": false,
          "size": 10,
          "symbol": "square"
         },
         "mode": "lines+markers",
         "name": "1",
         "type": "scatter",
         "x": [
          115.8124,
          122.1885,
          126.4424,
          127.5153,
          127.5272,
          127.5389,
          127.5508,
          124.3781,
          119.0795,
          109.5331,
          101.0383,
          94.6622,
          91.46944,
          89.3354,
          87.2025,
          87.19075,
          89.30235,
          96.72185,
          104.1437
         ],
         "y": [
          1379.2000000000003,
          1592.1000000000001,
          1837.8000000000004,
          2198.7000000000003,
          2630.4000000000005,
          3147.0000000000005,
          3764.900000000001,
          4423.900000000001,
          4925.9000000000015,
          5197.200000000001,
          4750.800000000001,
          4115.500000000001,
          3565.4000000000005,
          2980.0000000000005,
          2535.9000000000005,
          2119.6000000000004,
          1803.9000000000003,
          1591.3000000000004,
          1455.1000000000004
         ]
        },
        {
         "legendgroup": "262",
         "legendgrouptitle": {
          "text": "262"
         },
         "line": {
          "color": "black",
          "dash": "solid",
          "width": 4
         },
         "marker": {
          "color": "black",
          "showscale": false,
          "size": 10,
          "symbol": "square"
         },
         "mode": "lines+markers",
         "name": "2",
         "type": "scatter",
         "x": [
          45.3328,
          47.4657,
          51.7208,
          53.8536,
          57.0464,
          60.2321,
          63.4084,
          67.6422,
          71.876,
          73.9888,
          77.1615,
          80.3342,
          81.3847,
          81.3729,
          83.4833,
          86.6572,
          88.7688,
          89.8182,
          89.8063,
          89.7946,
          89.7827,
          89.7709,
          89.7591,
          90.8096,
          91.8589,
          91.8471,
          92.8976,
          92.8858,
          92.874,
          93.9233,
          93.9115,
          93.8997,
          89.6446,
          83.2697,
          75.8371,
          66.2836,
          55.6737,
          48.253,
          45.0732
         ],
         "y": [
          1.5696,
          1.8445000000000003,
          2.1676000000000006,
          2.5473000000000003,
          2.9403000000000006,
          3.0479000000000003,
          2.7372000000000005,
          2.3295000000000003,
          1.9825000000000002,
          1.7177000000000002,
          1.4618000000000002,
          1.2440000000000002,
          1.0587000000000002,
          0.8849200000000002,
          0.7397,
          0.6409000000000001,
          0.5454200000000001,
          0.4559100000000001,
          0.38108000000000003,
          0.3185300000000001,
          0.26625000000000004,
          0.22254000000000004,
          0.18602000000000005,
          0.15830000000000002,
          0.13232000000000002,
          0.11060000000000002,
          0.09412300000000001,
          0.07867400000000001,
          0.06576100000000001,
          0.054968,
          0.04594600000000001,
          0.03840400000000001,
          0.03267900000000001,
          0.028821000000000006,
          0.026823000000000007,
          0.025414000000000003,
          0.025868000000000006,
          0.028802000000000005,
          0.030392000000000006
         ]
        },
        {
         "legendgroup": "262",
         "legendgrouptitle": {
          "text": "262"
         },
         "line": {
          "color": "black",
          "dash": "solid",
          "width": 4
         },
         "marker": {
          "color": "black",
          "showscale": false,
          "size": 10,
          "symbol": "square"
         },
         "mode": "lines+markers",
         "name": "3",
         "type": "scatter",
         "x": [
          855.6911,
          853.5806,
          847.2223,
          837.6745,
          827.0634,
          817.5099,
          809.0175,
          802.6426,
          800.5132
         ],
         "y": [
          0.010337,
          0.012366,
          0.014018000000000003,
          0.014528000000000001,
          0.014525000000000001,
          0.013762000000000002,
          0.013039000000000002,
          0.011500000000000002,
          0.010326000000000002
         ]
        },
        {
         "legendgroup": "262",
         "legendgrouptitle": {
          "text": "262"
         },
         "line": {
          "color": "black",
          "dash": "solid",
          "width": 4
         },
         "marker": {
          "color": "black",
          "showscale": false,
          "size": 10,
          "symbol": "square"
         },
         "mode": "lines+markers",
         "name": "4",
         "type": "scatter",
         "x": [
          838.7829,
          834.5479,
          825.0026,
          815.4538,
          804.8427,
          795.2903,
          787.8566,
          785.7238,
          793.1457,
          803.7544,
          814.3655,
          823.9143,
          831.3445
         ],
         "y": [
          0.029762000000000007,
          0.034349000000000005,
          0.036896000000000005,
          0.03755700000000001,
          0.03755000000000001,
          0.03622,
          0.03311000000000001,
          0.028175000000000006,
          0.025763000000000005,
          0.024860000000000004,
          0.024865000000000005,
          0.024428000000000005,
          0.025323000000000005
         ]
        },
        {
         "legendgroup": "262",
         "legendgrouptitle": {
          "text": "262"
         },
         "line": {
          "color": "black",
          "dash": "solid",
          "width": 4
         },
         "marker": {
          "color": "black",
          "showscale": false,
          "size": 10,
          "symbol": "square"
         },
         "mode": "lines+markers",
         "name": "5",
         "type": "scatter",
         "x": [
          368.6688,
          368.6806,
          361.2623,
          352.7781,
          342.1681,
          332.617,
          323.0634,
          313.511,
          305.0174,
          296.5203,
          292.2663,
          295.4403,
          302.8597,
          312.4074,
          321.9551,
          331.5039,
          342.115,
          351.6685,
          360.1622,
          364.4102
         ],
         "y": [
          0.015751,
          0.018844000000000003,
          0.021747000000000002,
          0.023360000000000006,
          0.023778000000000007,
          0.023351000000000004,
          0.022124,
          0.021341000000000006,
          0.019861000000000004,
          0.017516000000000004,
          0.015174000000000002,
          0.013147000000000002,
          0.011598000000000002,
          0.011192000000000002,
          0.010800000000000002,
          0.010610000000000001,
          0.010612000000000002,
          0.011200000000000002,
          0.012035000000000002,
          0.012701
         ]
        },
        {
         "legendgroup": "262",
         "legendgrouptitle": {
          "text": "262"
         },
         "line": {
          "color": "black",
          "dash": "solid",
          "width": 4
         },
         "marker": {
          "color": "black",
          "showscale": false,
          "size": 10,
          "symbol": "square"
         },
         "mode": "lines+markers",
         "name": "6",
         "type": "scatter",
         "x": [
          277.478,
          270.0573,
          262.6367,
          257.3405,
          250.9821,
          244.6236,
          238.2641,
          230.8434,
          223.4204,
          213.8727,
          203.2604,
          194.7644,
          191.5728,
          191.5634,
          196.8583,
          204.2779,
          211.6985,
          216.997,
          223.3554,
          228.6527,
          233.95,
          240.3084,
          248.7902,
          258.3379,
          267.8902,
          275.3263,
          278.5202,
          279.5861
         ],
         "y": [
          0.04215100000000001,
          0.04693200000000001,
          0.052255,
          0.060308000000000014,
          0.06836400000000001,
          0.07749600000000001,
          0.08628700000000002,
          0.096074,
          0.10320000000000001,
          0.10695000000000002,
          0.10503000000000001,
          0.09430300000000001,
          0.08317500000000001,
          0.07206100000000001,
          0.06132900000000001,
          0.05410300000000001,
          0.04859200000000001,
          0.043640000000000005,
          0.038498000000000004,
          0.033961000000000005,
          0.029958000000000002,
          0.026428000000000004,
          0.023736000000000004,
          0.022904000000000004,
          0.023745000000000006,
          0.026924000000000003,
          0.03164000000000001,
          0.03399300000000001
         ]
        },
        {
         "legendgroup": "262",
         "legendgrouptitle": {
          "text": "262"
         },
         "line": {
          "color": "black",
          "dash": "solid",
          "width": 4
         },
         "marker": {
          "color": "black",
          "showscale": false,
          "size": 10,
          "symbol": "square"
         },
         "mode": "lines+markers",
         "name": "7",
         "type": "scatter",
         "x": [
          175.7022,
          167.2192,
          156.6045,
          153.4128,
          155.5244,
          162.944,
          171.4305,
          180.9829,
          184.1768
         ],
         "y": [
          0.16732000000000002,
          0.18298000000000003,
          0.17336000000000004,
          0.15290000000000004,
          0.13012,
          0.11479000000000002,
          0.11077000000000001,
          0.11483000000000002,
          0.13495000000000004
         ]
        },
        {
         "legendgroup": "262",
         "legendgrouptitle": {
          "text": "262"
         },
         "line": {
          "color": "black",
          "dash": "solid",
          "width": 4
         },
         "marker": {
          "color": "black",
          "showscale": false,
          "size": 10,
          "symbol": "square"
         },
         "mode": "lines+markers",
         "name": "8",
         "type": "scatter",
         "x": [
          138.6057,
          127.9946,
          124.8077,
          130.1062,
          45.00936,
          142.8419,
          142.8454
         ],
         "y": [
          0.31882000000000005,
          0.31876000000000004,
          0.30205000000000004,
          0.27127000000000007,
          0.25253000000000003,
          0.28124000000000005,
          0.29678000000000004
         ]
        }
       ],
       "layout": {
        "template": {
         "data": {
          "bar": [
           {
            "error_x": {
             "color": "#2a3f5f"
            },
            "error_y": {
             "color": "#2a3f5f"
            },
            "marker": {
             "line": {
              "color": "#E5ECF6",
              "width": 0.5
             },
             "pattern": {
              "fillmode": "overlay",
              "size": 10,
              "solidity": 0.2
             }
            },
            "type": "bar"
           }
          ],
          "barpolar": [
           {
            "marker": {
             "line": {
              "color": "#E5ECF6",
              "width": 0.5
             },
             "pattern": {
              "fillmode": "overlay",
              "size": 10,
              "solidity": 0.2
             }
            },
            "type": "barpolar"
           }
          ],
          "carpet": [
           {
            "aaxis": {
             "endlinecolor": "#2a3f5f",
             "gridcolor": "white",
             "linecolor": "white",
             "minorgridcolor": "white",
             "startlinecolor": "#2a3f5f"
            },
            "baxis": {
             "endlinecolor": "#2a3f5f",
             "gridcolor": "white",
             "linecolor": "white",
             "minorgridcolor": "white",
             "startlinecolor": "#2a3f5f"
            },
            "type": "carpet"
           }
          ],
          "choropleth": [
           {
            "colorbar": {
             "outlinewidth": 0,
             "ticks": ""
            },
            "type": "choropleth"
           }
          ],
          "contour": [
           {
            "colorbar": {
             "outlinewidth": 0,
             "ticks": ""
            },
            "colorscale": [
             [
              0,
              "#0d0887"
             ],
             [
              0.1111111111111111,
              "#46039f"
             ],
             [
              0.2222222222222222,
              "#7201a8"
             ],
             [
              0.3333333333333333,
              "#9c179e"
             ],
             [
              0.4444444444444444,
              "#bd3786"
             ],
             [
              0.5555555555555556,
              "#d8576b"
             ],
             [
              0.6666666666666666,
              "#ed7953"
             ],
             [
              0.7777777777777778,
              "#fb9f3a"
             ],
             [
              0.8888888888888888,
              "#fdca26"
             ],
             [
              1,
              "#f0f921"
             ]
            ],
            "type": "contour"
           }
          ],
          "contourcarpet": [
           {
            "colorbar": {
             "outlinewidth": 0,
             "ticks": ""
            },
            "type": "contourcarpet"
           }
          ],
          "heatmap": [
           {
            "colorbar": {
             "outlinewidth": 0,
             "ticks": ""
            },
            "colorscale": [
             [
              0,
              "#0d0887"
             ],
             [
              0.1111111111111111,
              "#46039f"
             ],
             [
              0.2222222222222222,
              "#7201a8"
             ],
             [
              0.3333333333333333,
              "#9c179e"
             ],
             [
              0.4444444444444444,
              "#bd3786"
             ],
             [
              0.5555555555555556,
              "#d8576b"
             ],
             [
              0.6666666666666666,
              "#ed7953"
             ],
             [
              0.7777777777777778,
              "#fb9f3a"
             ],
             [
              0.8888888888888888,
              "#fdca26"
             ],
             [
              1,
              "#f0f921"
             ]
            ],
            "type": "heatmap"
           }
          ],
          "heatmapgl": [
           {
            "colorbar": {
             "outlinewidth": 0,
             "ticks": ""
            },
            "colorscale": [
             [
              0,
              "#0d0887"
             ],
             [
              0.1111111111111111,
              "#46039f"
             ],
             [
              0.2222222222222222,
              "#7201a8"
             ],
             [
              0.3333333333333333,
              "#9c179e"
             ],
             [
              0.4444444444444444,
              "#bd3786"
             ],
             [
              0.5555555555555556,
              "#d8576b"
             ],
             [
              0.6666666666666666,
              "#ed7953"
             ],
             [
              0.7777777777777778,
              "#fb9f3a"
             ],
             [
              0.8888888888888888,
              "#fdca26"
             ],
             [
              1,
              "#f0f921"
             ]
            ],
            "type": "heatmapgl"
           }
          ],
          "histogram": [
           {
            "marker": {
             "pattern": {
              "fillmode": "overlay",
              "size": 10,
              "solidity": 0.2
             }
            },
            "type": "histogram"
           }
          ],
          "histogram2d": [
           {
            "colorbar": {
             "outlinewidth": 0,
             "ticks": ""
            },
            "colorscale": [
             [
              0,
              "#0d0887"
             ],
             [
              0.1111111111111111,
              "#46039f"
             ],
             [
              0.2222222222222222,
              "#7201a8"
             ],
             [
              0.3333333333333333,
              "#9c179e"
             ],
             [
              0.4444444444444444,
              "#bd3786"
             ],
             [
              0.5555555555555556,
              "#d8576b"
             ],
             [
              0.6666666666666666,
              "#ed7953"
             ],
             [
              0.7777777777777778,
              "#fb9f3a"
             ],
             [
              0.8888888888888888,
              "#fdca26"
             ],
             [
              1,
              "#f0f921"
             ]
            ],
            "type": "histogram2d"
           }
          ],
          "histogram2dcontour": [
           {
            "colorbar": {
             "outlinewidth": 0,
             "ticks": ""
            },
            "colorscale": [
             [
              0,
              "#0d0887"
             ],
             [
              0.1111111111111111,
              "#46039f"
             ],
             [
              0.2222222222222222,
              "#7201a8"
             ],
             [
              0.3333333333333333,
              "#9c179e"
             ],
             [
              0.4444444444444444,
              "#bd3786"
             ],
             [
              0.5555555555555556,
              "#d8576b"
             ],
             [
              0.6666666666666666,
              "#ed7953"
             ],
             [
              0.7777777777777778,
              "#fb9f3a"
             ],
             [
              0.8888888888888888,
              "#fdca26"
             ],
             [
              1,
              "#f0f921"
             ]
            ],
            "type": "histogram2dcontour"
           }
          ],
          "mesh3d": [
           {
            "colorbar": {
             "outlinewidth": 0,
             "ticks": ""
            },
            "type": "mesh3d"
           }
          ],
          "parcoords": [
           {
            "line": {
             "colorbar": {
              "outlinewidth": 0,
              "ticks": ""
             }
            },
            "type": "parcoords"
           }
          ],
          "pie": [
           {
            "automargin": true,
            "type": "pie"
           }
          ],
          "scatter": [
           {
            "marker": {
             "colorbar": {
              "outlinewidth": 0,
              "ticks": ""
             }
            },
            "type": "scatter"
           }
          ],
          "scatter3d": [
           {
            "line": {
             "colorbar": {
              "outlinewidth": 0,
              "ticks": ""
             }
            },
            "marker": {
             "colorbar": {
              "outlinewidth": 0,
              "ticks": ""
             }
            },
            "type": "scatter3d"
           }
          ],
          "scattercarpet": [
           {
            "marker": {
             "colorbar": {
              "outlinewidth": 0,
              "ticks": ""
             }
            },
            "type": "scattercarpet"
           }
          ],
          "scattergeo": [
           {
            "marker": {
             "colorbar": {
              "outlinewidth": 0,
              "ticks": ""
             }
            },
            "type": "scattergeo"
           }
          ],
          "scattergl": [
           {
            "marker": {
             "colorbar": {
              "outlinewidth": 0,
              "ticks": ""
             }
            },
            "type": "scattergl"
           }
          ],
          "scattermapbox": [
           {
            "marker": {
             "colorbar": {
              "outlinewidth": 0,
              "ticks": ""
             }
            },
            "type": "scattermapbox"
           }
          ],
          "scatterpolar": [
           {
            "marker": {
             "colorbar": {
              "outlinewidth": 0,
              "ticks": ""
             }
            },
            "type": "scatterpolar"
           }
          ],
          "scatterpolargl": [
           {
            "marker": {
             "colorbar": {
              "outlinewidth": 0,
              "ticks": ""
             }
            },
            "type": "scatterpolargl"
           }
          ],
          "scatterternary": [
           {
            "marker": {
             "colorbar": {
              "outlinewidth": 0,
              "ticks": ""
             }
            },
            "type": "scatterternary"
           }
          ],
          "surface": [
           {
            "colorbar": {
             "outlinewidth": 0,
             "ticks": ""
            },
            "colorscale": [
             [
              0,
              "#0d0887"
             ],
             [
              0.1111111111111111,
              "#46039f"
             ],
             [
              0.2222222222222222,
              "#7201a8"
             ],
             [
              0.3333333333333333,
              "#9c179e"
             ],
             [
              0.4444444444444444,
              "#bd3786"
             ],
             [
              0.5555555555555556,
              "#d8576b"
             ],
             [
              0.6666666666666666,
              "#ed7953"
             ],
             [
              0.7777777777777778,
              "#fb9f3a"
             ],
             [
              0.8888888888888888,
              "#fdca26"
             ],
             [
              1,
              "#f0f921"
             ]
            ],
            "type": "surface"
           }
          ],
          "table": [
           {
            "cells": {
             "fill": {
              "color": "#EBF0F8"
             },
             "line": {
              "color": "white"
             }
            },
            "header": {
             "fill": {
              "color": "#C8D4E3"
             },
             "line": {
              "color": "white"
             }
            },
            "type": "table"
           }
          ]
         },
         "layout": {
          "annotationdefaults": {
           "arrowcolor": "#2a3f5f",
           "arrowhead": 0,
           "arrowwidth": 1
          },
          "autotypenumbers": "strict",
          "coloraxis": {
           "colorbar": {
            "outlinewidth": 0,
            "ticks": ""
           }
          },
          "colorscale": {
           "diverging": [
            [
             0,
             "#8e0152"
            ],
            [
             0.1,
             "#c51b7d"
            ],
            [
             0.2,
             "#de77ae"
            ],
            [
             0.3,
             "#f1b6da"
            ],
            [
             0.4,
             "#fde0ef"
            ],
            [
             0.5,
             "#f7f7f7"
            ],
            [
             0.6,
             "#e6f5d0"
            ],
            [
             0.7,
             "#b8e186"
            ],
            [
             0.8,
             "#7fbc41"
            ],
            [
             0.9,
             "#4d9221"
            ],
            [
             1,
             "#276419"
            ]
           ],
           "sequential": [
            [
             0,
             "#0d0887"
            ],
            [
             0.1111111111111111,
             "#46039f"
            ],
            [
             0.2222222222222222,
             "#7201a8"
            ],
            [
             0.3333333333333333,
             "#9c179e"
            ],
            [
             0.4444444444444444,
             "#bd3786"
            ],
            [
             0.5555555555555556,
             "#d8576b"
            ],
            [
             0.6666666666666666,
             "#ed7953"
            ],
            [
             0.7777777777777778,
             "#fb9f3a"
            ],
            [
             0.8888888888888888,
             "#fdca26"
            ],
            [
             1,
             "#f0f921"
            ]
           ],
           "sequentialminus": [
            [
             0,
             "#0d0887"
            ],
            [
             0.1111111111111111,
             "#46039f"
            ],
            [
             0.2222222222222222,
             "#7201a8"
            ],
            [
             0.3333333333333333,
             "#9c179e"
            ],
            [
             0.4444444444444444,
             "#bd3786"
            ],
            [
             0.5555555555555556,
             "#d8576b"
            ],
            [
             0.6666666666666666,
             "#ed7953"
            ],
            [
             0.7777777777777778,
             "#fb9f3a"
            ],
            [
             0.8888888888888888,
             "#fdca26"
            ],
            [
             1,
             "#f0f921"
            ]
           ]
          },
          "colorway": [
           "#636efa",
           "#EF553B",
           "#00cc96",
           "#ab63fa",
           "#FFA15A",
           "#19d3f3",
           "#FF6692",
           "#B6E880",
           "#FF97FF",
           "#FECB52"
          ],
          "font": {
           "color": "#2a3f5f"
          },
          "geo": {
           "bgcolor": "white",
           "lakecolor": "white",
           "landcolor": "#E5ECF6",
           "showlakes": true,
           "showland": true,
           "subunitcolor": "white"
          },
          "hoverlabel": {
           "align": "left"
          },
          "hovermode": "closest",
          "mapbox": {
           "style": "light"
          },
          "paper_bgcolor": "white",
          "plot_bgcolor": "#E5ECF6",
          "polar": {
           "angularaxis": {
            "gridcolor": "white",
            "linecolor": "white",
            "ticks": ""
           },
           "bgcolor": "#E5ECF6",
           "radialaxis": {
            "gridcolor": "white",
            "linecolor": "white",
            "ticks": ""
           }
          },
          "scene": {
           "xaxis": {
            "backgroundcolor": "#E5ECF6",
            "gridcolor": "white",
            "gridwidth": 2,
            "linecolor": "white",
            "showbackground": true,
            "ticks": "",
            "zerolinecolor": "white"
           },
           "yaxis": {
            "backgroundcolor": "#E5ECF6",
            "gridcolor": "white",
            "gridwidth": 2,
            "linecolor": "white",
            "showbackground": true,
            "ticks": "",
            "zerolinecolor": "white"
           },
           "zaxis": {
            "backgroundcolor": "#E5ECF6",
            "gridcolor": "white",
            "gridwidth": 2,
            "linecolor": "white",
            "showbackground": true,
            "ticks": "",
            "zerolinecolor": "white"
           }
          },
          "shapedefaults": {
           "line": {
            "color": "#2a3f5f"
           }
          },
          "ternary": {
           "aaxis": {
            "gridcolor": "white",
            "linecolor": "white",
            "ticks": ""
           },
           "baxis": {
            "gridcolor": "white",
            "linecolor": "white",
            "ticks": ""
           },
           "bgcolor": "#E5ECF6",
           "caxis": {
            "gridcolor": "white",
            "linecolor": "white",
            "ticks": ""
           }
          },
          "title": {
           "x": 0.05
          },
          "xaxis": {
           "automargin": true,
           "gridcolor": "white",
           "linecolor": "white",
           "ticks": "",
           "title": {
            "standoff": 15
           },
           "zerolinecolor": "white",
           "zerolinewidth": 2
          },
          "yaxis": {
           "automargin": true,
           "gridcolor": "white",
           "linecolor": "white",
           "ticks": "",
           "title": {
            "standoff": 15
           },
           "zerolinecolor": "white",
           "zerolinewidth": 2
          }
         }
        }
       }
      },
      "text/html": [
       "<div>                            <div id=\"4d17506d-44ca-4662-8794-08c645359fa0\" class=\"plotly-graph-div\" style=\"height:525px; width:100%;\"></div>            <script type=\"text/javascript\">                require([\"plotly\"], function(Plotly) {                    window.PLOTLYENV=window.PLOTLYENV || {};                                    if (document.getElementById(\"4d17506d-44ca-4662-8794-08c645359fa0\")) {                    Plotly.newPlot(                        \"4d17506d-44ca-4662-8794-08c645359fa0\",                        [{\"legendgroup\":\"1\",\"legendgrouptitle\":{\"text\":\"1\"},\"line\":{\"color\":\"black\",\"dash\":\"solid\",\"width\":4},\"marker\":{\"color\":\"black\",\"showscale\":false,\"size\":10,\"symbol\":\"square\"},\"mode\":\"lines+markers\",\"name\":\"0\",\"x\":[60.0,70.0,160.0,320.0,630.0,640.0,640.0,630.0,225.0,215.0,315.0,470.0,650.0,660.0,660.0,650.0,470.0,315.0,215.0,100.0,60.0,60.0],\"y\":[400.0000000000001,400.0000000000001,55.00000000000001,25.000000000000007,32.00000000000001,30.000000000000007,12.000000000000002,10.000000000000002,9.000000000000002,7.000000000000001,0.7000000000000002,0.21000000000000002,0.07,0.06800000000000002,0.020000000000000004,0.020000000000000004,0.06000000000000001,0.10000000000000002,0.30000000000000004,0.8000000000000002,1.0000000000000002,400.0000000000001],\"type\":\"scatter\"},{\"legendgroup\":\"262\",\"legendgrouptitle\":{\"text\":\"262\"},\"line\":{\"color\":\"black\",\"dash\":\"solid\",\"width\":4},\"marker\":{\"color\":\"black\",\"showscale\":false,\"size\":10,\"symbol\":\"square\"},\"mode\":\"lines+markers\",\"name\":\"0\",\"x\":[47.80092,56.29927,63.73175,74.34409,83.89171,93.43817,102.9894,106.1822,107.2551,107.2669,105.1553,104.1048,106.2377,111.5539,121.1061,130.655,140.1992,146.56,155.0441,162.4648,170.9478,181.5577,191.1101,200.6613,211.2712,219.7555,229.3007,237.786,248.3972,259.0083,269.6194,280.2318,290.8429,300.3893,309.9358,318.4212,325.8419,333.2614,337.4976,340.6703,345.9664,353.3859,360.8055,368.2261,374.5846,384.1299,391.5506,398.9713,406.3932,414.875,424.4215,433.968,438.2029,443.4991,447.7341,453.0314,462.5779,471.0691,478.5052,486.9987,496.5464,505.0283,509.2632,508.1915,503.9364,512.4218,521.9706,532.5806,543.1906,552.7393,563.3505,573.9616,584.5703,594.1192,604.7291,615.3402,624.8891,635.5002,646.1114,656.7225,667.3324,676.88,686.4289,697.0376,706.5853,716.1329,726.7429,736.2917,745.8394,756.4469,764.9335,773.4154,777.6503,770.2166,761.7219,752.1706,742.6195,732.0083,721.3972,710.7861,700.175,689.5626,678.9504,669.3992,658.7868,649.2357,638.6233,628.0122,617.4011,607.8499,597.2376,587.6841,578.1317,567.5194,556.9083,547.357,536.7448,527.1924,519.7587,518.687,526.1065,534.5894,544.1359,551.5579,555.7917,553.6612,545.1652,535.614,524.9993,516.5058,515.4352,521.7924,531.3412,541.9524,552.5635,562.1146,570.6095,579.1054,588.6578,589.7072,588.6354,591.8081,600.2934,609.8411,616.2019,618.3123,615.1195,620.4157,627.8364,637.384,647.9951,658.6051,668.1515,676.6334,682.9953,690.416,697.8355,705.2562,713.7392,723.2869,732.8357,743.4456,754.0568,764.6679,775.2802,785.8901,794.3768,804.9843,814.5332,823.0184,832.5638,838.9222,832.5461,825.1135,816.6199,807.0664,798.5716,790.0744,782.6419,773.0884,763.536,753.9824,744.4301,733.8177,724.2654,714.713,705.1595,695.6059,686.0523,677.5599,668.0064,659.5104,651.0167,640.4056,630.8568,620.2468,609.637,599.0258,589.477,578.8658,568.2547,557.6448,548.0972,539.6118,529.0018,518.3907,507.7795,497.1684,486.5573,475.9462,465.335,455.7874,446.241,437.7556,427.148,417.5992,406.9892,398.5027,390.0185,379.4085,368.7974,360.3039,351.809,359.2309,365.5905,371.9489,376.184,379.3567,382.5294,383.5799,378.2661,369.7724,359.1613,350.6759,342.1917,333.7111,329.4749,324.1788,314.6335,306.1493,298.7275,289.1834,281.7626,275.4043,274.3525,278.6076,284.9814,291.3528,295.596,286.0473,275.4373,268.0166,260.5947,254.2339,245.7497,236.2045,228.7813,220.2984,212.8789,205.4593,198.0398,193.806,190.6321,186.3971,181.0997,174.7413,167.323,162.0257,156.7284,151.4311,145.0727,137.6531,130.2337,122.8142,121.7637,128.1397,136.6334,144.0683,147.2622,145.1506,141.9767,135.6195,128.1987,119.7146,111.2316,102.7474,94.26444,87.90366,79.41944,70.93532,62.45224,57.15619,56.10684,56.11868,56.13043,56.14227,55.09177,54.04251,54.05426,54.0661,54.07785,51.96749,49.85589,47.74305],\"y\":[300.07000000000005,346.4000000000001,372.2100000000001,379.02000000000004,365.7300000000001,346.64000000000004,352.9800000000001,407.44000000000005,487.4600000000001,583.1800000000001,685.2700000000001,805.2500000000002,946.3000000000002,1112.1000000000001,1152.9,1132.6000000000004,1035.7,947.0100000000002,881.6200000000001,791.8100000000002,724.0300000000001,711.3100000000002,737.4100000000001,750.8900000000002,737.6900000000002,686.7500000000001,639.3400000000001,605.95,606.07,606.2000000000002,606.3200000000002,617.4100000000001,617.5300000000001,585.3000000000002,554.7500000000001,525.7800000000001,472.2200000000001,416.5800000000001,367.4800000000001,312.74000000000007,270.98,239.05000000000004,210.88000000000002,189.4,167.08000000000004,155.55000000000004,139.70000000000002,125.47000000000003,114.73000000000002,103.04000000000002,97.66600000000003,92.56900000000002,80.20600000000002,69.49600000000001,60.21500000000001,53.11800000000001,50.345000000000006,52.19200000000001,59.17900000000001,63.589000000000006,61.360000000000014,55.11100000000001,47.751000000000005,40.63400000000001,34.57600000000001,32.771,32.19500000000001,31.629000000000005,31.073000000000008,30.526000000000003,30.532000000000004,30.538000000000007,29.469000000000005,28.950000000000006,28.441000000000006,28.447000000000006,27.947000000000003,27.952000000000005,27.958000000000002,27.963000000000005,27.47200000000001,26.509000000000007,26.043000000000003,25.130000000000003,24.250000000000004,23.400000000000006,22.988000000000007,22.584000000000007,21.792000000000005,20.655000000000005,19.931000000000004,17.901000000000003,15.510000000000003,14.179000000000004,12.961000000000002,12.728000000000002,12.500000000000004,12.497000000000002,12.495000000000003,12.492000000000003,12.490000000000002,12.265000000000002,12.045000000000002,11.829000000000002,11.616000000000003,11.408000000000001,11.203000000000001,11.201000000000002,11.199000000000002,10.998000000000003,10.8,10.233000000000002,9.870400000000002,9.693100000000001,9.691200000000002,9.517300000000002,9.346300000000001,9.015500000000001,8.2413,7.0131000000000006,6.186800000000002,5.657200000000001,5.361900000000001,4.902800000000001,4.172600000000001,3.680300000000001,3.3044000000000002,3.2451000000000003,3.0746000000000007,2.8613000000000004,2.4790000000000005,2.148,2.1102000000000003,2.1106000000000003,2.111,2.1496000000000004,2.3516000000000004,2.6191000000000004,2.7152000000000007,2.2696000000000005,1.9313000000000005,1.6436000000000004,1.5578000000000003,1.5032,1.3745000000000003,1.1489000000000003,0.9953500000000002,0.8624300000000001,0.7745800000000002,0.74743,0.7475800000000001,0.7344500000000002,0.6961100000000001,0.62521,0.5820200000000001,0.5227300000000001,0.46114000000000005,0.4141700000000001,0.3787100000000001,0.36544000000000004,0.35901000000000005,0.35270000000000007,0.3527700000000001,0.35284000000000004,0.35930000000000006,0.35298000000000007,0.34060000000000007,0.32283000000000006,0.31715000000000004,0.30059,0.27984000000000003,0.24686000000000002,0.21385000000000004,0.19903,0.18522000000000002,0.17549,0.16042000000000003,0.14148000000000002,0.13167,0.12475000000000001,0.12033000000000003,0.11401000000000001,0.10998000000000002,0.10800000000000001,0.10418000000000001,0.10049000000000002,0.09521100000000002,0.09020900000000001,0.08547000000000002,0.08098100000000001,0.07672700000000002,0.06889000000000002,0.064113,0.06410000000000002,0.06524800000000001,0.06641500000000002,0.06760300000000001,0.06758900000000001,0.06880000000000001,0.06878600000000001,0.06877200000000001,0.07000300000000001,0.07254500000000001,0.07654200000000001,0.07791100000000001,0.07789600000000002,0.07788,0.07786500000000002,0.07784900000000002,0.07783400000000001,0.07781800000000001,0.08064500000000001,0.08508600000000002,0.08977300000000002,0.09471500000000001,0.09641100000000001,0.09813600000000003,0.10170000000000001,0.10925000000000001,0.11120000000000002,0.11118000000000001,0.10347000000000002,0.09458100000000001,0.08648400000000002,0.07767200000000002,0.06851900000000001,0.05936900000000001,0.05052500000000001,0.04299800000000001,0.036592000000000006,0.032273,0.030034000000000005,0.030029000000000004,0.031683,0.03403300000000001,0.03857800000000001,0.04373300000000001,0.05047300000000001,0.054215000000000006,0.058237000000000004,0.06369000000000001,0.06965100000000002,0.07755000000000002,0.08791000000000002,0.10147000000000002,0.11924000000000003,0.13280000000000003,0.14269,0.14017000000000002,0.14268000000000003,0.14523000000000003,0.1617,0.17684000000000002,0.19340000000000004,0.20775000000000005,0.22316000000000003,0.23972000000000002,0.26216000000000006,0.29717000000000005,0.33686000000000005,0.38185,0.4486800000000001,0.5178500000000001,0.5976700000000001,0.6775200000000001,0.7680200000000001,0.8863500000000001,1.0048000000000001,1.1390000000000002,1.2912000000000001,1.4637000000000002,1.6592000000000002,1.8808000000000005,2.1319000000000004,2.5052000000000003,2.8919000000000006,3.1075000000000004,3.4609000000000005,4.067100000000001,4.779100000000001,5.5159,6.365800000000001,7.087800000000001,7.613600000000001,8.326300000000002,8.943900000000003,9.781200000000002,10.697000000000001,11.491000000000001,12.343000000000002,13.499,15.579000000000002,18.638,22.297000000000004,26.676000000000005,31.914000000000005,37.50200000000001,44.86500000000001,53.675000000000004,64.215,76.82500000000002,91.90700000000001,108.00000000000001,124.65000000000002],\"type\":\"scatter\"},{\"legendgroup\":\"262\",\"legendgrouptitle\":{\"text\":\"262\"},\"line\":{\"color\":\"black\",\"dash\":\"solid\",\"width\":4},\"marker\":{\"color\":\"black\",\"showscale\":false,\"size\":10,\"symbol\":\"square\"},\"mode\":\"lines+markers\",\"name\":\"1\",\"x\":[115.8124,122.1885,126.4424,127.5153,127.5272,127.5389,127.5508,124.3781,119.0795,109.5331,101.0383,94.6622,91.46944,89.3354,87.2025,87.19075,89.30235,96.72185,104.1437],\"y\":[1379.2000000000003,1592.1000000000001,1837.8000000000004,2198.7000000000003,2630.4000000000005,3147.0000000000005,3764.900000000001,4423.900000000001,4925.9000000000015,5197.200000000001,4750.800000000001,4115.500000000001,3565.4000000000005,2980.0000000000005,2535.9000000000005,2119.6000000000004,1803.9000000000003,1591.3000000000004,1455.1000000000004],\"type\":\"scatter\"},{\"legendgroup\":\"262\",\"legendgrouptitle\":{\"text\":\"262\"},\"line\":{\"color\":\"black\",\"dash\":\"solid\",\"width\":4},\"marker\":{\"color\":\"black\",\"showscale\":false,\"size\":10,\"symbol\":\"square\"},\"mode\":\"lines+markers\",\"name\":\"2\",\"x\":[45.3328,47.4657,51.7208,53.8536,57.0464,60.2321,63.4084,67.6422,71.876,73.9888,77.1615,80.3342,81.3847,81.3729,83.4833,86.6572,88.7688,89.8182,89.8063,89.7946,89.7827,89.7709,89.7591,90.8096,91.8589,91.8471,92.8976,92.8858,92.874,93.9233,93.9115,93.8997,89.6446,83.2697,75.8371,66.2836,55.6737,48.253,45.0732],\"y\":[1.5696,1.8445000000000003,2.1676000000000006,2.5473000000000003,2.9403000000000006,3.0479000000000003,2.7372000000000005,2.3295000000000003,1.9825000000000002,1.7177000000000002,1.4618000000000002,1.2440000000000002,1.0587000000000002,0.8849200000000002,0.7397,0.6409000000000001,0.5454200000000001,0.4559100000000001,0.38108000000000003,0.3185300000000001,0.26625000000000004,0.22254000000000004,0.18602000000000005,0.15830000000000002,0.13232000000000002,0.11060000000000002,0.09412300000000001,0.07867400000000001,0.06576100000000001,0.054968,0.04594600000000001,0.03840400000000001,0.03267900000000001,0.028821000000000006,0.026823000000000007,0.025414000000000003,0.025868000000000006,0.028802000000000005,0.030392000000000006],\"type\":\"scatter\"},{\"legendgroup\":\"262\",\"legendgrouptitle\":{\"text\":\"262\"},\"line\":{\"color\":\"black\",\"dash\":\"solid\",\"width\":4},\"marker\":{\"color\":\"black\",\"showscale\":false,\"size\":10,\"symbol\":\"square\"},\"mode\":\"lines+markers\",\"name\":\"3\",\"x\":[855.6911,853.5806,847.2223,837.6745,827.0634,817.5099,809.0175,802.6426,800.5132],\"y\":[0.010337,0.012366,0.014018000000000003,0.014528000000000001,0.014525000000000001,0.013762000000000002,0.013039000000000002,0.011500000000000002,0.010326000000000002],\"type\":\"scatter\"},{\"legendgroup\":\"262\",\"legendgrouptitle\":{\"text\":\"262\"},\"line\":{\"color\":\"black\",\"dash\":\"solid\",\"width\":4},\"marker\":{\"color\":\"black\",\"showscale\":false,\"size\":10,\"symbol\":\"square\"},\"mode\":\"lines+markers\",\"name\":\"4\",\"x\":[838.7829,834.5479,825.0026,815.4538,804.8427,795.2903,787.8566,785.7238,793.1457,803.7544,814.3655,823.9143,831.3445],\"y\":[0.029762000000000007,0.034349000000000005,0.036896000000000005,0.03755700000000001,0.03755000000000001,0.03622,0.03311000000000001,0.028175000000000006,0.025763000000000005,0.024860000000000004,0.024865000000000005,0.024428000000000005,0.025323000000000005],\"type\":\"scatter\"},{\"legendgroup\":\"262\",\"legendgrouptitle\":{\"text\":\"262\"},\"line\":{\"color\":\"black\",\"dash\":\"solid\",\"width\":4},\"marker\":{\"color\":\"black\",\"showscale\":false,\"size\":10,\"symbol\":\"square\"},\"mode\":\"lines+markers\",\"name\":\"5\",\"x\":[368.6688,368.6806,361.2623,352.7781,342.1681,332.617,323.0634,313.511,305.0174,296.5203,292.2663,295.4403,302.8597,312.4074,321.9551,331.5039,342.115,351.6685,360.1622,364.4102],\"y\":[0.015751,0.018844000000000003,0.021747000000000002,0.023360000000000006,0.023778000000000007,0.023351000000000004,0.022124,0.021341000000000006,0.019861000000000004,0.017516000000000004,0.015174000000000002,0.013147000000000002,0.011598000000000002,0.011192000000000002,0.010800000000000002,0.010610000000000001,0.010612000000000002,0.011200000000000002,0.012035000000000002,0.012701],\"type\":\"scatter\"},{\"legendgroup\":\"262\",\"legendgrouptitle\":{\"text\":\"262\"},\"line\":{\"color\":\"black\",\"dash\":\"solid\",\"width\":4},\"marker\":{\"color\":\"black\",\"showscale\":false,\"size\":10,\"symbol\":\"square\"},\"mode\":\"lines+markers\",\"name\":\"6\",\"x\":[277.478,270.0573,262.6367,257.3405,250.9821,244.6236,238.2641,230.8434,223.4204,213.8727,203.2604,194.7644,191.5728,191.5634,196.8583,204.2779,211.6985,216.997,223.3554,228.6527,233.95,240.3084,248.7902,258.3379,267.8902,275.3263,278.5202,279.5861],\"y\":[0.04215100000000001,0.04693200000000001,0.052255,0.060308000000000014,0.06836400000000001,0.07749600000000001,0.08628700000000002,0.096074,0.10320000000000001,0.10695000000000002,0.10503000000000001,0.09430300000000001,0.08317500000000001,0.07206100000000001,0.06132900000000001,0.05410300000000001,0.04859200000000001,0.043640000000000005,0.038498000000000004,0.033961000000000005,0.029958000000000002,0.026428000000000004,0.023736000000000004,0.022904000000000004,0.023745000000000006,0.026924000000000003,0.03164000000000001,0.03399300000000001],\"type\":\"scatter\"},{\"legendgroup\":\"262\",\"legendgrouptitle\":{\"text\":\"262\"},\"line\":{\"color\":\"black\",\"dash\":\"solid\",\"width\":4},\"marker\":{\"color\":\"black\",\"showscale\":false,\"size\":10,\"symbol\":\"square\"},\"mode\":\"lines+markers\",\"name\":\"7\",\"x\":[175.7022,167.2192,156.6045,153.4128,155.5244,162.944,171.4305,180.9829,184.1768],\"y\":[0.16732000000000002,0.18298000000000003,0.17336000000000004,0.15290000000000004,0.13012,0.11479000000000002,0.11077000000000001,0.11483000000000002,0.13495000000000004],\"type\":\"scatter\"},{\"legendgroup\":\"262\",\"legendgrouptitle\":{\"text\":\"262\"},\"line\":{\"color\":\"black\",\"dash\":\"solid\",\"width\":4},\"marker\":{\"color\":\"black\",\"showscale\":false,\"size\":10,\"symbol\":\"square\"},\"mode\":\"lines+markers\",\"name\":\"8\",\"x\":[138.6057,127.9946,124.8077,130.1062,45.00936,142.8419,142.8454],\"y\":[0.31882000000000005,0.31876000000000004,0.30205000000000004,0.27127000000000007,0.25253000000000003,0.28124000000000005,0.29678000000000004],\"type\":\"scatter\"}],                        {\"template\":{\"data\":{\"bar\":[{\"error_x\":{\"color\":\"#2a3f5f\"},\"error_y\":{\"color\":\"#2a3f5f\"},\"marker\":{\"line\":{\"color\":\"#E5ECF6\",\"width\":0.5},\"pattern\":{\"fillmode\":\"overlay\",\"size\":10,\"solidity\":0.2}},\"type\":\"bar\"}],\"barpolar\":[{\"marker\":{\"line\":{\"color\":\"#E5ECF6\",\"width\":0.5},\"pattern\":{\"fillmode\":\"overlay\",\"size\":10,\"solidity\":0.2}},\"type\":\"barpolar\"}],\"carpet\":[{\"aaxis\":{\"endlinecolor\":\"#2a3f5f\",\"gridcolor\":\"white\",\"linecolor\":\"white\",\"minorgridcolor\":\"white\",\"startlinecolor\":\"#2a3f5f\"},\"baxis\":{\"endlinecolor\":\"#2a3f5f\",\"gridcolor\":\"white\",\"linecolor\":\"white\",\"minorgridcolor\":\"white\",\"startlinecolor\":\"#2a3f5f\"},\"type\":\"carpet\"}],\"choropleth\":[{\"colorbar\":{\"outlinewidth\":0,\"ticks\":\"\"},\"type\":\"choropleth\"}],\"contour\":[{\"colorbar\":{\"outlinewidth\":0,\"ticks\":\"\"},\"colorscale\":[[0.0,\"#0d0887\"],[0.1111111111111111,\"#46039f\"],[0.2222222222222222,\"#7201a8\"],[0.3333333333333333,\"#9c179e\"],[0.4444444444444444,\"#bd3786\"],[0.5555555555555556,\"#d8576b\"],[0.6666666666666666,\"#ed7953\"],[0.7777777777777778,\"#fb9f3a\"],[0.8888888888888888,\"#fdca26\"],[1.0,\"#f0f921\"]],\"type\":\"contour\"}],\"contourcarpet\":[{\"colorbar\":{\"outlinewidth\":0,\"ticks\":\"\"},\"type\":\"contourcarpet\"}],\"heatmap\":[{\"colorbar\":{\"outlinewidth\":0,\"ticks\":\"\"},\"colorscale\":[[0.0,\"#0d0887\"],[0.1111111111111111,\"#46039f\"],[0.2222222222222222,\"#7201a8\"],[0.3333333333333333,\"#9c179e\"],[0.4444444444444444,\"#bd3786\"],[0.5555555555555556,\"#d8576b\"],[0.6666666666666666,\"#ed7953\"],[0.7777777777777778,\"#fb9f3a\"],[0.8888888888888888,\"#fdca26\"],[1.0,\"#f0f921\"]],\"type\":\"heatmap\"}],\"heatmapgl\":[{\"colorbar\":{\"outlinewidth\":0,\"ticks\":\"\"},\"colorscale\":[[0.0,\"#0d0887\"],[0.1111111111111111,\"#46039f\"],[0.2222222222222222,\"#7201a8\"],[0.3333333333333333,\"#9c179e\"],[0.4444444444444444,\"#bd3786\"],[0.5555555555555556,\"#d8576b\"],[0.6666666666666666,\"#ed7953\"],[0.7777777777777778,\"#fb9f3a\"],[0.8888888888888888,\"#fdca26\"],[1.0,\"#f0f921\"]],\"type\":\"heatmapgl\"}],\"histogram\":[{\"marker\":{\"pattern\":{\"fillmode\":\"overlay\",\"size\":10,\"solidity\":0.2}},\"type\":\"histogram\"}],\"histogram2d\":[{\"colorbar\":{\"outlinewidth\":0,\"ticks\":\"\"},\"colorscale\":[[0.0,\"#0d0887\"],[0.1111111111111111,\"#46039f\"],[0.2222222222222222,\"#7201a8\"],[0.3333333333333333,\"#9c179e\"],[0.4444444444444444,\"#bd3786\"],[0.5555555555555556,\"#d8576b\"],[0.6666666666666666,\"#ed7953\"],[0.7777777777777778,\"#fb9f3a\"],[0.8888888888888888,\"#fdca26\"],[1.0,\"#f0f921\"]],\"type\":\"histogram2d\"}],\"histogram2dcontour\":[{\"colorbar\":{\"outlinewidth\":0,\"ticks\":\"\"},\"colorscale\":[[0.0,\"#0d0887\"],[0.1111111111111111,\"#46039f\"],[0.2222222222222222,\"#7201a8\"],[0.3333333333333333,\"#9c179e\"],[0.4444444444444444,\"#bd3786\"],[0.5555555555555556,\"#d8576b\"],[0.6666666666666666,\"#ed7953\"],[0.7777777777777778,\"#fb9f3a\"],[0.8888888888888888,\"#fdca26\"],[1.0,\"#f0f921\"]],\"type\":\"histogram2dcontour\"}],\"mesh3d\":[{\"colorbar\":{\"outlinewidth\":0,\"ticks\":\"\"},\"type\":\"mesh3d\"}],\"parcoords\":[{\"line\":{\"colorbar\":{\"outlinewidth\":0,\"ticks\":\"\"}},\"type\":\"parcoords\"}],\"pie\":[{\"automargin\":true,\"type\":\"pie\"}],\"scatter\":[{\"marker\":{\"colorbar\":{\"outlinewidth\":0,\"ticks\":\"\"}},\"type\":\"scatter\"}],\"scatter3d\":[{\"line\":{\"colorbar\":{\"outlinewidth\":0,\"ticks\":\"\"}},\"marker\":{\"colorbar\":{\"outlinewidth\":0,\"ticks\":\"\"}},\"type\":\"scatter3d\"}],\"scattercarpet\":[{\"marker\":{\"colorbar\":{\"outlinewidth\":0,\"ticks\":\"\"}},\"type\":\"scattercarpet\"}],\"scattergeo\":[{\"marker\":{\"colorbar\":{\"outlinewidth\":0,\"ticks\":\"\"}},\"type\":\"scattergeo\"}],\"scattergl\":[{\"marker\":{\"colorbar\":{\"outlinewidth\":0,\"ticks\":\"\"}},\"type\":\"scattergl\"}],\"scattermapbox\":[{\"marker\":{\"colorbar\":{\"outlinewidth\":0,\"ticks\":\"\"}},\"type\":\"scattermapbox\"}],\"scatterpolar\":[{\"marker\":{\"colorbar\":{\"outlinewidth\":0,\"ticks\":\"\"}},\"type\":\"scatterpolar\"}],\"scatterpolargl\":[{\"marker\":{\"colorbar\":{\"outlinewidth\":0,\"ticks\":\"\"}},\"type\":\"scatterpolargl\"}],\"scatterternary\":[{\"marker\":{\"colorbar\":{\"outlinewidth\":0,\"ticks\":\"\"}},\"type\":\"scatterternary\"}],\"surface\":[{\"colorbar\":{\"outlinewidth\":0,\"ticks\":\"\"},\"colorscale\":[[0.0,\"#0d0887\"],[0.1111111111111111,\"#46039f\"],[0.2222222222222222,\"#7201a8\"],[0.3333333333333333,\"#9c179e\"],[0.4444444444444444,\"#bd3786\"],[0.5555555555555556,\"#d8576b\"],[0.6666666666666666,\"#ed7953\"],[0.7777777777777778,\"#fb9f3a\"],[0.8888888888888888,\"#fdca26\"],[1.0,\"#f0f921\"]],\"type\":\"surface\"}],\"table\":[{\"cells\":{\"fill\":{\"color\":\"#EBF0F8\"},\"line\":{\"color\":\"white\"}},\"header\":{\"fill\":{\"color\":\"#C8D4E3\"},\"line\":{\"color\":\"white\"}},\"type\":\"table\"}]},\"layout\":{\"annotationdefaults\":{\"arrowcolor\":\"#2a3f5f\",\"arrowhead\":0,\"arrowwidth\":1},\"autotypenumbers\":\"strict\",\"coloraxis\":{\"colorbar\":{\"outlinewidth\":0,\"ticks\":\"\"}},\"colorscale\":{\"diverging\":[[0,\"#8e0152\"],[0.1,\"#c51b7d\"],[0.2,\"#de77ae\"],[0.3,\"#f1b6da\"],[0.4,\"#fde0ef\"],[0.5,\"#f7f7f7\"],[0.6,\"#e6f5d0\"],[0.7,\"#b8e186\"],[0.8,\"#7fbc41\"],[0.9,\"#4d9221\"],[1,\"#276419\"]],\"sequential\":[[0.0,\"#0d0887\"],[0.1111111111111111,\"#46039f\"],[0.2222222222222222,\"#7201a8\"],[0.3333333333333333,\"#9c179e\"],[0.4444444444444444,\"#bd3786\"],[0.5555555555555556,\"#d8576b\"],[0.6666666666666666,\"#ed7953\"],[0.7777777777777778,\"#fb9f3a\"],[0.8888888888888888,\"#fdca26\"],[1.0,\"#f0f921\"]],\"sequentialminus\":[[0.0,\"#0d0887\"],[0.1111111111111111,\"#46039f\"],[0.2222222222222222,\"#7201a8\"],[0.3333333333333333,\"#9c179e\"],[0.4444444444444444,\"#bd3786\"],[0.5555555555555556,\"#d8576b\"],[0.6666666666666666,\"#ed7953\"],[0.7777777777777778,\"#fb9f3a\"],[0.8888888888888888,\"#fdca26\"],[1.0,\"#f0f921\"]]},\"colorway\":[\"#636efa\",\"#EF553B\",\"#00cc96\",\"#ab63fa\",\"#FFA15A\",\"#19d3f3\",\"#FF6692\",\"#B6E880\",\"#FF97FF\",\"#FECB52\"],\"font\":{\"color\":\"#2a3f5f\"},\"geo\":{\"bgcolor\":\"white\",\"lakecolor\":\"white\",\"landcolor\":\"#E5ECF6\",\"showlakes\":true,\"showland\":true,\"subunitcolor\":\"white\"},\"hoverlabel\":{\"align\":\"left\"},\"hovermode\":\"closest\",\"mapbox\":{\"style\":\"light\"},\"paper_bgcolor\":\"white\",\"plot_bgcolor\":\"#E5ECF6\",\"polar\":{\"angularaxis\":{\"gridcolor\":\"white\",\"linecolor\":\"white\",\"ticks\":\"\"},\"bgcolor\":\"#E5ECF6\",\"radialaxis\":{\"gridcolor\":\"white\",\"linecolor\":\"white\",\"ticks\":\"\"}},\"scene\":{\"xaxis\":{\"backgroundcolor\":\"#E5ECF6\",\"gridcolor\":\"white\",\"gridwidth\":2,\"linecolor\":\"white\",\"showbackground\":true,\"ticks\":\"\",\"zerolinecolor\":\"white\"},\"yaxis\":{\"backgroundcolor\":\"#E5ECF6\",\"gridcolor\":\"white\",\"gridwidth\":2,\"linecolor\":\"white\",\"showbackground\":true,\"ticks\":\"\",\"zerolinecolor\":\"white\"},\"zaxis\":{\"backgroundcolor\":\"#E5ECF6\",\"gridcolor\":\"white\",\"gridwidth\":2,\"linecolor\":\"white\",\"showbackground\":true,\"ticks\":\"\",\"zerolinecolor\":\"white\"}},\"shapedefaults\":{\"line\":{\"color\":\"#2a3f5f\"}},\"ternary\":{\"aaxis\":{\"gridcolor\":\"white\",\"linecolor\":\"white\",\"ticks\":\"\"},\"baxis\":{\"gridcolor\":\"white\",\"linecolor\":\"white\",\"ticks\":\"\"},\"bgcolor\":\"#E5ECF6\",\"caxis\":{\"gridcolor\":\"white\",\"linecolor\":\"white\",\"ticks\":\"\"}},\"title\":{\"x\":0.05},\"xaxis\":{\"automargin\":true,\"gridcolor\":\"white\",\"linecolor\":\"white\",\"ticks\":\"\",\"title\":{\"standoff\":15},\"zerolinecolor\":\"white\",\"zerolinewidth\":2},\"yaxis\":{\"automargin\":true,\"gridcolor\":\"white\",\"linecolor\":\"white\",\"ticks\":\"\",\"title\":{\"standoff\":15},\"zerolinecolor\":\"white\",\"zerolinewidth\":2}}}},                        {\"responsive\": true}                    ).then(function(){\n",
       "                            \n",
       "var gd = document.getElementById('4d17506d-44ca-4662-8794-08c645359fa0');\n",
       "var x = new MutationObserver(function (mutations, observer) {{\n",
       "        var display = window.getComputedStyle(gd).display;\n",
       "        if (!display || display === 'none') {{\n",
       "            console.log([gd, 'removed!']);\n",
       "            Plotly.purge(gd);\n",
       "            observer.disconnect();\n",
       "        }}\n",
       "}});\n",
       "\n",
       "// Listen for the removal of the full notebook cells\n",
       "var notebookContainer = gd.closest('#notebook-container');\n",
       "if (notebookContainer) {{\n",
       "    x.observe(notebookContainer, {childList: true});\n",
       "}}\n",
       "\n",
       "// Listen for the clearing of the current output cell\n",
       "var outputEl = gd.closest('.output');\n",
       "if (outputEl) {{\n",
       "    x.observe(outputEl, {childList: true});\n",
       "}}\n",
       "\n",
       "                        })                };                });            </script>        </div>"
      ]
     },
     "metadata": {},
     "output_type": "display_data"
    }
   ],
   "source": [
    "def UpdateGraph(plotseries_in):\n",
    "    #result_ids = [1,262]\n",
    "    result_ids_plot = plotseries_in['id'].unique().tolist()\n",
    "    \n",
    "    plotseries_default, df_experiment_plot = CreatePlotSeries(result_ids_plot)\n",
    "    #plotseries_default_plot = CreatePlotSeriesDefault(df_experiment_all_plot)\n",
    "\n",
    "        # Create figure\n",
    "    fig3 = go.Figure()\n",
    "\n",
    "    for index, row in plotseries_in.iterrows():\n",
    "        trace_data = df_experiment_plot[(df_experiment_plot['id']==row['id']) & (df_experiment_plot['series']==row['series'])]\n",
    "\n",
    "    \n",
    "        trace2add = trace_data\n",
    "\n",
    "        trace_name = str(row['id']) + str(row['series'])\n",
    "        \n",
    "        fig3.add_trace(go.Scatter(x=trace2add['x'], y=trace2add['scaled_y'],\n",
    "                            mode='lines+markers', # 'lines' or 'markers'\n",
    "                            line=dict(width=4,dash=row['line'],color=row['color']),\n",
    "                            #showscale=False,\n",
    "                            marker_symbol=row['symbol'],\n",
    "                                 marker=dict(\n",
    "                                size=10,\n",
    "                                color=row['color'],#set color equal to a variable\n",
    "                                #colorscale='Viridis', # one of plotly colorscales\n",
    "                                showscale=False,\n",
    "                            ),\n",
    "                            legendgroup=str(row['id']),  # this can be any string, not just \"group\"\n",
    "                            legendgrouptitle_text=str(row['id']),\n",
    "                            name=str(row['series'])\n",
    "                                 ))\n",
    "\n",
    "        #fig3.add_trace(go.Scatter(x=trace2add['x'], y=trace2add['scaled_y'],\n",
    "        #                   mode='markers', # 'lines' or 'markers'\n",
    "        #                    marker_symbol=row['symbol'],\n",
    "        #                         marker=dict(\n",
    "        #                        size=10,\n",
    "        #                        color=row['color'],#set color equal to a variable\n",
    "        #                        #colorscale='Viridis', # one of plotly colorscales\n",
    "        #                        showscale=False,\n",
    "        #                    ),\n",
    "        #                    name=str(row['id'])))\n",
    "\n",
    "    return fig3\n",
    "#result_ids = [1,262]\n",
    "#fig5 = UpdateGraph(plotseries_default)\n",
    "#fig5.show()"
   ]
  },
  {
   "cell_type": "raw",
   "id": "1fbc7d6d",
   "metadata": {},
   "source": [
    "fig_legend.layout"
   ]
  },
  {
   "cell_type": "code",
   "execution_count": 101,
   "id": "0d0e278f",
   "metadata": {},
   "outputs": [],
   "source": [
    "def diff_dashtable(data, data_previous, row_id_name=\"id\"):\n",
    "\n",
    "    \"\"\"Generate a diff of Dash DataTable data.\n",
    "\n",
    "    Parameters\n",
    "    ----------\n",
    "    data: DataTable property (https://dash.plot.ly/datatable/reference)\n",
    "        The contents of the table (list of dicts)\n",
    "    data_previous: DataTable property\n",
    "        The previous state of `data` (list of dicts).\n",
    "\n",
    "    Returns\n",
    "    -------\n",
    "    A list of dictionaries in form of [{row_id_name:, column_name:, current_value:,\n",
    "        previous_value:}]\n",
    "    \"\"\"\n",
    "\n",
    "    df, df_previous = pd.DataFrame(data=data), pd.DataFrame(data_previous)\n",
    "\n",
    "    for _df in [df, df_previous]:\n",
    "\n",
    "        assert row_id_name in _df.columns\n",
    "\n",
    "        _df = _df.set_index(row_id_name)\n",
    "\n",
    "    mask = df.ne(df_previous)\n",
    "\n",
    "    df_diff = df[mask].dropna(how=\"all\", axis=\"columns\").dropna(how=\"all\", axis=\"rows\")\n",
    "\n",
    "    changes = []\n",
    "\n",
    "    for idx, row in df_diff.iterrows():\n",
    "\n",
    "        row_id = row.name\n",
    "\n",
    "        row.dropna(inplace=True)\n",
    "\n",
    "        for change in row.iteritems():\n",
    "\n",
    "            changes.append(\n",
    "                {\n",
    "                    row_id_name: row_id,\n",
    "                    \"column_name\": change[0],\n",
    "                    \"current_value\": change[1],\n",
    "                    \"previous_value\": df_previous.at[row_id, change[0]],\n",
    "                }\n",
    "            )\n",
    "\n",
    "    return changes\n"
   ]
  },
  {
   "cell_type": "code",
   "execution_count": 102,
   "id": "c8f118c9",
   "metadata": {},
   "outputs": [],
   "source": [
    "#color_dropdown = dcc.Dropdown(id='color-dropdown-id',options=color_options, value='red' )\n",
    "#line_dropdown = dcc.Dropdown(id='line-dropdown-id',options=line_styles_options, value='solid' )\n",
    "#symbol_dropdown = dcc.Dropdown(id='symbol-dropdown-id',options=symbol_options, value='diamond' )\n",
    "default_results = [1,262]\n",
    "plotseries, df_experiment_all = CreatePlotSeries(result_ids_in)\n",
    "default_table_div = CreateDefaultFormatTable(plotseries)\n",
    "default_graph_fig = UpdateGraph(plotseries)\n",
    "default_legend_fig = CreateLegendFig(plotseries)\n",
    "graph_out_graph = dcc.Graph(figure=default_graph_fig,id='graph_out_id')\n",
    "legend_out_graph = dcc.Graph(figure=default_legend_fig,id='legend_out_id')\n",
    "\n",
    "\n",
    "app.layout = html.Div([\n",
    "    dcc.Store(id=\"diff-store\"),\n",
    "    html.P(\"Changes to DataTable:\"),\n",
    "    html.Div(id=\"data-diff\"),\n",
    "    html.Button(\"Apply Changes\", id=\"button\"),\n",
    "    #color_dropdown,\n",
    "    #line_dropdown,\n",
    "    #symbol_dropdown,\n",
    "    graph_out_graph,\n",
    "    legend_out_graph,\n",
    "    default_table_div,\n",
    "    html.Div(id='dd-output-container')\n",
    "])\n",
    "\n",
    "#@app.callback(\n",
    "#    Output(\"diff-store\", \"data\"),\n",
    "#    #[Output('graph_out_id', 'figure')],\n",
    "#    #Input('format_table_id', 'rows')])\n",
    "#    # Input('format_table_id', 'selected_row_indices')])\n",
    "#     #Output('graph_out_graph', 'figure'),\n",
    "#    [Input('format_table_id', 'data'),\n",
    "#     Input('format_table_id', 'columns')],\n",
    "#     [State('format_table_id', 'active_cell')], prevent_initial_call=True\n",
    "#)\n",
    "@app.callback(\n",
    "    Output(\"diff-store\", \"data\"),\n",
    "    [Input(\"format_table_id\", \"data_timestamp\")],\n",
    "    [\n",
    "        State(\"format_table_id\", \"data\"),\n",
    "        State(\"format_table_id\", \"data_previous\"),\n",
    "        State(\"diff-store\", \"data\"),\n",
    "    ],\n",
    ")\n",
    "\n",
    "def capture_diffs(ts, data, data_previous, diff_store_data):\n",
    "\n",
    "    if ts is None:\n",
    "\n",
    "        raise PreventUpdate\n",
    "\n",
    "    diff_store_data = diff_store_data or {}\n",
    "\n",
    "    diff_store_data[ts] = diff_dashtable(data, data_previous)\n",
    "\n",
    "    return diff_store_data\n",
    "\n",
    "\n",
    "\n",
    "@app.callback(\n",
    "    [Output(\"data-diff\", \"children\"), Output(\"graph_out_id\",\"figure\"),Output(\"legend_out_id\",\"figure\"),],\n",
    "    #Output(\"graph_out_id\",\"figure\"),\n",
    "    [Input(\"button\", \"n_clicks\")],\n",
    "    [State(\"diff-store\", \"data\")],\n",
    ")\n",
    "def update_output(n_clicks, diff_store_data):\n",
    "\n",
    "    plotseries_plot = plotseries_default.copy()\n",
    "    \n",
    "    fig_out = go.Figure()\n",
    "\n",
    "    \n",
    "    if n_clicks is None:\n",
    "\n",
    "        raise PreventUpdate\n",
    "\n",
    "    if diff_store_data:\n",
    "\n",
    "        dt_changes = []\n",
    "\n",
    "        for v in diff_store_data.values():\n",
    "\n",
    "            dt_changes.append(f\"* {v}\")\n",
    "            # [{'id': 1, 'column_name': 'color', 'current_value': 'orange', 'previous_value': 'black'}]\n",
    "            try:\n",
    "                rowid = v[0]['id']\n",
    "                column_name = v[0]['column_name']\n",
    "                new_value = v[0]['current_value']\n",
    "                \n",
    "                plotseries_plot.loc[rowid, column_name] = new_value\n",
    "\n",
    "            except:\n",
    "                continue\n",
    "            \n",
    "            print(v)\n",
    "\n",
    "        text2return = [dcc.Markdown(change) for change in dt_changes]\n",
    "        #text2return = \"changes\"\n",
    "\n",
    "    else:\n",
    "\n",
    "        text2return = \"No Changes to DataTable\"\n",
    "    \n",
    "    \n",
    "    fig_out = UpdateGraph(plotseries_plot)\n",
    "    legend_out = CreateLegendFig(plotseries_plot)\n",
    "    \n",
    "    return text2return, fig_out, legend_out\n",
    "\n"
   ]
  },
  {
   "cell_type": "raw",
   "id": "686330f1",
   "metadata": {},
   "source": [
    "\n",
    "def update_figure(rows, columns, cell):#, selected_row_indices):\n",
    "    #ig1 = go.Figure()\n",
    "    #f = pd.DataFrame(rows)\n",
    "    if(rows == None or columns == None or cell == None):\n",
    "        raise PreventUpdate\n",
    "    print(rows[cell['row']])\n",
    "    raise PreventUpdate\n",
    "    return rows[cell['row']]\n",
    "    '''\n",
    "    for index, row in dff.iterrows():\n",
    "        trace_data = df_experiment_all[(df_experiment_all['id']==row['id']) & (df_experiment_all['series']==row['series'])]\n",
    "\n",
    "        line_color=color_list[1]\n",
    "        line_style = line_styles_list[1]\n",
    "\n",
    "        trace2add = trace_data\n",
    "        \n",
    "        fig1.add_trace(go.Scatter(x=trace2add['x'], y=trace2add['scaled_y'],\n",
    "                            mode='lines', # 'lines' or 'markers'\n",
    "                            line=dict(width=4,dash=line_style,color=row['color']),\n",
    "                            #showscale=False,\n",
    "                            name=i))\n",
    "        fig1.add_trace(go.Scatter(x=trace2add['x'], y=trace2add['scaled_y'],\n",
    "                            mode='markers', # 'lines' or 'markers'\n",
    "                            marker_symbol=symbol_list[1],\n",
    "                                 marker=dict(\n",
    "                                size=10,\n",
    "                                color=row['color'],#set color equal to a variable\n",
    "                                #colorscale='Viridis', # one of plotly colorscales\n",
    "                                showscale=False,\n",
    "                            ),\n",
    "                            name=i))\n",
    "\n",
    "    return fig1\n",
    "    '''\n",
    "\n",
    "#@app.callback(\n",
    "#    Output('dd-output-container', 'children'),\n",
    "#    Input('color-dropdown-id', 'value'),\n",
    "#    #Input('line-dropdown-id', 'value'),\n",
    "#    #Input('symbol-dropdown-id', 'value')\n",
    "#)\n",
    "#def update_output(chosen_color, chosen_line_style, chosen_symbol):\n",
    "#    return f'You have selected {chosen_color}'##, chosen_line_style, chosen_symbol}'\n"
   ]
  },
  {
   "cell_type": "code",
   "execution_count": 103,
   "id": "4096b2fd",
   "metadata": {},
   "outputs": [
    {
     "name": "stdout",
     "output_type": "stream",
     "text": [
      "Dash app running on http://0.0.0.0:5051/dash1/\n"
     ]
    }
   ],
   "source": [
    "#app.layout = layout10\n",
    "app.run_server(host=\"0.0.0.0\", port=5051, debug=True, use_reloader=False) "
   ]
  },
  {
   "cell_type": "code",
   "execution_count": 104,
   "id": "506beec0",
   "metadata": {},
   "outputs": [
    {
     "name": "stdout",
     "output_type": "stream",
     "text": [
      "[{'id': 1, 'column_name': 'line', 'current_value': 'dot', 'previous_value': 'solid'}]\n",
      "[{'id': 3, 'column_name': 'color', 'current_value': 'red', 'previous_value': 'black'}]\n",
      "[{'id': 1, 'column_name': 'line', 'current_value': 'dot', 'previous_value': 'solid'}]\n",
      "[{'id': 3, 'column_name': 'color', 'current_value': 'red', 'previous_value': 'black'}]\n",
      "[{'id': 0, 'column_name': 'color', 'current_value': 'orange', 'previous_value': 'black'}]\n"
     ]
    }
   ],
   "source": [
    "#app.run_server(host='0.0.0.0', port=5051)"
   ]
  },
  {
   "cell_type": "raw",
   "id": "2e4c7612",
   "metadata": {},
   "source": [
    "series_count = df_plot['series'].max()\n",
    "\n",
    "df_plot"
   ]
  },
  {
   "cell_type": "raw",
   "id": "44f2e7e4",
   "metadata": {},
   "source": [
    "limits_df.head(5)"
   ]
  },
  {
   "cell_type": "raw",
   "id": "a5af5ce7",
   "metadata": {},
   "source": [
    "dv = limits_df[limits_df['id']==100][['data_values']]\n",
    "oneid = limits_df[limits_df['id']==100]"
   ]
  },
  {
   "cell_type": "raw",
   "id": "cba24dab",
   "metadata": {},
   "source": [
    "allid = limits_df.copy()\n",
    "#limits_df.columns\n",
    "allid = allid[[\n",
    "'id',\n",
    "'data_values',         \n",
    "'data_comment',\n",
    "'data_label',\n",
    "'data_reference',\n",
    "'date_of_announcement',\n",
    "'date_of_run_end',\n",
    "'date_of_run_start',\n",
    "'default_color',\n",
    "'default_style',\n",
    "'experiment',\n",
    "'public',\n",
    "'result_type',\n",
    "'spin_dependency',\n",
    "'x_rescale',\n",
    "'x_units',\n",
    "'y_rescale',\n",
    "'y_units',\n",
    "'year']]\n",
    "allid.dtypes"
   ]
  },
  {
   "cell_type": "raw",
   "id": "028274b7",
   "metadata": {},
   "source": [
    "selected_id_set = [100]\n",
    "    \n",
    "#value_list = [\"apple\"]\n",
    "boolean_series = allid.id.isin(selected_id_set)\n",
    "\n",
    "filtered_df = allid[boolean_series]\n",
    "\n",
    "filtered_df"
   ]
  },
  {
   "cell_type": "raw",
   "id": "25d877c0",
   "metadata": {},
   "source": [
    "#plot_df.to_dict('records')\n",
    "df = pd.DataFrame([[1, 1.5]], columns=['int', 'float'])\n",
    "\n",
    "row = next(df.iterrows())[1]\n",
    "\n",
    "type(row)\n",
    "\n",
    "print(row)\n"
   ]
  },
  {
   "cell_type": "raw",
   "id": "20bf73ba",
   "metadata": {},
   "source": [
    "plot_df = allid\n",
    "#plot_df = oneid\n",
    "\n",
    "data_table = dash_table.DataTable(\n",
    "        id='datatable-row-ids',\n",
    "        columns=[\n",
    "            {'name': i, 'id': i, 'deletable': True} for i in plot_df.columns\n",
    "            # omit the id column\n",
    "            if i not in ['data_comment','spin_dependency', 'measurement_type', 'nomhash',\n",
    "       'x_units', 'y_units', 'x_rescale', 'y_rescale', 'default_color',\n",
    "       'default_style', 'data_values', 'file_name',\n",
    "        'created_at', 'updated_at',\n",
    "       'creator_id', 'rating', 'date_of_announcement', 'public',\n",
    "       'official', 'date_official', 'greatest_hit', 'date_of_run_start',\n",
    "       'date_of_run_end']\n",
    "        ],\n",
    "        data=plot_df.to_dict('records'),\n",
    "        editable=False,\n",
    "        filter_action=\"native\",\n",
    "        sort_action=\"native\",\n",
    "        sort_mode='multi',\n",
    "        row_selectable='single',\n",
    "        row_deletable=False,\n",
    "        selected_rows=[],\n",
    "        page_action='native',\n",
    "        page_current= 0,\n",
    "        page_size= 10,\n",
    "        derived_virtual_selected_row_ids=[],\n",
    "        selected_row_ids=[],\n",
    "        style_cell = {'font_family': 'Arial','font_size': '12px',},\n",
    "        style_data={'whiteSpace': 'normal','height': 'auto',},\n",
    "        style_cell_conditional=[\n",
    "            {'if': {'column_id': 'id'},\n",
    "             'width': '2%'},\n",
    "            {'if': {'column_id': 'data_label'},\n",
    "             'width': '50%'},\n",
    "            {'if': {'column_id': 'data_reference'},\n",
    "             'width': '20%'},\n",
    "            {'if': {'column_id': 'experiment'},\n",
    "             'width': '10%'},\n",
    "            {'if': {'column_id': 'year'},\n",
    "             'width': '5%'},\n",
    "        ],\n",
    "    )\n",
    "\n",
    "app.layout = html.Div([\n",
    "    data_table,\n",
    "    html.Div(id='datatable-row-ids-container')\n",
    "])\n",
    "\n",
    "\n",
    "\n",
    "@app.callback(\n",
    "    Output(component_id='datatable-row-ids-container', component_property='children'),\n",
    "    Input('datatable-row-ids', 'derived_virtual_row_ids'),\n",
    "    Input('datatable-row-ids', 'selected_row_ids'),\n",
    "    Input('datatable-row-ids', 'active_cell'))\n",
    "def update_graphs(row_ids, selected_row_ids, active_cell):\n",
    "    # When the table is first rendered, `derived_virtual_data` and\n",
    "    # `derived_virtual_selected_rows` will be `None`. This is due to an\n",
    "    # idiosyncrasy in Dash (unsupplied properties are always None and Dash\n",
    "    # calls the dependent callbacks when the component is first rendered).\n",
    "    # So, if `rows` is `None`, then the component was just rendered\n",
    "    # and its value will be the same as the component's dataframe.\n",
    "    # Instead of setting `None` in here, you could also set\n",
    "    # `derived_virtual_data=df.to_rows('dict')` when you initialize\n",
    "    # the component.\n",
    "    \n",
    "    #derived_virtual_data=data_df.to_dict('records')\n",
    "    \n",
    "    #selected_id_set = set(selected_row_ids or [])\n",
    "    \n",
    "    #value_list = [\"apple\"]\n",
    "\n",
    "    boolean_series = plot_df.id.isin(selected_row_ids)\n",
    "\n",
    "    filtered_df = plot_df[boolean_series].copy()\n",
    "    \n",
    "    #plot_df[plot_df['id']==100]\n",
    "\n",
    "    plot_data = datastring2dataframe(filtered_df.iloc[0]).copy()\n",
    "    \n",
    "    if row_ids is None:\n",
    "        dff = plot_data\n",
    "        # pandas Series works enough like a list for this to be OK\n",
    "        #row_ids = filtered_df['id']\n",
    "        row_ids = [0]\n",
    "    else:\n",
    "        #dff = data_df.loc[row_ids]\n",
    "        dff = plot_data\n",
    "    \n",
    "    \n",
    "    active_row_id = active_cell['row'] if active_cell else None\n",
    "    \n",
    "    #dc = filtered_df['data_comment'][0]\n",
    "    \n",
    "    #print(dc)\n",
    "    \n",
    "    fig = go.Figure(\n",
    "    data=[go.Scatter(x=dff['x'], y=dff['y'])],\n",
    "    layout=go.Layout(\n",
    "        #title=go.layout.Title(text=\"A Figure Specified By A Graph Object\")\n",
    "        ##title=go.layout.Title(text='y')\n",
    "        title=go.layout.Title(text=filtered_df['data_label'].iloc[0])\n",
    "        ##df_test['Btime'].iloc[0]\n",
    "    )\n",
    ")\n",
    "    \n",
    "    fig.update_xaxes(type=\"log\")\n",
    "    fig.update_yaxes(type=\"log\")\n",
    "    \n",
    "    fig.update_layout(\n",
    "    xaxis_title=filtered_df['x_units'].iloc[0],\n",
    "    yaxis_title=filtered_df['y_units'].iloc[0],\n",
    "    legend_title=\"Legend Title\",\n",
    "    font=dict(\n",
    "        family=\"Courier New, monospace\",\n",
    "        size=18,\n",
    "        color=\"RebeccaPurple\"\n",
    "    )\n",
    ")\n",
    "    \n",
    "    \n",
    "    graph = html.Div(children=[dcc.Graph(figure=fig)])\n",
    "    \n",
    "    \n",
    "    '''graph = html.Div(children=[dcc.Graph(\n",
    "            #id=column + '--row-ids',\n",
    "            figure={\n",
    "                'data': [\n",
    "                    {\n",
    "                        'x': dff['x'],\n",
    "                        'y': dff['y'],\n",
    "                        'type': 'scatter'#,\n",
    "                        #'marker': {'color': colors},\n",
    "                    }\n",
    "                ],\n",
    "                'layout': {\n",
    "                    'xaxis': {'automargin': True},\n",
    "                    'yaxis': {\n",
    "                        'automargin': True,\n",
    "                        'title': 'y',\n",
    "                    },\n",
    "                    'height': 250,\n",
    "                    'margin': {'t': 10, 'l': 10, 'r': 10},\n",
    "                },\n",
    "            },\n",
    "        )])'''\n",
    "        # check if column exists - user may have deleted it\n",
    "        # If `column.deletable=False`, then you don't\n",
    "        # need to do this check.\n",
    "        #for column in ['pop', 'lifeExp', 'gdpPercap'] if column in dff\n",
    "        #for column in ['data_values'] if column in dff\n",
    "    \n",
    "    return graph"
   ]
  },
  {
   "cell_type": "raw",
   "id": "546ea8a8",
   "metadata": {},
   "source": [
    "\n",
    "@app.callback(\n",
    "    Output(component_id='datatable-row-ids-container', component_property='children'),\n",
    "    Input('datatable-row-ids', 'derived_virtual_row_ids'),\n",
    "    Input('datatable-row-ids', 'selected_row_ids'),\n",
    "    Input('datatable-row-ids', 'active_cell'))\n",
    "def update_graphs(row_ids, selected_row_ids, active_cell):\n",
    "    # When the table is first rendered, `derived_virtual_data` and\n",
    "    # `derived_virtual_selected_rows` will be `None`. This is due to an\n",
    "    # idiosyncrasy in Dash (unsupplied properties are always None and Dash\n",
    "    # calls the dependent callbacks when the component is first rendered).\n",
    "    # So, if `rows` is `None`, then the component was just rendered\n",
    "    # and its value will be the same as the component's dataframe.\n",
    "    # Instead of setting `None` in here, you could also set\n",
    "    # `derived_virtual_data=df.to_rows('dict')` when you initialize\n",
    "    # the component.\n",
    "    \n",
    "    #derived_virtual_data=data_df.to_dict('records')\n",
    "    \n",
    "    #selected_id_set = set(selected_row_ids or [])\n",
    "    \n",
    "    #value_list = [\"apple\"]\n",
    "\n",
    "    boolean_series = plot_df.id.isin(selected_row_ids)\n",
    "\n",
    "    filtered_df = plot_df[boolean_series].copy()\n",
    "    \n",
    "    #plot_df[plot_df['id']==100]\n",
    "\n",
    "    plot_data = datastring2dataframe(filtered_df[['data_values']]).copy()\n",
    "    \n",
    "    '''if row_ids is None:\n",
    "        dff = plot_data\n",
    "        # pandas Series works enough like a list for this to be OK\n",
    "        #row_ids = filtered_df['id']\n",
    "        row_ids = [0]\n",
    "    else:\n",
    "        #dff = data_df.loc[row_ids]\n",
    "        dff = plot_data.loc[row_ids]\n",
    "    '''\n",
    "    \n",
    "    active_row_id = active_cell['row'] if active_cell else None\n",
    "    \n",
    "    #dc = filtered_df['data_comment'][0]\n",
    "    \n",
    "    fig = go.Figure(\n",
    "    data=[go.Scatter(x=dff['x'], y=dff['y'])],\n",
    "    layout=go.Layout(\n",
    "        title=go.layout.Title(text=\"A Figure Specified By A Graph Object\")\n",
    "        ##title=go.layout.Title(text='y')\n",
    "    )\n",
    ")\n",
    "    \n",
    "    \n",
    "    graph = html.Div(children=[dcc.Graph(figure=fig)])\n",
    "    \n",
    "    \n",
    "    '''graph = html.Div(children=[dcc.Graph(\n",
    "            #id=column + '--row-ids',\n",
    "            figure={\n",
    "                'data': [\n",
    "                    {\n",
    "                        'x': dff['x'],\n",
    "                        'y': dff['y'],\n",
    "                        'type': 'scatter'#,\n",
    "                        #'marker': {'color': colors},\n",
    "                    }\n",
    "                ],\n",
    "                'layout': {\n",
    "                    'xaxis': {'automargin': True},\n",
    "                    'yaxis': {\n",
    "                        'automargin': True,\n",
    "                        'title': 'y',\n",
    "                    },\n",
    "                    'height': 250,\n",
    "                    'margin': {'t': 10, 'l': 10, 'r': 10},\n",
    "                },\n",
    "            },\n",
    "        )])'''\n",
    "        # check if column exists - user may have deleted it\n",
    "        # If `column.deletable=False`, then you don't\n",
    "        # need to do this check.\n",
    "        #for column in ['pop', 'lifeExp', 'gdpPercap'] if column in dff\n",
    "        #for column in ['data_values'] if column in dff\n",
    "    \n",
    "    return graph"
   ]
  },
  {
   "cell_type": "code",
   "execution_count": 39,
   "id": "75dcc861",
   "metadata": {},
   "outputs": [],
   "source": [
    "#app.run_server(debug=True,host='0.0.0.0', port=5051)"
   ]
  },
  {
   "cell_type": "code",
   "execution_count": 40,
   "id": "5de98b6c",
   "metadata": {},
   "outputs": [],
   "source": [
    "#app.run_server(mode='jupyterlab', port = 5052, dev_tools_ui=True, #debug=True,\n",
    "#              dev_tools_hot_reload =True, threaded=True)#"
   ]
  },
  {
   "cell_type": "code",
   "execution_count": 41,
   "id": "d7cbd033",
   "metadata": {},
   "outputs": [],
   "source": [
    "#app.run_server(host=\"0.0.0.0\", port=5051)"
   ]
  },
  {
   "cell_type": "raw",
   "id": "f2799860",
   "metadata": {},
   "source": [
    "from dash import dcc\n",
    "import plotly.graph_objs as go\n",
    "\n",
    "fig = go.Figure(data=[go.Scatter(x=[1, 2, 3], y=[4, 1, 2])])\n",
    "\n",
    "graph = dcc.Graph(figure=fig)\n",
    "\n",
    "layout10 =  html.Div(graph)\n",
    "#app.layout = layout10\n",
    "#app.run_server(host=\"0.0.0.0\", port=5051, debug=True, use_reloader=False) "
   ]
  },
  {
   "cell_type": "code",
   "execution_count": 42,
   "id": "f1e2920f-bc1b-4c8a-a845-bd97adb08560",
   "metadata": {},
   "outputs": [],
   "source": [
    "#app.layout = layout10\n",
    "#app.run_server(host=\"0.0.0.0\", port=5051, debug=True, use_reloader=False) "
   ]
  },
  {
   "cell_type": "raw",
   "id": "cea1e932",
   "metadata": {},
   "source": [
    "mainpanel = html.Div(\n",
    "            [\n",
    "                html.Div(\n",
    "            [\n",
    "            #html.H3(children='Left Full Height'),\n",
    "                #graph,\n",
    "                dcc.Graph(id=\"graph_out\",style={'width': '80vh', 'height': '70vh'})\n",
    "            ],\n",
    "            style={\"height\":\"70vh\", \"width\": \"50vw\", \"background-color\":\"purple\", \"padding\":\"0px\"})\n",
    "            ],\n",
    "            className=\"col\", style={\"height\":\"70vh\",\"width\": \"50vw\", \"padding\":\"0px\"}##,\"background-color\":\"purple\"}\n",
    "        )\n",
    "\n",
    "rightrow1 =          html.Div(\n",
    "            [\n",
    "                html.Div(\n",
    "            [\n",
    "                html.H3(children='Panel 1'),\n",
    "                ],\n",
    "            className=\"short-div\", style={\"height\":\"35vh\",\"background-color\":\"green\"}\n",
    "        ), \n",
    "                 html.Div(\n",
    "            [\n",
    "                html.H3(children='Panel 2'),\n",
    "            ],\n",
    "            className=\"short-div\", style={\"height\":\"35vh\",\"background-color\":\"yellow\"}\n",
    "        ), \n",
    "            ],\n",
    "            className=\"col\", style={\"width\": \"30vw\",\"padding\":\"0px\",}\n",
    "        )\n",
    "\n",
    "rightrow2 = html.Div(\n",
    "            [\n",
    "                html.Div(\n",
    "            [\n",
    "                html.H3(children='Panel 3'),\n",
    "            ],\n",
    "            className=\"short-div\", style={\"height\":\"35vh\",\"background-color\":\"red\"}\n",
    "        ), \n",
    "                 html.Div(\n",
    "            [\n",
    "                html.H3(children='Panel 4'),\n",
    "            ],\n",
    "            className=\"short-div\", style={\"height\":\"35vh\",\"background-color\":\"blue\"}\n",
    "        ), \n",
    "            ],\n",
    "            className=\"col\", style={\"width\": \"30vw\", \"padding\":\"0px\"}\n",
    "        )\n",
    "\n",
    "layout6 =  html.Div(className=\"row\",children=[mainpanel,rightrow1,rightrow2,], style={\"padding\":\"0px\"})"
   ]
  },
  {
   "cell_type": "raw",
   "id": "e960a129",
   "metadata": {},
   "source": [
    "\n",
    "header_height, footer_height = \"5vh\", \"5vh\"\n",
    "sidebar_width, adbar_width = \"9vh\", \"9vh\"\n",
    "table_height = \"20vh\"\n",
    "headerplustable_height = \"25vh\"\n",
    "\n",
    "HEADER_STYLE = {\n",
    "    \"position\": \"fixed\",\n",
    "    \"top\": 0,\n",
    "    \"left\": 0,\n",
    "    \"right\": 0,\n",
    "    \"height\": header_height,\n",
    "    \"padding\": \"0rem 0rem\",\n",
    "    \"background-color\": \"lightblue\",\n",
    "}\n",
    "\n",
    "TABLE_STYLE = {\n",
    "    \"position\": \"fixed\",\n",
    "    \"top\": header_height,\n",
    "    \"margin-left\": sidebar_width,\n",
    "    \"margin-right\": adbar_width,\n",
    "    \"margin-bottom\": footer_height,\n",
    "    \"left\": 0,\n",
    "    \"right\": 0,\n",
    "    \"height\": table_height,\n",
    "    \"padding\": \"0rem 0rem\",\n",
    "    \"background-color\": \"white\",\n",
    "}\n",
    "\n",
    "SIDEBAR_STYLE = {\n",
    "    \"position\": \"fixed\",\n",
    "    \"top\": header_height,\n",
    "    \"left\": 0,\n",
    "    \"bottom\": footer_height,\n",
    "    \"width\": sidebar_width,\n",
    "    \"padding\": \"0rem 0rem\",\n",
    "    \"background-color\": \"lightgreen\",\n",
    "}\n",
    "\n",
    "ADBAR_STYLE = {\n",
    "    \"position\": \"fixed\",\n",
    "    \"top\": header_height,\n",
    "    \"right\": 0,\n",
    "    \"bottom\": footer_height,\n",
    "    \"width\": adbar_width,\n",
    "    \"padding\": \"0rem 0rem\",\n",
    "    \"background-color\": \"lightgreen\",\n",
    "}\n",
    "\n",
    "FOOTER_STYLE = {\n",
    "    \"position\": \"fixed\",\n",
    "    \"bottom\": 0,\n",
    "    \"left\": 0,\n",
    "    \"right\": 0,\n",
    "    \"height\": footer_height,\n",
    "    \"padding\": \"0rem 0rem\",\n",
    "    \"background-color\": \"gray\",\n",
    "}\n",
    "\n",
    "CONTENT_STYLE = {\n",
    "    \"position\": \"fixed\",\n",
    "    \"top\": headerplustable_height,\n",
    "    \"height\" : \"68vh\",\n",
    "    #\"margin-top\": headerplustable_height,\n",
    "    \"margin-left\": \"10vh\" , ## sidebar_width,\n",
    "    \"margin-right\": \"10vh\", # adbar_width,\n",
    "    \"margin-bottom\": footer_height,\n",
    "    \"padding\": \"0vh 0vh\",\n",
    "}\n",
    "\n",
    "header = html.Div([\n",
    "    html.P('Dashboard Template')], style=HEADER_STYLE,\n",
    ")\n",
    "\n",
    "fdivs = [html.P(\"ACG Data Engineering\")]\n",
    "footer = html.Div(fdivs, style=FOOTER_STYLE,)\n",
    "#footer = html.Div(filters, style=FOOTER_STYLE,)\n",
    "\n",
    "adbar = html.Div([\n",
    "    html.P('R')],\n",
    "    style=ADBAR_STYLE,\n",
    ")\n",
    "\n",
    "sidebar = html.Div(\n",
    "    [html.P(\"L\", className=\"lead\")],\n",
    "    #filters,\n",
    "    style=SIDEBAR_STYLE,\n",
    ")\n",
    "\n",
    "#cdivs = [html.P(\"content\")]\n",
    "cdivs = [layout6]\n",
    "\n",
    "\n",
    "\n",
    "content = html.Div(cdivs, style=CONTENT_STYLE)\n",
    "\n"
   ]
  },
  {
   "cell_type": "raw",
   "id": "1301fa94",
   "metadata": {},
   "source": [
    "tabledivs = html.Div([\n",
    "    data_table,\n",
    "    #html.Div(id='datatable-row-ids-container')\n",
    "])\n",
    "\n",
    "#tabledivs = [html.P(\"Table\")]\n",
    "table = html.Div(tabledivs,style=TABLE_STYLE,)"
   ]
  },
  {
   "cell_type": "raw",
   "id": "cf0aeb94",
   "metadata": {},
   "source": [
    "layout3 = html.Div([header, table, sidebar, adbar, content, footer])"
   ]
  },
  {
   "cell_type": "raw",
   "id": "f7b4e22a",
   "metadata": {},
   "source": [
    "app.layout = layout3\n",
    "\n",
    "\n",
    "@app.callback(\n",
    "    #Output(component_id='datatable-row-ids-container', component_property='children'),\n",
    "    Output('graph_out','figure'),\n",
    "    Input('datatable-row-ids', 'derived_virtual_row_ids'),\n",
    "    Input('datatable-row-ids', 'selected_row_ids'),\n",
    "    Input('datatable-row-ids', 'active_cell'))\n",
    "def update_graphs(row_ids, selected_row_ids, active_cell):\n",
    "    # When the table is first rendered, `derived_virtual_data` and\n",
    "    # `derived_virtual_selected_rows` will be `None`. This is due to an\n",
    "    # idiosyncrasy in Dash (unsupplied properties are always None and Dash\n",
    "    # calls the dependent callbacks when the component is first rendered).\n",
    "    # So, if `rows` is `None`, then the component was just rendered\n",
    "    # and its value will be the same as the component's dataframe.\n",
    "    # Instead of setting `None` in here, you could also set\n",
    "    # `derived_virtual_data=df.to_rows('dict')` when you initialize\n",
    "    # the component.\n",
    "    \n",
    "    #derived_virtual_data=data_df.to_dict('records')\n",
    "    \n",
    "    #selected_id_set = set(selected_row_ids or [])\n",
    "    \n",
    "    #value_list = [\"apple\"]\n",
    "\n",
    "    boolean_series = plot_df.id.isin(selected_row_ids)\n",
    "\n",
    "    filtered_df = plot_df[boolean_series].copy()\n",
    "    \n",
    "    #plot_df[plot_df['id']==100]\n",
    "\n",
    "    plot_data = datastring2dataframe(filtered_df.iloc[0]).copy()\n",
    "    \n",
    "    if row_ids is None:\n",
    "        dff = plot_data\n",
    "        # pandas Series works enough like a list for this to be OK\n",
    "        #row_ids = filtered_df['id']\n",
    "        row_ids = [0]\n",
    "    else:\n",
    "        #dff = data_df.loc[row_ids]\n",
    "        dff = plot_data\n",
    "    \n",
    "    \n",
    "    active_row_id = active_cell['row'] if active_cell else None\n",
    "    \n",
    "    #dc = filtered_df['data_comment'][0]\n",
    "    \n",
    "    #print(dc)\n",
    "    \n",
    "    fig = go.Figure(\n",
    "    data=[go.Scatter(x=dff['x'], y=dff['y'])],\n",
    "    layout=go.Layout(\n",
    "        #title=go.layout.Title(text=\"A Figure Specified By A Graph Object\")\n",
    "        ##title=go.layout.Title(text='y')\n",
    "        title=go.layout.Title(text=filtered_df['data_label'].iloc[0])\n",
    "        ##df_test['Btime'].iloc[0]\n",
    "    )\n",
    ")\n",
    "    \n",
    "    fig.update_xaxes(type=\"log\")\n",
    "    fig.update_yaxes(type=\"log\")\n",
    "    \n",
    "    fig.update_layout(\n",
    "    xaxis_title=filtered_df['x_units'].iloc[0],\n",
    "    yaxis_title=filtered_df['y_units'].iloc[0],\n",
    "    legend_title=\"Legend Title\",\n",
    "    font=dict(\n",
    "        family=\"Courier New, monospace\",\n",
    "        size=18,\n",
    "        color=\"RebeccaPurple\"\n",
    "    )\n",
    ")\n",
    "    \n",
    "    \n",
    "    #graph = html.Div(children=[dcc.Graph(figure=fig)])\n",
    "    \n",
    "    \n",
    "    '''graph = html.Div(children=[dcc.Graph(\n",
    "            #id=column + '--row-ids',\n",
    "            figure={\n",
    "                'data': [\n",
    "                    {\n",
    "                        'x': dff['x'],\n",
    "                        'y': dff['y'],\n",
    "                        'type': 'scatter'#,\n",
    "                        #'marker': {'color': colors},\n",
    "                    }\n",
    "                ],\n",
    "                'layout': {\n",
    "                    'xaxis': {'automargin': True},\n",
    "                    'yaxis': {\n",
    "                        'automargin': True,\n",
    "                        'title': 'y',\n",
    "                    },\n",
    "                    'height': 250,\n",
    "                    'margin': {'t': 10, 'l': 10, 'r': 10},\n",
    "                },\n",
    "            },\n",
    "        )])'''\n",
    "        # check if column exists - user may have deleted it\n",
    "        # If `column.deletable=False`, then you don't\n",
    "        # need to do this check.\n",
    "        #for column in ['pop', 'lifeExp', 'gdpPercap'] if column in dff\n",
    "        #for column in ['data_values'] if column in dff\n",
    "    \n",
    "    return fig\n"
   ]
  },
  {
   "cell_type": "raw",
   "id": "05cea97c",
   "metadata": {},
   "source": [
    "\n",
    "#app.config.suppress_callback_exceptions = True\n",
    "app.run_server(host=\"0.0.0.0\", port=5051, debug=True, use_reloader=False) "
   ]
  },
  {
   "cell_type": "code",
   "execution_count": null,
   "id": "ea99fb71-3174-4924-9c50-d0b71c2b3de2",
   "metadata": {},
   "outputs": [],
   "source": []
  }
 ],
 "metadata": {
  "kernelspec": {
   "display_name": "Python 3",
   "language": "python",
   "name": "python3"
  },
  "language_info": {
   "codemirror_mode": {
    "name": "ipython",
    "version": 3
   },
   "file_extension": ".py",
   "mimetype": "text/x-python",
   "name": "python",
   "nbconvert_exporter": "python",
   "pygments_lexer": "ipython3",
   "version": "3.8.10"
  }
 },
 "nbformat": 4,
 "nbformat_minor": 5
}
