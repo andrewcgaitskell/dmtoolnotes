{
  "nbformat": 4,
  "nbformat_minor": 0,
  "metadata": {
    "colab": {
      "name": "colab_dash.ipynb",
      "provenance": [],
      "include_colab_link": true
    },
    "kernelspec": {
      "name": "python3",
      "display_name": "Python 3"
    }
  },
  "cells": [
    {
      "cell_type": "markdown",
      "metadata": {
        "id": "view-in-github",
        "colab_type": "text"
      },
      "source": [
        "<a href=\"https://colab.research.google.com/github/andrewcgaitskell/dmtoolnotes/blob/main/colab_dash.ipynb\" target=\"_parent\"><img src=\"https://colab.research.google.com/assets/colab-badge.svg\" alt=\"Open In Colab\"/></a>"
      ]
    },
    {
      "metadata": {
        "id": "Cx62f5K4iM9p"
      },
      "cell_type": "markdown",
      "source": [
        "# Setup"
      ]
    },
    {
      "metadata": {
        "id": "i6kp2WyDiqA6"
      },
      "cell_type": "code",
      "source": [
        "%%sh\n",
        "pip install -q dash\n",
        "pip install -q dash_core_components\n",
        "pip install -q dash_html_components\n",
        "pip install -q dash_table"
      ],
      "execution_count": null,
      "outputs": []
    },
    {
      "metadata": {
        "id": "uuHS64aNk6oK"
      },
      "cell_type": "code",
      "source": [
        "#%%sh\n",
        "# get ngrok\n",
        "#curl -O https://bin.equinox.io/c/4VmDzA7iaHb/ngrok-stable-linux-amd64.zip\n",
        "#unzip ngrok-stable-linux-amd64.zip"
      ],
      "execution_count": null,
      "outputs": []
    },
    {
      "metadata": {
        "id": "QVb3TaoVtFom"
      },
      "cell_type": "markdown",
      "source": [
        "# Dash"
      ]
    },
    {
      "metadata": {
        "id": "TPwPq0JLtMVQ"
      },
      "cell_type": "code",
      "source": [
        "#%%writefile dash_app.py\n",
        "\n",
        "import dash\n",
        "import dash_core_components as dcc\n",
        "import dash_html_components as html\n",
        "\n",
        "external_stylesheets = ['https://codepen.io/chriddyp/pen/bWLwgP.css']\n",
        "\n",
        "app = dash.Dash(__name__)#, external_stylesheets=external_stylesheets)\n",
        "\n",
        "app.layout = html.Div(children=[\n",
        "    html.H1(children='Hello Dash'),\n",
        "\n",
        "    html.Div(children='''\n",
        "        Dash: A web application framework for Python.\n",
        "    '''),\n",
        "\n",
        "    dcc.Graph(\n",
        "        id='example-graph',\n",
        "        figure={\n",
        "            'data': [\n",
        "                {'x': [1, 2, 3], 'y': [4, 1, 2], 'type': 'bar', 'name': 'SF'},\n",
        "                {'x': [1, 2, 3], 'y': [2, 4, 5], 'type': 'bar', 'name': u'Montréal'},\n",
        "            ],\n",
        "            'layout': {\n",
        "                'title': 'Dash Data Visualization'\n",
        "            }\n",
        "        }\n",
        "    )\n",
        "])\n",
        "\n",
        "\n",
        "    "
      ],
      "execution_count": null,
      "outputs": []
    },
    {
      "cell_type": "code",
      "source": [
        "#if __name__ == '__main__':\n",
        "app.run_server(debug=True)"
      ],
      "metadata": {
        "id": "1vEB-I-UhrAi"
      },
      "execution_count": null,
      "outputs": []
    },
    {
      "metadata": {
        "id": "5hKnCayGlyd_"
      },
      "cell_type": "code",
      "source": [
        "# launch ngrok\n",
        "#get_ipython().system_raw('./ngrok http 8050 &')"
      ],
      "execution_count": null,
      "outputs": []
    },
    {
      "metadata": {
        "id": "UK2SIu8qsHPK"
      },
      "cell_type": "code",
      "source": [
        "#%%sh\n",
        "# get url with ngrok\n",
        "#curl -s http://localhost:4040/api/tunnels | python3 -c \"import sys, json; print(json.load(sys.stdin)['tunnels'][0]['public_url'])\""
      ],
      "execution_count": null,
      "outputs": []
    },
    {
      "metadata": {
        "id": "ycoF8TVXjos6"
      },
      "cell_type": "code",
      "source": [
        "#!python dash_app.py"
      ],
      "execution_count": null,
      "outputs": []
    },
    {
      "metadata": {
        "id": "TWJF-fKekaq0"
      },
      "cell_type": "code",
      "source": [
        ""
      ],
      "execution_count": null,
      "outputs": []
    }
  ]
}